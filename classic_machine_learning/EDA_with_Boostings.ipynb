{
  "nbformat": 4,
  "nbformat_minor": 0,
  "metadata": {
    "colab": {
      "provenance": []
    },
    "kernelspec": {
      "name": "python3",
      "display_name": "Python 3"
    },
    "language_info": {
      "name": "python"
    }
  },
  "cells": [
    {
      "cell_type": "markdown",
      "source": [
        "# 1️⃣ Описание задачи, установка и импорт необходимых библиотек"
      ],
      "metadata": {
        "id": "dHWh-ddAeQkb"
      }
    },
    {
      "cell_type": "markdown",
      "source": [
        "## 1️⃣ Постановка задачи"
      ],
      "metadata": {
        "id": "wJPubcrzgTzn"
      }
    },
    {
      "cell_type": "markdown",
      "source": [
        "Каршеринговая компания с крупным автопарком пользуется популярностью благодаря удобному сервису и хорошим метрикам. Однако, из-за активного износа и агрессивного вождения машин, они часто выходят из строя.\n",
        "\n",
        "Для предотвращения этого, главный бригадир ремонта предложил оптимизировать обход машин, используя прогнозирование вероятности поломок на основе исторических данных о поездках.\n",
        "\n",
        "С помощью команды Data Engineer'ов и Data Scientist'а компания планирует разработать систему, которая позволит эффективно обслуживать автопарк, фокусируясь на наиболее подверженных поломкам автомобилях."
      ],
      "metadata": {
        "id": "UhHOFA_5gdXg"
      }
    },
    {
      "cell_type": "markdown",
      "source": [
        "Описание некоторых признаков"
      ],
      "metadata": {
        "id": "ZHEybRgnqt3c"
      }
    },
    {
      "cell_type": "markdown",
      "source": [
        "*   `car_id`- идентификатор машины\n",
        "*   `model` / `car_type` / `fuel_type` - марка, класс и тип топлива машины;\n",
        "*   `car_rating` / `riders` - общий рейтинг  и общее число поездок к концу 2021-го кода;\n",
        "*   `year_to_start` / `year_to_work` - года выпуска машины и начала работы в автопарке;\n",
        "*   `main_city` - город пребывания машины (Москва или Питер);\n",
        "*   `target_reg` - количество дней до поломки."
      ],
      "metadata": {
        "id": "eK_iuFI-rKHl"
      }
    },
    {
      "cell_type": "markdown",
      "source": [
        "Основная задача: научиться максимально точно предсказывать количество дней до поломки через обучение трёх основных моделей градиентного бустинга: `CatBoost`, `LightGBM` и `XGBoost`."
      ],
      "metadata": {
        "id": "GEZjmc7qtcrJ"
      }
    },
    {
      "cell_type": "markdown",
      "source": [
        "## 2️⃣ Установка и импорт библиотек"
      ],
      "metadata": {
        "id": "EpDk1o8guPtE"
      }
    },
    {
      "cell_type": "code",
      "execution_count": null,
      "metadata": {
        "id": "fo5HxUqaeN9x"
      },
      "outputs": [],
      "source": [
        "!pip install catboost lightgbm xgboost category_encoders -q"
      ]
    },
    {
      "cell_type": "code",
      "source": [
        "import numpy as np\n",
        "import pandas as pd\n",
        "\n",
        "from tqdm import tqdm\n",
        "\n",
        "from sklearn.model_selection import train_test_split, KFold, cross_val_score\n",
        "from sklearn.metrics import mean_squared_error, make_scorer\n",
        "\n",
        "import seaborn as sns\n",
        "import matplotlib.pyplot as plt\n",
        "\n",
        "from sklearn.model_selection import RandomizedSearchCV\n",
        "from sklearn.metrics import mean_squared_error\n",
        "from sklearn.preprocessing import LabelEncoder\n",
        "\n",
        "from category_encoders.ordinal import OrdinalEncoder\n",
        "from category_encoders.target_encoder import TargetEncoder\n",
        "from category_encoders.leave_one_out import LeaveOneOutEncoder\n",
        "\n",
        "from sklearn.pipeline import Pipeline\n",
        "from sklearn.ensemble import RandomForestRegressor, GradientBoostingRegressor\n",
        "from sklearn.preprocessing import MinMaxScaler, StandardScaler, RobustScaler\n",
        "\n",
        "from catboost import CatBoostRegressor, Pool\n",
        "\n",
        "import lightgbm as lgb\n",
        "from lightgbm import Dataset, LGBMRegressor\n",
        "\n",
        "import xgboost as xgb\n",
        "from xgboost import XGBRegressor\n",
        "\n",
        "import warnings\n",
        "warnings.filterwarnings('ignore')\n",
        "\n",
        "import time\n",
        "\n",
        "RANDOM_STATE = 73"
      ],
      "metadata": {
        "id": "gCR8ufVIep-I"
      },
      "execution_count": null,
      "outputs": []
    },
    {
      "cell_type": "code",
      "source": [
        "# результаты скорингов моделей\n",
        "\n",
        "results = []"
      ],
      "metadata": {
        "id": "HttCFEE6NIGs"
      },
      "execution_count": null,
      "outputs": []
    },
    {
      "cell_type": "markdown",
      "source": [
        "Определим сразу все функции, которыми мы будем неоднократно пользоваться."
      ],
      "metadata": {
        "id": "qRAbUC49NAKE"
      }
    },
    {
      "cell_type": "code",
      "source": [
        "# определение функции для вычисления RMSE\n",
        "def rmse(y_true, y_pred):\n",
        "    return -np.sqrt(mean_squared_error(y_true, y_pred))\n",
        "\n",
        "rmse_scorer = make_scorer(rmse, greater_is_better=False)"
      ],
      "metadata": {
        "id": "woobWwiSEJiP"
      },
      "execution_count": null,
      "outputs": []
    },
    {
      "cell_type": "code",
      "source": [
        "# основная функция для тренировки сразу всех трёх моделей бустинга\n",
        "\n",
        "def train_model(algorithm,\n",
        "                X,\n",
        "                y,\n",
        "                early_stopping_rounds=150,\n",
        "                init_params={},\n",
        "                log_y=False,\n",
        "                random_seed=RANDOM_STATE):\n",
        "\n",
        "    scores = []\n",
        "\n",
        "    kf = KFold(n_splits=3, shuffle=True, random_state=RANDOM_STATE)\n",
        "\n",
        "    cat_cols = X.columns[X.dtypes == 'object']\n",
        "    cat_cols_idx = [i for i, dtype in enumerate(X.dtypes) if dtype == 'object']\n",
        "\n",
        "    for num_fold, (train_index, val_index) in enumerate(kf.split(X)):\n",
        "\n",
        "        X_train, X_val = X.iloc[train_index], X.iloc[val_index]\n",
        "        y_train, y_val = y[train_index], y[val_index]\n",
        "\n",
        "        if algorithm != 'CatBoostRegressor':\n",
        "\n",
        "            if algorithm == 'XGBoost':\n",
        "\n",
        "                train_data = xgb.DMatrix(X_train, label=y_train)\n",
        "                eval_data = xgb.DMatrix(X_val, label=y_val)\n",
        "\n",
        "                if len(init_params) == 0:\n",
        "                    init_params = {'boosting_type': 'goss',\n",
        "                                   'random_state': random_seed}\n",
        "\n",
        "                model = xgb.train(params=init_params,\n",
        "                                  dtrain=train_data,\n",
        "                                  evals=[(train_data, 'dtrain'),\n",
        "                                  (eval_data, 'dtest')],\n",
        "                                  verbose_eval=False,\n",
        "                                  early_stopping_rounds=early_stopping_rounds)\n",
        "\n",
        "                X_val = eval_data\n",
        "\n",
        "            else:\n",
        "                train_data = lgb.Dataset(X_train, label=y_train)\n",
        "                eval_data = lgb.Dataset(X_val, label=y_val,\n",
        "                                        reference=train_data)\n",
        "\n",
        "                if len(init_params) == 0:\n",
        "                    init_params = {'booster': 'dart',\n",
        "                                   'random_state': random_seed}\n",
        "\n",
        "                model = lgb.train(params=init_params,\n",
        "                                  train_set=train_data,\n",
        "                                  valid_sets=(eval_data),\n",
        "                                  categorical_feature=cat_cols)\n",
        "\n",
        "        else:\n",
        "\n",
        "            train_data = Pool(data=X_train, label=y_train,\n",
        "                              cat_features=cat_cols_idx)\n",
        "            eval_data = Pool(data=X_val, label=y_val,\n",
        "                             cat_features=cat_cols_idx)\n",
        "\n",
        "            model = CatBoostRegressor(verbose=0,\n",
        "                                      random_state=random_seed,\n",
        "                                      cat_features=cat_cols_idx,\n",
        "                                      **init_params)\n",
        "\n",
        "            model.fit(train_data,\n",
        "                      eval_set=eval_data,\n",
        "                      early_stopping_rounds=early_stopping_rounds)\n",
        "        if not log_y:\n",
        "            y_pred = model.predict(X_val)\n",
        "            rmse_score = mean_squared_error(y_val, y_pred) ** 0.5\n",
        "        else:\n",
        "            y_pred = np.exp(model.predict(X_val))\n",
        "            rmse_score = mean_squared_error(np.exp(y_val), y_pred) ** 0.5\n",
        "        scores.append(rmse_score)\n",
        "\n",
        "    return np.round(np.mean(scores), 5), model"
      ],
      "metadata": {
        "id": "nbgZqEWzdkTE"
      },
      "execution_count": null,
      "outputs": []
    },
    {
      "cell_type": "code",
      "source": [
        "# функция для кодировки категориальных признаков и масштабирования данных\n",
        "\n",
        "def encoder_scaler(X, y, encoder, scaler):\n",
        "\n",
        "    cat_cols = X.columns[X.dtypes == 'object']\n",
        "\n",
        "    encoders = {'OrdinalEncoder': OrdinalEncoder(cols=cat_cols),\n",
        "                'TargetEncoder': TargetEncoder(cols=cat_cols),\n",
        "                'LeaveOneOutEncoder': LeaveOneOutEncoder(cols=cat_cols)}\n",
        "\n",
        "    scalers = {'MinMaxScaler': MinMaxScaler(),\n",
        "               'StandardScaler': StandardScaler(),\n",
        "               'RobustScaler': RobustScaler()}\n",
        "\n",
        "    transformer = Pipeline([\n",
        "       ('encoder_', encoders[encoder]),\n",
        "       ('scaler_', scalers[scaler])\n",
        "       ])\n",
        "\n",
        "    transformed_data = pd.DataFrame(transformer.fit_transform(X, y),\n",
        "                                    columns=transformer.named_steps['encoder_']\n",
        "                                    .get_feature_names_out())\n",
        "\n",
        "    return transformed_data"
      ],
      "metadata": {
        "id": "ky9v1MeYdmpj"
      },
      "execution_count": null,
      "outputs": []
    },
    {
      "cell_type": "code",
      "source": [
        "# функция для выполнения первичного baseline предсказания\n",
        "\n",
        "def make_baseline_prediction(X, y, log_y=False):\n",
        "    models = ['XGBoost', 'LightGBM', 'CatBoostRegressor']\n",
        "    encoders = ['OrdinalEncoder', 'TargetEncoder', 'LeaveOneOutEncoder']\n",
        "    scalers = ['MinMaxScaler', 'StandardScaler', 'RobustScaler']\n",
        "\n",
        "    models_score = []\n",
        "\n",
        "    for model in models:\n",
        "        for encoder in encoders:\n",
        "            for scaler in scalers:\n",
        "                X = encoder_scaler(X, y, encoder, scaler)\n",
        "                RMSE_score, _ = train_model(model, X, y, log_y=log_y)\n",
        "                models_score.append((model, encoder, scaler, RMSE_score))\n",
        "\n",
        "    RMSE_score_catboost_default, _ = train_model('CatBoostRegressor', X, y, log_y=log_y)\n",
        "    models_score.append(('CatBoostRegressor',\n",
        "                         'no','no',\n",
        "                         RMSE_score_catboost_default))\n",
        "\n",
        "    return models_score"
      ],
      "metadata": {
        "id": "cdip2ss_yFTl"
      },
      "execution_count": null,
      "outputs": []
    },
    {
      "cell_type": "code",
      "source": [
        "# функция для подбора оптимальных гиперпараметров модели\n",
        "\n",
        "def RandomSearchCV(X, y, param_grid, model, n_iter=30):\n",
        "\n",
        "    grid_search = RandomizedSearchCV(model,\n",
        "                                     param_distributions=param_grid,\n",
        "                                     n_iter=n_iter,\n",
        "                                     cv=3,\n",
        "                                     scoring=rmse_scorer)\n",
        "    grid_search.fit(X, y)\n",
        "\n",
        "    best_params = grid_search.best_params_\n",
        "    best_score = grid_search.best_score_\n",
        "    return best_params, best_score"
      ],
      "metadata": {
        "id": "Oup1fLFFy44A"
      },
      "execution_count": null,
      "outputs": []
    },
    {
      "cell_type": "markdown",
      "source": [
        "# 2️⃣  Разведочный анализ данных (EDA), подготовка к обучению"
      ],
      "metadata": {
        "id": "QrOu04p2u1lk"
      }
    },
    {
      "cell_type": "markdown",
      "source": [
        "## 1️⃣ Загрузка датасетов и исследование данных"
      ],
      "metadata": {
        "id": "eyuRPpDbe5Z2"
      }
    },
    {
      "cell_type": "code",
      "source": [
        "train_df = pd.read_csv('https://raw.githubusercontent.com/a-milenkin/Competitive_Data_Science/main/data/quickstart_train.csv')\n",
        "test_df = pd.read_csv('https://raw.githubusercontent.com/a-milenkin/Competitive_Data_Science/main/data/quickstart_test.csv')\n",
        "\n",
        "RANDOM_STATE = 73 # зафиксируем случайность"
      ],
      "metadata": {
        "id": "AGHifIoWe3u5"
      },
      "execution_count": null,
      "outputs": []
    },
    {
      "cell_type": "code",
      "source": [
        "train_df = train_df.drop(['target_class', 'car_id', 'deviation_normal_count'], axis=1) # удалим ненужные признаки\n",
        "\n",
        "# выделим категориальне и числовые признаки\n",
        "cat_cols = train_df.columns[train_df.dtypes == 'object']\n",
        "num_cols = train_df.columns[train_df.dtypes != 'object']\n",
        "\n",
        "cat_cols_idx = [i for i, dtype in enumerate(train_df.dtypes) if dtype == 'object']\n",
        "num_cols_idx = [i for i, dtype in enumerate(train_df.dtypes) if dtype != 'object']"
      ],
      "metadata": {
        "id": "7MgTqluTAsmF"
      },
      "execution_count": null,
      "outputs": []
    },
    {
      "cell_type": "code",
      "source": [
        "train_df.head()"
      ],
      "metadata": {
        "colab": {
          "base_uri": "https://localhost:8080/",
          "height": 313
        },
        "id": "WKC3At9QfJIX",
        "outputId": "d8436ebb-4f0d-41f2-d576-7152ab026c30"
      },
      "execution_count": null,
      "outputs": [
        {
          "output_type": "execute_result",
          "data": {
            "text/plain": [
              "               model  car_type fuel_type  car_rating  year_to_start  riders  \\\n",
              "0     Kia Rio X-line   economy    petrol        3.78           2015   76163   \n",
              "1         VW Polo VI   economy    petrol        3.90           2015   78218   \n",
              "2    Renault Sandero  standart    petrol        6.30           2012   23340   \n",
              "3  Mercedes-Benz GLC  business    petrol        4.04           2011    1263   \n",
              "4    Renault Sandero  standart    petrol        4.70           2012   26428   \n",
              "\n",
              "   year_to_work  target_reg  mean_rating  distance_sum  rating_min  \\\n",
              "0          2021      109.99     4.737759  1.214131e+07         0.1   \n",
              "1          2021       34.48     4.480517  1.803909e+07         0.0   \n",
              "2          2017       34.93     4.768391  1.588366e+07         0.1   \n",
              "3          2020       32.22     3.880920  1.651883e+07         0.1   \n",
              "4          2017       27.51     4.181149  1.398317e+07         0.1   \n",
              "\n",
              "    speed_max  user_ride_quality_median  user_uniq  \n",
              "0  180.855726                  0.023174        170  \n",
              "1  187.862734                 12.306011        174  \n",
              "2  102.382857                  2.513319        173  \n",
              "3  172.793237                 -5.029476        170  \n",
              "4  203.462289                -14.260456        171  "
            ],
            "text/html": [
              "\n",
              "  <div id=\"df-95b7b2a6-5a6b-4e45-94d8-c2de7e62b5a6\" class=\"colab-df-container\">\n",
              "    <div>\n",
              "<style scoped>\n",
              "    .dataframe tbody tr th:only-of-type {\n",
              "        vertical-align: middle;\n",
              "    }\n",
              "\n",
              "    .dataframe tbody tr th {\n",
              "        vertical-align: top;\n",
              "    }\n",
              "\n",
              "    .dataframe thead th {\n",
              "        text-align: right;\n",
              "    }\n",
              "</style>\n",
              "<table border=\"1\" class=\"dataframe\">\n",
              "  <thead>\n",
              "    <tr style=\"text-align: right;\">\n",
              "      <th></th>\n",
              "      <th>model</th>\n",
              "      <th>car_type</th>\n",
              "      <th>fuel_type</th>\n",
              "      <th>car_rating</th>\n",
              "      <th>year_to_start</th>\n",
              "      <th>riders</th>\n",
              "      <th>year_to_work</th>\n",
              "      <th>target_reg</th>\n",
              "      <th>mean_rating</th>\n",
              "      <th>distance_sum</th>\n",
              "      <th>rating_min</th>\n",
              "      <th>speed_max</th>\n",
              "      <th>user_ride_quality_median</th>\n",
              "      <th>user_uniq</th>\n",
              "    </tr>\n",
              "  </thead>\n",
              "  <tbody>\n",
              "    <tr>\n",
              "      <th>0</th>\n",
              "      <td>Kia Rio X-line</td>\n",
              "      <td>economy</td>\n",
              "      <td>petrol</td>\n",
              "      <td>3.78</td>\n",
              "      <td>2015</td>\n",
              "      <td>76163</td>\n",
              "      <td>2021</td>\n",
              "      <td>109.99</td>\n",
              "      <td>4.737759</td>\n",
              "      <td>1.214131e+07</td>\n",
              "      <td>0.1</td>\n",
              "      <td>180.855726</td>\n",
              "      <td>0.023174</td>\n",
              "      <td>170</td>\n",
              "    </tr>\n",
              "    <tr>\n",
              "      <th>1</th>\n",
              "      <td>VW Polo VI</td>\n",
              "      <td>economy</td>\n",
              "      <td>petrol</td>\n",
              "      <td>3.90</td>\n",
              "      <td>2015</td>\n",
              "      <td>78218</td>\n",
              "      <td>2021</td>\n",
              "      <td>34.48</td>\n",
              "      <td>4.480517</td>\n",
              "      <td>1.803909e+07</td>\n",
              "      <td>0.0</td>\n",
              "      <td>187.862734</td>\n",
              "      <td>12.306011</td>\n",
              "      <td>174</td>\n",
              "    </tr>\n",
              "    <tr>\n",
              "      <th>2</th>\n",
              "      <td>Renault Sandero</td>\n",
              "      <td>standart</td>\n",
              "      <td>petrol</td>\n",
              "      <td>6.30</td>\n",
              "      <td>2012</td>\n",
              "      <td>23340</td>\n",
              "      <td>2017</td>\n",
              "      <td>34.93</td>\n",
              "      <td>4.768391</td>\n",
              "      <td>1.588366e+07</td>\n",
              "      <td>0.1</td>\n",
              "      <td>102.382857</td>\n",
              "      <td>2.513319</td>\n",
              "      <td>173</td>\n",
              "    </tr>\n",
              "    <tr>\n",
              "      <th>3</th>\n",
              "      <td>Mercedes-Benz GLC</td>\n",
              "      <td>business</td>\n",
              "      <td>petrol</td>\n",
              "      <td>4.04</td>\n",
              "      <td>2011</td>\n",
              "      <td>1263</td>\n",
              "      <td>2020</td>\n",
              "      <td>32.22</td>\n",
              "      <td>3.880920</td>\n",
              "      <td>1.651883e+07</td>\n",
              "      <td>0.1</td>\n",
              "      <td>172.793237</td>\n",
              "      <td>-5.029476</td>\n",
              "      <td>170</td>\n",
              "    </tr>\n",
              "    <tr>\n",
              "      <th>4</th>\n",
              "      <td>Renault Sandero</td>\n",
              "      <td>standart</td>\n",
              "      <td>petrol</td>\n",
              "      <td>4.70</td>\n",
              "      <td>2012</td>\n",
              "      <td>26428</td>\n",
              "      <td>2017</td>\n",
              "      <td>27.51</td>\n",
              "      <td>4.181149</td>\n",
              "      <td>1.398317e+07</td>\n",
              "      <td>0.1</td>\n",
              "      <td>203.462289</td>\n",
              "      <td>-14.260456</td>\n",
              "      <td>171</td>\n",
              "    </tr>\n",
              "  </tbody>\n",
              "</table>\n",
              "</div>\n",
              "    <div class=\"colab-df-buttons\">\n",
              "\n",
              "  <div class=\"colab-df-container\">\n",
              "    <button class=\"colab-df-convert\" onclick=\"convertToInteractive('df-95b7b2a6-5a6b-4e45-94d8-c2de7e62b5a6')\"\n",
              "            title=\"Convert this dataframe to an interactive table.\"\n",
              "            style=\"display:none;\">\n",
              "\n",
              "  <svg xmlns=\"http://www.w3.org/2000/svg\" height=\"24px\" viewBox=\"0 -960 960 960\">\n",
              "    <path d=\"M120-120v-720h720v720H120Zm60-500h600v-160H180v160Zm220 220h160v-160H400v160Zm0 220h160v-160H400v160ZM180-400h160v-160H180v160Zm440 0h160v-160H620v160ZM180-180h160v-160H180v160Zm440 0h160v-160H620v160Z\"/>\n",
              "  </svg>\n",
              "    </button>\n",
              "\n",
              "  <style>\n",
              "    .colab-df-container {\n",
              "      display:flex;\n",
              "      gap: 12px;\n",
              "    }\n",
              "\n",
              "    .colab-df-convert {\n",
              "      background-color: #E8F0FE;\n",
              "      border: none;\n",
              "      border-radius: 50%;\n",
              "      cursor: pointer;\n",
              "      display: none;\n",
              "      fill: #1967D2;\n",
              "      height: 32px;\n",
              "      padding: 0 0 0 0;\n",
              "      width: 32px;\n",
              "    }\n",
              "\n",
              "    .colab-df-convert:hover {\n",
              "      background-color: #E2EBFA;\n",
              "      box-shadow: 0px 1px 2px rgba(60, 64, 67, 0.3), 0px 1px 3px 1px rgba(60, 64, 67, 0.15);\n",
              "      fill: #174EA6;\n",
              "    }\n",
              "\n",
              "    .colab-df-buttons div {\n",
              "      margin-bottom: 4px;\n",
              "    }\n",
              "\n",
              "    [theme=dark] .colab-df-convert {\n",
              "      background-color: #3B4455;\n",
              "      fill: #D2E3FC;\n",
              "    }\n",
              "\n",
              "    [theme=dark] .colab-df-convert:hover {\n",
              "      background-color: #434B5C;\n",
              "      box-shadow: 0px 1px 3px 1px rgba(0, 0, 0, 0.15);\n",
              "      filter: drop-shadow(0px 1px 2px rgba(0, 0, 0, 0.3));\n",
              "      fill: #FFFFFF;\n",
              "    }\n",
              "  </style>\n",
              "\n",
              "    <script>\n",
              "      const buttonEl =\n",
              "        document.querySelector('#df-95b7b2a6-5a6b-4e45-94d8-c2de7e62b5a6 button.colab-df-convert');\n",
              "      buttonEl.style.display =\n",
              "        google.colab.kernel.accessAllowed ? 'block' : 'none';\n",
              "\n",
              "      async function convertToInteractive(key) {\n",
              "        const element = document.querySelector('#df-95b7b2a6-5a6b-4e45-94d8-c2de7e62b5a6');\n",
              "        const dataTable =\n",
              "          await google.colab.kernel.invokeFunction('convertToInteractive',\n",
              "                                                    [key], {});\n",
              "        if (!dataTable) return;\n",
              "\n",
              "        const docLinkHtml = 'Like what you see? Visit the ' +\n",
              "          '<a target=\"_blank\" href=https://colab.research.google.com/notebooks/data_table.ipynb>data table notebook</a>'\n",
              "          + ' to learn more about interactive tables.';\n",
              "        element.innerHTML = '';\n",
              "        dataTable['output_type'] = 'display_data';\n",
              "        await google.colab.output.renderOutput(dataTable, element);\n",
              "        const docLink = document.createElement('div');\n",
              "        docLink.innerHTML = docLinkHtml;\n",
              "        element.appendChild(docLink);\n",
              "      }\n",
              "    </script>\n",
              "  </div>\n",
              "\n",
              "\n",
              "<div id=\"df-02b459e0-f6a6-4796-83f4-3fc9020b049d\">\n",
              "  <button class=\"colab-df-quickchart\" onclick=\"quickchart('df-02b459e0-f6a6-4796-83f4-3fc9020b049d')\"\n",
              "            title=\"Suggest charts\"\n",
              "            style=\"display:none;\">\n",
              "\n",
              "<svg xmlns=\"http://www.w3.org/2000/svg\" height=\"24px\"viewBox=\"0 0 24 24\"\n",
              "     width=\"24px\">\n",
              "    <g>\n",
              "        <path d=\"M19 3H5c-1.1 0-2 .9-2 2v14c0 1.1.9 2 2 2h14c1.1 0 2-.9 2-2V5c0-1.1-.9-2-2-2zM9 17H7v-7h2v7zm4 0h-2V7h2v10zm4 0h-2v-4h2v4z\"/>\n",
              "    </g>\n",
              "</svg>\n",
              "  </button>\n",
              "\n",
              "<style>\n",
              "  .colab-df-quickchart {\n",
              "      --bg-color: #E8F0FE;\n",
              "      --fill-color: #1967D2;\n",
              "      --hover-bg-color: #E2EBFA;\n",
              "      --hover-fill-color: #174EA6;\n",
              "      --disabled-fill-color: #AAA;\n",
              "      --disabled-bg-color: #DDD;\n",
              "  }\n",
              "\n",
              "  [theme=dark] .colab-df-quickchart {\n",
              "      --bg-color: #3B4455;\n",
              "      --fill-color: #D2E3FC;\n",
              "      --hover-bg-color: #434B5C;\n",
              "      --hover-fill-color: #FFFFFF;\n",
              "      --disabled-bg-color: #3B4455;\n",
              "      --disabled-fill-color: #666;\n",
              "  }\n",
              "\n",
              "  .colab-df-quickchart {\n",
              "    background-color: var(--bg-color);\n",
              "    border: none;\n",
              "    border-radius: 50%;\n",
              "    cursor: pointer;\n",
              "    display: none;\n",
              "    fill: var(--fill-color);\n",
              "    height: 32px;\n",
              "    padding: 0;\n",
              "    width: 32px;\n",
              "  }\n",
              "\n",
              "  .colab-df-quickchart:hover {\n",
              "    background-color: var(--hover-bg-color);\n",
              "    box-shadow: 0 1px 2px rgba(60, 64, 67, 0.3), 0 1px 3px 1px rgba(60, 64, 67, 0.15);\n",
              "    fill: var(--button-hover-fill-color);\n",
              "  }\n",
              "\n",
              "  .colab-df-quickchart-complete:disabled,\n",
              "  .colab-df-quickchart-complete:disabled:hover {\n",
              "    background-color: var(--disabled-bg-color);\n",
              "    fill: var(--disabled-fill-color);\n",
              "    box-shadow: none;\n",
              "  }\n",
              "\n",
              "  .colab-df-spinner {\n",
              "    border: 2px solid var(--fill-color);\n",
              "    border-color: transparent;\n",
              "    border-bottom-color: var(--fill-color);\n",
              "    animation:\n",
              "      spin 1s steps(1) infinite;\n",
              "  }\n",
              "\n",
              "  @keyframes spin {\n",
              "    0% {\n",
              "      border-color: transparent;\n",
              "      border-bottom-color: var(--fill-color);\n",
              "      border-left-color: var(--fill-color);\n",
              "    }\n",
              "    20% {\n",
              "      border-color: transparent;\n",
              "      border-left-color: var(--fill-color);\n",
              "      border-top-color: var(--fill-color);\n",
              "    }\n",
              "    30% {\n",
              "      border-color: transparent;\n",
              "      border-left-color: var(--fill-color);\n",
              "      border-top-color: var(--fill-color);\n",
              "      border-right-color: var(--fill-color);\n",
              "    }\n",
              "    40% {\n",
              "      border-color: transparent;\n",
              "      border-right-color: var(--fill-color);\n",
              "      border-top-color: var(--fill-color);\n",
              "    }\n",
              "    60% {\n",
              "      border-color: transparent;\n",
              "      border-right-color: var(--fill-color);\n",
              "    }\n",
              "    80% {\n",
              "      border-color: transparent;\n",
              "      border-right-color: var(--fill-color);\n",
              "      border-bottom-color: var(--fill-color);\n",
              "    }\n",
              "    90% {\n",
              "      border-color: transparent;\n",
              "      border-bottom-color: var(--fill-color);\n",
              "    }\n",
              "  }\n",
              "</style>\n",
              "\n",
              "  <script>\n",
              "    async function quickchart(key) {\n",
              "      const quickchartButtonEl =\n",
              "        document.querySelector('#' + key + ' button');\n",
              "      quickchartButtonEl.disabled = true;  // To prevent multiple clicks.\n",
              "      quickchartButtonEl.classList.add('colab-df-spinner');\n",
              "      try {\n",
              "        const charts = await google.colab.kernel.invokeFunction(\n",
              "            'suggestCharts', [key], {});\n",
              "      } catch (error) {\n",
              "        console.error('Error during call to suggestCharts:', error);\n",
              "      }\n",
              "      quickchartButtonEl.classList.remove('colab-df-spinner');\n",
              "      quickchartButtonEl.classList.add('colab-df-quickchart-complete');\n",
              "    }\n",
              "    (() => {\n",
              "      let quickchartButtonEl =\n",
              "        document.querySelector('#df-02b459e0-f6a6-4796-83f4-3fc9020b049d button');\n",
              "      quickchartButtonEl.style.display =\n",
              "        google.colab.kernel.accessAllowed ? 'block' : 'none';\n",
              "    })();\n",
              "  </script>\n",
              "</div>\n",
              "\n",
              "    </div>\n",
              "  </div>\n"
            ],
            "application/vnd.google.colaboratory.intrinsic+json": {
              "type": "dataframe",
              "variable_name": "train_df",
              "summary": "{\n  \"name\": \"train_df\",\n  \"rows\": 2337,\n  \"fields\": [\n    {\n      \"column\": \"model\",\n      \"properties\": {\n        \"dtype\": \"category\",\n        \"samples\": [\n          \"Smart ForFour\",\n          \"Renault Kaptur\",\n          \"Kia Rio X-line\"\n        ],\n        \"num_unique_values\": 26,\n        \"semantic_type\": \"\",\n        \"description\": \"\"\n      }\n    },\n    {\n      \"column\": \"car_type\",\n      \"properties\": {\n        \"dtype\": \"category\",\n        \"samples\": [\n          \"standart\",\n          \"premium\",\n          \"economy\"\n        ],\n        \"num_unique_values\": 4,\n        \"semantic_type\": \"\",\n        \"description\": \"\"\n      }\n    },\n    {\n      \"column\": \"fuel_type\",\n      \"properties\": {\n        \"dtype\": \"category\",\n        \"samples\": [\n          \"electro\",\n          \"petrol\"\n        ],\n        \"num_unique_values\": 2,\n        \"semantic_type\": \"\",\n        \"description\": \"\"\n      }\n    },\n    {\n      \"column\": \"car_rating\",\n      \"properties\": {\n        \"dtype\": \"number\",\n        \"std\": 0.9969539766615568,\n        \"min\": 0.98,\n        \"max\": 8.9,\n        \"samples\": [\n          2.78,\n          2.1\n        ],\n        \"num_unique_values\": 269,\n        \"semantic_type\": \"\",\n        \"description\": \"\"\n      }\n    },\n    {\n      \"column\": \"year_to_start\",\n      \"properties\": {\n        \"dtype\": \"number\",\n        \"std\": 1,\n        \"min\": 2011,\n        \"max\": 2017,\n        \"samples\": [\n          2015,\n          2012\n        ],\n        \"num_unique_values\": 7,\n        \"semantic_type\": \"\",\n        \"description\": \"\"\n      }\n    },\n    {\n      \"column\": \"riders\",\n      \"properties\": {\n        \"dtype\": \"number\",\n        \"std\": 33755,\n        \"min\": 23,\n        \"max\": 142862,\n        \"samples\": [\n          61719,\n          100108\n        ],\n        \"num_unique_values\": 2306,\n        \"semantic_type\": \"\",\n        \"description\": \"\"\n      }\n    },\n    {\n      \"column\": \"year_to_work\",\n      \"properties\": {\n        \"dtype\": \"number\",\n        \"std\": 2,\n        \"min\": 2014,\n        \"max\": 2022,\n        \"samples\": [\n          2022,\n          2017\n        ],\n        \"num_unique_values\": 9,\n        \"semantic_type\": \"\",\n        \"description\": \"\"\n      }\n    },\n    {\n      \"column\": \"target_reg\",\n      \"properties\": {\n        \"dtype\": \"number\",\n        \"std\": 17.64753265251113,\n        \"min\": 17.64,\n        \"max\": 141.13,\n        \"samples\": [\n          65.34,\n          42.58\n        ],\n        \"num_unique_values\": 1835,\n        \"semantic_type\": \"\",\n        \"description\": \"\"\n      }\n    },\n    {\n      \"column\": \"mean_rating\",\n      \"properties\": {\n        \"dtype\": \"number\",\n        \"std\": 0.4185875181615076,\n        \"min\": 3.529885057471265,\n        \"max\": 5.700747126436782,\n        \"samples\": [\n          4.938505747126436,\n          4.750402298850575\n        ],\n        \"num_unique_values\": 2223,\n        \"semantic_type\": \"\",\n        \"description\": \"\"\n      }\n    },\n    {\n      \"column\": \"distance_sum\",\n      \"properties\": {\n        \"dtype\": \"number\",\n        \"std\": 4253208.772370099,\n        \"min\": 1478866.3194710591,\n        \"max\": 31197854.66144909,\n        \"samples\": [\n          11634739.066408755,\n          17976546.948301077\n        ],\n        \"num_unique_values\": 2337,\n        \"semantic_type\": \"\",\n        \"description\": \"\"\n      }\n    },\n    {\n      \"column\": \"rating_min\",\n      \"properties\": {\n        \"dtype\": \"number\",\n        \"std\": 0.16397828346003004,\n        \"min\": 0.0,\n        \"max\": 1.5,\n        \"samples\": [\n          0.67,\n          0.5\n        ],\n        \"num_unique_values\": 91,\n        \"semantic_type\": \"\",\n        \"description\": \"\"\n      }\n    },\n    {\n      \"column\": \"speed_max\",\n      \"properties\": {\n        \"dtype\": \"number\",\n        \"std\": 33.211160987028705,\n        \"min\": 91.4235081222183,\n        \"max\": 209.98283950882248,\n        \"samples\": [\n          109.38343955827206,\n          196.76859522747992\n        ],\n        \"num_unique_values\": 1938,\n        \"semantic_type\": \"\",\n        \"description\": \"\"\n      }\n    },\n    {\n      \"column\": \"user_ride_quality_median\",\n      \"properties\": {\n        \"dtype\": \"number\",\n        \"std\": 9.581800367410485,\n        \"min\": -38.116344812235766,\n        \"max\": 35.77049335204191,\n        \"samples\": [\n          -4.022916383366763,\n          2.871491593000214\n        ],\n        \"num_unique_values\": 2337,\n        \"semantic_type\": \"\",\n        \"description\": \"\"\n      }\n    },\n    {\n      \"column\": \"user_uniq\",\n      \"properties\": {\n        \"dtype\": \"number\",\n        \"std\": 3,\n        \"min\": 136,\n        \"max\": 174,\n        \"samples\": [\n          163,\n          156\n        ],\n        \"num_unique_values\": 30,\n        \"semantic_type\": \"\",\n        \"description\": \"\"\n      }\n    }\n  ]\n}"
            }
          },
          "metadata": {},
          "execution_count": 273
        }
      ]
    },
    {
      "cell_type": "code",
      "source": [
        "test_df.shape"
      ],
      "metadata": {
        "colab": {
          "base_uri": "https://localhost:8080/"
        },
        "id": "w9SGL35dv6ar",
        "outputId": "5ba5dddf-0fba-49e7-a6de-994cdd5ddb84"
      },
      "execution_count": null,
      "outputs": [
        {
          "output_type": "execute_result",
          "data": {
            "text/plain": [
              "(1913, 16)"
            ]
          },
          "metadata": {},
          "execution_count": 274
        }
      ]
    },
    {
      "cell_type": "markdown",
      "source": [
        "Рассмотрим количество пропусков в данных"
      ],
      "metadata": {
        "id": "Xs2YC6SOwBij"
      }
    },
    {
      "cell_type": "code",
      "source": [
        "for c in train_df.columns:\n",
        "  print(c + ':', train_df[c].isna().sum())"
      ],
      "metadata": {
        "colab": {
          "base_uri": "https://localhost:8080/"
        },
        "id": "THjijSFCwCAy",
        "outputId": "f532ea1e-c7b6-402c-b00c-63897e87db6d"
      },
      "execution_count": null,
      "outputs": [
        {
          "output_type": "stream",
          "name": "stdout",
          "text": [
            "model: 0\n",
            "car_type: 0\n",
            "fuel_type: 0\n",
            "car_rating: 0\n",
            "year_to_start: 0\n",
            "riders: 0\n",
            "year_to_work: 0\n",
            "target_reg: 0\n",
            "mean_rating: 0\n",
            "distance_sum: 0\n",
            "rating_min: 0\n",
            "speed_max: 0\n",
            "user_ride_quality_median: 0\n",
            "user_uniq: 0\n"
          ]
        }
      ]
    },
    {
      "cell_type": "code",
      "source": [
        "train_df.info()"
      ],
      "metadata": {
        "colab": {
          "base_uri": "https://localhost:8080/"
        },
        "id": "dDBd58RxwE0B",
        "outputId": "ba65a9e9-5e5b-45dd-f1ab-472b14539aea"
      },
      "execution_count": null,
      "outputs": [
        {
          "output_type": "stream",
          "name": "stdout",
          "text": [
            "<class 'pandas.core.frame.DataFrame'>\n",
            "RangeIndex: 2337 entries, 0 to 2336\n",
            "Data columns (total 14 columns):\n",
            " #   Column                    Non-Null Count  Dtype  \n",
            "---  ------                    --------------  -----  \n",
            " 0   model                     2337 non-null   object \n",
            " 1   car_type                  2337 non-null   object \n",
            " 2   fuel_type                 2337 non-null   object \n",
            " 3   car_rating                2337 non-null   float64\n",
            " 4   year_to_start             2337 non-null   int64  \n",
            " 5   riders                    2337 non-null   int64  \n",
            " 6   year_to_work              2337 non-null   int64  \n",
            " 7   target_reg                2337 non-null   float64\n",
            " 8   mean_rating               2337 non-null   float64\n",
            " 9   distance_sum              2337 non-null   float64\n",
            " 10  rating_min                2337 non-null   float64\n",
            " 11  speed_max                 2337 non-null   float64\n",
            " 12  user_ride_quality_median  2337 non-null   float64\n",
            " 13  user_uniq                 2337 non-null   int64  \n",
            "dtypes: float64(7), int64(4), object(3)\n",
            "memory usage: 255.7+ KB\n"
          ]
        }
      ]
    },
    {
      "cell_type": "markdown",
      "source": [
        "Видим, что у нас ни в одном из признаков нет пропусков, у нас есть 3 категориальных признака: `fuel_type`, `model`, `car_type`."
      ],
      "metadata": {
        "id": "48UC4F9QwH80"
      }
    },
    {
      "cell_type": "markdown",
      "source": [
        "Посмотрим на количество значений в каждом категориальном признаке."
      ],
      "metadata": {
        "id": "Jo98p35mwoQB"
      }
    },
    {
      "cell_type": "code",
      "source": [
        "for c in train_df.columns:\n",
        "    if train_df[c].dtype == 'object':\n",
        "          print(c + ':', len(train_df[c].unique()))"
      ],
      "metadata": {
        "colab": {
          "base_uri": "https://localhost:8080/"
        },
        "id": "HS40xwDSwpZY",
        "outputId": "cf2db00a-8ec4-4d01-bf9b-6c0cb44aa352"
      },
      "execution_count": null,
      "outputs": [
        {
          "output_type": "stream",
          "name": "stdout",
          "text": [
            "model: 26\n",
            "car_type: 4\n",
            "fuel_type: 2\n"
          ]
        }
      ]
    },
    {
      "cell_type": "markdown",
      "source": [
        "Более детально взглянем на все колонки в тренировочных данных."
      ],
      "metadata": {
        "id": "0yWhFOtwwuLz"
      }
    },
    {
      "cell_type": "code",
      "source": [
        "train_df.sample(10)"
      ],
      "metadata": {
        "colab": {
          "base_uri": "https://localhost:8080/",
          "height": 522
        },
        "id": "A3hyIEBIwvcE",
        "outputId": "a1211756-7ee5-425d-9486-03b3a9eb3959"
      },
      "execution_count": null,
      "outputs": [
        {
          "output_type": "execute_result",
          "data": {
            "text/plain": [
              "                   model  car_type fuel_type  car_rating  year_to_start  \\\n",
              "1006           Kia Rio X   economy    petrol        4.44           2011   \n",
              "798       Renault Kaptur  standart    petrol        3.60           2015   \n",
              "600         Smart ForTwo   economy    petrol        4.28           2016   \n",
              "111            Kia Rio X   economy    petrol        2.20           2012   \n",
              "1499      Kia Rio X-line   economy    petrol        5.48           2014   \n",
              "344        MINI CooperSE  business   electro        4.74           2012   \n",
              "30       Renault Sandero  standart    petrol        3.80           2011   \n",
              "508   Mercedes-Benz E200  business    petrol        3.92           2012   \n",
              "190      Hyundai Solaris   economy    petrol        4.12           2014   \n",
              "395              Audi Q3   premium    petrol        3.94           2013   \n",
              "\n",
              "      riders  year_to_work  target_reg  mean_rating  distance_sum  rating_min  \\\n",
              "1006     629          2016       33.81     4.282989  1.202885e+07        0.00   \n",
              "798    82153          2018       26.12     4.168563  1.751768e+07        0.00   \n",
              "600    97182          2020       28.93     4.155230  1.590868e+07        0.10   \n",
              "111    22872          2022       23.03     4.699425  1.313794e+07        0.10   \n",
              "1499   59615          2019       50.89     4.137356  5.878477e+06        0.10   \n",
              "344    30175          2015       44.57     5.424943  1.069666e+07        0.10   \n",
              "30      3028          2021       32.86     3.916207  1.571316e+07        0.00   \n",
              "508    23853          2018       31.82     5.347011  1.774484e+07        0.15   \n",
              "190    56308          2017       53.93     4.609598  1.137751e+07        0.10   \n",
              "395    44650          2019       58.43     4.336322  1.184413e+07        0.10   \n",
              "\n",
              "       speed_max  user_ride_quality_median  user_uniq  \n",
              "1006  182.701443                 -0.802696        171  \n",
              "798   176.204742                 -0.571031        172  \n",
              "600   163.804557                 22.570944        172  \n",
              "111   126.009496                 -0.583736        171  \n",
              "1499  185.089714                  3.957169        173  \n",
              "344   108.724297                -22.203868        174  \n",
              "30    185.339612                  2.023616        172  \n",
              "508   123.242572                 17.715250        172  \n",
              "190   152.198802                 10.065974        174  \n",
              "395   116.563562                  8.863727        171  "
            ],
            "text/html": [
              "\n",
              "  <div id=\"df-0a396ddc-a7d3-41ea-9bbe-a228a82e0b1c\" class=\"colab-df-container\">\n",
              "    <div>\n",
              "<style scoped>\n",
              "    .dataframe tbody tr th:only-of-type {\n",
              "        vertical-align: middle;\n",
              "    }\n",
              "\n",
              "    .dataframe tbody tr th {\n",
              "        vertical-align: top;\n",
              "    }\n",
              "\n",
              "    .dataframe thead th {\n",
              "        text-align: right;\n",
              "    }\n",
              "</style>\n",
              "<table border=\"1\" class=\"dataframe\">\n",
              "  <thead>\n",
              "    <tr style=\"text-align: right;\">\n",
              "      <th></th>\n",
              "      <th>model</th>\n",
              "      <th>car_type</th>\n",
              "      <th>fuel_type</th>\n",
              "      <th>car_rating</th>\n",
              "      <th>year_to_start</th>\n",
              "      <th>riders</th>\n",
              "      <th>year_to_work</th>\n",
              "      <th>target_reg</th>\n",
              "      <th>mean_rating</th>\n",
              "      <th>distance_sum</th>\n",
              "      <th>rating_min</th>\n",
              "      <th>speed_max</th>\n",
              "      <th>user_ride_quality_median</th>\n",
              "      <th>user_uniq</th>\n",
              "    </tr>\n",
              "  </thead>\n",
              "  <tbody>\n",
              "    <tr>\n",
              "      <th>1006</th>\n",
              "      <td>Kia Rio X</td>\n",
              "      <td>economy</td>\n",
              "      <td>petrol</td>\n",
              "      <td>4.44</td>\n",
              "      <td>2011</td>\n",
              "      <td>629</td>\n",
              "      <td>2016</td>\n",
              "      <td>33.81</td>\n",
              "      <td>4.282989</td>\n",
              "      <td>1.202885e+07</td>\n",
              "      <td>0.00</td>\n",
              "      <td>182.701443</td>\n",
              "      <td>-0.802696</td>\n",
              "      <td>171</td>\n",
              "    </tr>\n",
              "    <tr>\n",
              "      <th>798</th>\n",
              "      <td>Renault Kaptur</td>\n",
              "      <td>standart</td>\n",
              "      <td>petrol</td>\n",
              "      <td>3.60</td>\n",
              "      <td>2015</td>\n",
              "      <td>82153</td>\n",
              "      <td>2018</td>\n",
              "      <td>26.12</td>\n",
              "      <td>4.168563</td>\n",
              "      <td>1.751768e+07</td>\n",
              "      <td>0.00</td>\n",
              "      <td>176.204742</td>\n",
              "      <td>-0.571031</td>\n",
              "      <td>172</td>\n",
              "    </tr>\n",
              "    <tr>\n",
              "      <th>600</th>\n",
              "      <td>Smart ForTwo</td>\n",
              "      <td>economy</td>\n",
              "      <td>petrol</td>\n",
              "      <td>4.28</td>\n",
              "      <td>2016</td>\n",
              "      <td>97182</td>\n",
              "      <td>2020</td>\n",
              "      <td>28.93</td>\n",
              "      <td>4.155230</td>\n",
              "      <td>1.590868e+07</td>\n",
              "      <td>0.10</td>\n",
              "      <td>163.804557</td>\n",
              "      <td>22.570944</td>\n",
              "      <td>172</td>\n",
              "    </tr>\n",
              "    <tr>\n",
              "      <th>111</th>\n",
              "      <td>Kia Rio X</td>\n",
              "      <td>economy</td>\n",
              "      <td>petrol</td>\n",
              "      <td>2.20</td>\n",
              "      <td>2012</td>\n",
              "      <td>22872</td>\n",
              "      <td>2022</td>\n",
              "      <td>23.03</td>\n",
              "      <td>4.699425</td>\n",
              "      <td>1.313794e+07</td>\n",
              "      <td>0.10</td>\n",
              "      <td>126.009496</td>\n",
              "      <td>-0.583736</td>\n",
              "      <td>171</td>\n",
              "    </tr>\n",
              "    <tr>\n",
              "      <th>1499</th>\n",
              "      <td>Kia Rio X-line</td>\n",
              "      <td>economy</td>\n",
              "      <td>petrol</td>\n",
              "      <td>5.48</td>\n",
              "      <td>2014</td>\n",
              "      <td>59615</td>\n",
              "      <td>2019</td>\n",
              "      <td>50.89</td>\n",
              "      <td>4.137356</td>\n",
              "      <td>5.878477e+06</td>\n",
              "      <td>0.10</td>\n",
              "      <td>185.089714</td>\n",
              "      <td>3.957169</td>\n",
              "      <td>173</td>\n",
              "    </tr>\n",
              "    <tr>\n",
              "      <th>344</th>\n",
              "      <td>MINI CooperSE</td>\n",
              "      <td>business</td>\n",
              "      <td>electro</td>\n",
              "      <td>4.74</td>\n",
              "      <td>2012</td>\n",
              "      <td>30175</td>\n",
              "      <td>2015</td>\n",
              "      <td>44.57</td>\n",
              "      <td>5.424943</td>\n",
              "      <td>1.069666e+07</td>\n",
              "      <td>0.10</td>\n",
              "      <td>108.724297</td>\n",
              "      <td>-22.203868</td>\n",
              "      <td>174</td>\n",
              "    </tr>\n",
              "    <tr>\n",
              "      <th>30</th>\n",
              "      <td>Renault Sandero</td>\n",
              "      <td>standart</td>\n",
              "      <td>petrol</td>\n",
              "      <td>3.80</td>\n",
              "      <td>2011</td>\n",
              "      <td>3028</td>\n",
              "      <td>2021</td>\n",
              "      <td>32.86</td>\n",
              "      <td>3.916207</td>\n",
              "      <td>1.571316e+07</td>\n",
              "      <td>0.00</td>\n",
              "      <td>185.339612</td>\n",
              "      <td>2.023616</td>\n",
              "      <td>172</td>\n",
              "    </tr>\n",
              "    <tr>\n",
              "      <th>508</th>\n",
              "      <td>Mercedes-Benz E200</td>\n",
              "      <td>business</td>\n",
              "      <td>petrol</td>\n",
              "      <td>3.92</td>\n",
              "      <td>2012</td>\n",
              "      <td>23853</td>\n",
              "      <td>2018</td>\n",
              "      <td>31.82</td>\n",
              "      <td>5.347011</td>\n",
              "      <td>1.774484e+07</td>\n",
              "      <td>0.15</td>\n",
              "      <td>123.242572</td>\n",
              "      <td>17.715250</td>\n",
              "      <td>172</td>\n",
              "    </tr>\n",
              "    <tr>\n",
              "      <th>190</th>\n",
              "      <td>Hyundai Solaris</td>\n",
              "      <td>economy</td>\n",
              "      <td>petrol</td>\n",
              "      <td>4.12</td>\n",
              "      <td>2014</td>\n",
              "      <td>56308</td>\n",
              "      <td>2017</td>\n",
              "      <td>53.93</td>\n",
              "      <td>4.609598</td>\n",
              "      <td>1.137751e+07</td>\n",
              "      <td>0.10</td>\n",
              "      <td>152.198802</td>\n",
              "      <td>10.065974</td>\n",
              "      <td>174</td>\n",
              "    </tr>\n",
              "    <tr>\n",
              "      <th>395</th>\n",
              "      <td>Audi Q3</td>\n",
              "      <td>premium</td>\n",
              "      <td>petrol</td>\n",
              "      <td>3.94</td>\n",
              "      <td>2013</td>\n",
              "      <td>44650</td>\n",
              "      <td>2019</td>\n",
              "      <td>58.43</td>\n",
              "      <td>4.336322</td>\n",
              "      <td>1.184413e+07</td>\n",
              "      <td>0.10</td>\n",
              "      <td>116.563562</td>\n",
              "      <td>8.863727</td>\n",
              "      <td>171</td>\n",
              "    </tr>\n",
              "  </tbody>\n",
              "</table>\n",
              "</div>\n",
              "    <div class=\"colab-df-buttons\">\n",
              "\n",
              "  <div class=\"colab-df-container\">\n",
              "    <button class=\"colab-df-convert\" onclick=\"convertToInteractive('df-0a396ddc-a7d3-41ea-9bbe-a228a82e0b1c')\"\n",
              "            title=\"Convert this dataframe to an interactive table.\"\n",
              "            style=\"display:none;\">\n",
              "\n",
              "  <svg xmlns=\"http://www.w3.org/2000/svg\" height=\"24px\" viewBox=\"0 -960 960 960\">\n",
              "    <path d=\"M120-120v-720h720v720H120Zm60-500h600v-160H180v160Zm220 220h160v-160H400v160Zm0 220h160v-160H400v160ZM180-400h160v-160H180v160Zm440 0h160v-160H620v160ZM180-180h160v-160H180v160Zm440 0h160v-160H620v160Z\"/>\n",
              "  </svg>\n",
              "    </button>\n",
              "\n",
              "  <style>\n",
              "    .colab-df-container {\n",
              "      display:flex;\n",
              "      gap: 12px;\n",
              "    }\n",
              "\n",
              "    .colab-df-convert {\n",
              "      background-color: #E8F0FE;\n",
              "      border: none;\n",
              "      border-radius: 50%;\n",
              "      cursor: pointer;\n",
              "      display: none;\n",
              "      fill: #1967D2;\n",
              "      height: 32px;\n",
              "      padding: 0 0 0 0;\n",
              "      width: 32px;\n",
              "    }\n",
              "\n",
              "    .colab-df-convert:hover {\n",
              "      background-color: #E2EBFA;\n",
              "      box-shadow: 0px 1px 2px rgba(60, 64, 67, 0.3), 0px 1px 3px 1px rgba(60, 64, 67, 0.15);\n",
              "      fill: #174EA6;\n",
              "    }\n",
              "\n",
              "    .colab-df-buttons div {\n",
              "      margin-bottom: 4px;\n",
              "    }\n",
              "\n",
              "    [theme=dark] .colab-df-convert {\n",
              "      background-color: #3B4455;\n",
              "      fill: #D2E3FC;\n",
              "    }\n",
              "\n",
              "    [theme=dark] .colab-df-convert:hover {\n",
              "      background-color: #434B5C;\n",
              "      box-shadow: 0px 1px 3px 1px rgba(0, 0, 0, 0.15);\n",
              "      filter: drop-shadow(0px 1px 2px rgba(0, 0, 0, 0.3));\n",
              "      fill: #FFFFFF;\n",
              "    }\n",
              "  </style>\n",
              "\n",
              "    <script>\n",
              "      const buttonEl =\n",
              "        document.querySelector('#df-0a396ddc-a7d3-41ea-9bbe-a228a82e0b1c button.colab-df-convert');\n",
              "      buttonEl.style.display =\n",
              "        google.colab.kernel.accessAllowed ? 'block' : 'none';\n",
              "\n",
              "      async function convertToInteractive(key) {\n",
              "        const element = document.querySelector('#df-0a396ddc-a7d3-41ea-9bbe-a228a82e0b1c');\n",
              "        const dataTable =\n",
              "          await google.colab.kernel.invokeFunction('convertToInteractive',\n",
              "                                                    [key], {});\n",
              "        if (!dataTable) return;\n",
              "\n",
              "        const docLinkHtml = 'Like what you see? Visit the ' +\n",
              "          '<a target=\"_blank\" href=https://colab.research.google.com/notebooks/data_table.ipynb>data table notebook</a>'\n",
              "          + ' to learn more about interactive tables.';\n",
              "        element.innerHTML = '';\n",
              "        dataTable['output_type'] = 'display_data';\n",
              "        await google.colab.output.renderOutput(dataTable, element);\n",
              "        const docLink = document.createElement('div');\n",
              "        docLink.innerHTML = docLinkHtml;\n",
              "        element.appendChild(docLink);\n",
              "      }\n",
              "    </script>\n",
              "  </div>\n",
              "\n",
              "\n",
              "<div id=\"df-06c60e43-536e-4143-b1ca-b4972259ea5f\">\n",
              "  <button class=\"colab-df-quickchart\" onclick=\"quickchart('df-06c60e43-536e-4143-b1ca-b4972259ea5f')\"\n",
              "            title=\"Suggest charts\"\n",
              "            style=\"display:none;\">\n",
              "\n",
              "<svg xmlns=\"http://www.w3.org/2000/svg\" height=\"24px\"viewBox=\"0 0 24 24\"\n",
              "     width=\"24px\">\n",
              "    <g>\n",
              "        <path d=\"M19 3H5c-1.1 0-2 .9-2 2v14c0 1.1.9 2 2 2h14c1.1 0 2-.9 2-2V5c0-1.1-.9-2-2-2zM9 17H7v-7h2v7zm4 0h-2V7h2v10zm4 0h-2v-4h2v4z\"/>\n",
              "    </g>\n",
              "</svg>\n",
              "  </button>\n",
              "\n",
              "<style>\n",
              "  .colab-df-quickchart {\n",
              "      --bg-color: #E8F0FE;\n",
              "      --fill-color: #1967D2;\n",
              "      --hover-bg-color: #E2EBFA;\n",
              "      --hover-fill-color: #174EA6;\n",
              "      --disabled-fill-color: #AAA;\n",
              "      --disabled-bg-color: #DDD;\n",
              "  }\n",
              "\n",
              "  [theme=dark] .colab-df-quickchart {\n",
              "      --bg-color: #3B4455;\n",
              "      --fill-color: #D2E3FC;\n",
              "      --hover-bg-color: #434B5C;\n",
              "      --hover-fill-color: #FFFFFF;\n",
              "      --disabled-bg-color: #3B4455;\n",
              "      --disabled-fill-color: #666;\n",
              "  }\n",
              "\n",
              "  .colab-df-quickchart {\n",
              "    background-color: var(--bg-color);\n",
              "    border: none;\n",
              "    border-radius: 50%;\n",
              "    cursor: pointer;\n",
              "    display: none;\n",
              "    fill: var(--fill-color);\n",
              "    height: 32px;\n",
              "    padding: 0;\n",
              "    width: 32px;\n",
              "  }\n",
              "\n",
              "  .colab-df-quickchart:hover {\n",
              "    background-color: var(--hover-bg-color);\n",
              "    box-shadow: 0 1px 2px rgba(60, 64, 67, 0.3), 0 1px 3px 1px rgba(60, 64, 67, 0.15);\n",
              "    fill: var(--button-hover-fill-color);\n",
              "  }\n",
              "\n",
              "  .colab-df-quickchart-complete:disabled,\n",
              "  .colab-df-quickchart-complete:disabled:hover {\n",
              "    background-color: var(--disabled-bg-color);\n",
              "    fill: var(--disabled-fill-color);\n",
              "    box-shadow: none;\n",
              "  }\n",
              "\n",
              "  .colab-df-spinner {\n",
              "    border: 2px solid var(--fill-color);\n",
              "    border-color: transparent;\n",
              "    border-bottom-color: var(--fill-color);\n",
              "    animation:\n",
              "      spin 1s steps(1) infinite;\n",
              "  }\n",
              "\n",
              "  @keyframes spin {\n",
              "    0% {\n",
              "      border-color: transparent;\n",
              "      border-bottom-color: var(--fill-color);\n",
              "      border-left-color: var(--fill-color);\n",
              "    }\n",
              "    20% {\n",
              "      border-color: transparent;\n",
              "      border-left-color: var(--fill-color);\n",
              "      border-top-color: var(--fill-color);\n",
              "    }\n",
              "    30% {\n",
              "      border-color: transparent;\n",
              "      border-left-color: var(--fill-color);\n",
              "      border-top-color: var(--fill-color);\n",
              "      border-right-color: var(--fill-color);\n",
              "    }\n",
              "    40% {\n",
              "      border-color: transparent;\n",
              "      border-right-color: var(--fill-color);\n",
              "      border-top-color: var(--fill-color);\n",
              "    }\n",
              "    60% {\n",
              "      border-color: transparent;\n",
              "      border-right-color: var(--fill-color);\n",
              "    }\n",
              "    80% {\n",
              "      border-color: transparent;\n",
              "      border-right-color: var(--fill-color);\n",
              "      border-bottom-color: var(--fill-color);\n",
              "    }\n",
              "    90% {\n",
              "      border-color: transparent;\n",
              "      border-bottom-color: var(--fill-color);\n",
              "    }\n",
              "  }\n",
              "</style>\n",
              "\n",
              "  <script>\n",
              "    async function quickchart(key) {\n",
              "      const quickchartButtonEl =\n",
              "        document.querySelector('#' + key + ' button');\n",
              "      quickchartButtonEl.disabled = true;  // To prevent multiple clicks.\n",
              "      quickchartButtonEl.classList.add('colab-df-spinner');\n",
              "      try {\n",
              "        const charts = await google.colab.kernel.invokeFunction(\n",
              "            'suggestCharts', [key], {});\n",
              "      } catch (error) {\n",
              "        console.error('Error during call to suggestCharts:', error);\n",
              "      }\n",
              "      quickchartButtonEl.classList.remove('colab-df-spinner');\n",
              "      quickchartButtonEl.classList.add('colab-df-quickchart-complete');\n",
              "    }\n",
              "    (() => {\n",
              "      let quickchartButtonEl =\n",
              "        document.querySelector('#df-06c60e43-536e-4143-b1ca-b4972259ea5f button');\n",
              "      quickchartButtonEl.style.display =\n",
              "        google.colab.kernel.accessAllowed ? 'block' : 'none';\n",
              "    })();\n",
              "  </script>\n",
              "</div>\n",
              "\n",
              "    </div>\n",
              "  </div>\n"
            ],
            "application/vnd.google.colaboratory.intrinsic+json": {
              "type": "dataframe",
              "summary": "{\n  \"name\": \"train_df\",\n  \"rows\": 10,\n  \"fields\": [\n    {\n      \"column\": \"model\",\n      \"properties\": {\n        \"dtype\": \"string\",\n        \"samples\": [\n          \"Hyundai Solaris\",\n          \"Renault Kaptur\",\n          \"Renault Sandero\"\n        ],\n        \"num_unique_values\": 9,\n        \"semantic_type\": \"\",\n        \"description\": \"\"\n      }\n    },\n    {\n      \"column\": \"car_type\",\n      \"properties\": {\n        \"dtype\": \"category\",\n        \"samples\": [\n          \"standart\",\n          \"premium\",\n          \"economy\"\n        ],\n        \"num_unique_values\": 4,\n        \"semantic_type\": \"\",\n        \"description\": \"\"\n      }\n    },\n    {\n      \"column\": \"fuel_type\",\n      \"properties\": {\n        \"dtype\": \"category\",\n        \"samples\": [\n          \"electro\",\n          \"petrol\"\n        ],\n        \"num_unique_values\": 2,\n        \"semantic_type\": \"\",\n        \"description\": \"\"\n      }\n    },\n    {\n      \"column\": \"car_rating\",\n      \"properties\": {\n        \"dtype\": \"number\",\n        \"std\": 0.8463884057176903,\n        \"min\": 2.2,\n        \"max\": 5.48,\n        \"samples\": [\n          4.12,\n          3.6\n        ],\n        \"num_unique_values\": 10,\n        \"semantic_type\": \"\",\n        \"description\": \"\"\n      }\n    },\n    {\n      \"column\": \"year_to_start\",\n      \"properties\": {\n        \"dtype\": \"number\",\n        \"std\": 1,\n        \"min\": 2011,\n        \"max\": 2016,\n        \"samples\": [\n          2011,\n          2015\n        ],\n        \"num_unique_values\": 6,\n        \"semantic_type\": \"\",\n        \"description\": \"\"\n      }\n    },\n    {\n      \"column\": \"riders\",\n      \"properties\": {\n        \"dtype\": \"number\",\n        \"std\": 32049,\n        \"min\": 629,\n        \"max\": 97182,\n        \"samples\": [\n          56308,\n          82153\n        ],\n        \"num_unique_values\": 10,\n        \"semantic_type\": \"\",\n        \"description\": \"\"\n      }\n    },\n    {\n      \"column\": \"year_to_work\",\n      \"properties\": {\n        \"dtype\": \"number\",\n        \"std\": 2,\n        \"min\": 2015,\n        \"max\": 2022,\n        \"samples\": [\n          2018,\n          2015\n        ],\n        \"num_unique_values\": 8,\n        \"semantic_type\": \"\",\n        \"description\": \"\"\n      }\n    },\n    {\n      \"column\": \"target_reg\",\n      \"properties\": {\n        \"dtype\": \"number\",\n        \"std\": 12.50869870663345,\n        \"min\": 23.03,\n        \"max\": 58.43,\n        \"samples\": [\n          53.93,\n          26.12\n        ],\n        \"num_unique_values\": 10,\n        \"semantic_type\": \"\",\n        \"description\": \"\"\n      }\n    },\n    {\n      \"column\": \"mean_rating\",\n      \"properties\": {\n        \"dtype\": \"number\",\n        \"std\": 0.5162958375048564,\n        \"min\": 3.916206896551724,\n        \"max\": 5.424942528735632,\n        \"samples\": [\n          4.609597701149426,\n          4.168563218390805\n        ],\n        \"num_unique_values\": 10,\n        \"semantic_type\": \"\",\n        \"description\": \"\"\n      }\n    },\n    {\n      \"column\": \"distance_sum\",\n      \"properties\": {\n        \"dtype\": \"number\",\n        \"std\": 3641660.269370778,\n        \"min\": 5878477.413232552,\n        \"max\": 17744841.298613295,\n        \"samples\": [\n          11377512.90616894,\n          17517676.38434101\n        ],\n        \"num_unique_values\": 10,\n        \"semantic_type\": \"\",\n        \"description\": \"\"\n      }\n    },\n    {\n      \"column\": \"rating_min\",\n      \"properties\": {\n        \"dtype\": \"number\",\n        \"std\": 0.05400617248673217,\n        \"min\": 0.0,\n        \"max\": 0.15,\n        \"samples\": [\n          0.0,\n          0.1\n        ],\n        \"num_unique_values\": 3,\n        \"semantic_type\": \"\",\n        \"description\": \"\"\n      }\n    },\n    {\n      \"column\": \"speed_max\",\n      \"properties\": {\n        \"dtype\": \"number\",\n        \"std\": 30.741423579900296,\n        \"min\": 108.72429722530556,\n        \"max\": 185.339612336748,\n        \"samples\": [\n          152.19880173051618,\n          176.20474160069287\n        ],\n        \"num_unique_values\": 10,\n        \"semantic_type\": \"\",\n        \"description\": \"\"\n      }\n    },\n    {\n      \"column\": \"user_ride_quality_median\",\n      \"properties\": {\n        \"dtype\": \"number\",\n        \"std\": 12.242250041997664,\n        \"min\": -22.203867603158663,\n        \"max\": 22.57094409332813,\n        \"samples\": [\n          10.065974161817062,\n          -0.5710311030761566\n        ],\n        \"num_unique_values\": 10,\n        \"semantic_type\": \"\",\n        \"description\": \"\"\n      }\n    },\n    {\n      \"column\": \"user_uniq\",\n      \"properties\": {\n        \"dtype\": \"number\",\n        \"std\": 1,\n        \"min\": 171,\n        \"max\": 174,\n        \"samples\": [\n          172,\n          174\n        ],\n        \"num_unique_values\": 4,\n        \"semantic_type\": \"\",\n        \"description\": \"\"\n      }\n    }\n  ]\n}"
            }
          },
          "metadata": {},
          "execution_count": 278
        }
      ]
    },
    {
      "cell_type": "markdown",
      "source": [
        "## 2️⃣ Корреляционный анализ признаков"
      ],
      "metadata": {
        "id": "6ajvbd0txNtH"
      }
    },
    {
      "cell_type": "markdown",
      "source": [
        "Далее проведём анализ признаков, используя в том числе специальные способы фильтрации."
      ],
      "metadata": {
        "id": "IYcd-dLE9pSN"
      }
    },
    {
      "cell_type": "code",
      "source": [
        "train_df.hist(figsize = (20, 7), layout = (-1, 5), bins=30);"
      ],
      "metadata": {
        "colab": {
          "base_uri": "https://localhost:8080/",
          "height": 577
        },
        "id": "QU4yK0FK95vW",
        "outputId": "9e00023d-4fa1-4f06-9f62-bc1a4f5e44b2"
      },
      "execution_count": null,
      "outputs": [
        {
          "output_type": "display_data",
          "data": {
            "text/plain": [
              "<Figure size 2000x700 with 15 Axes>"
            ],
            "image/png": "[encoded data removed]"
          },
          "metadata": {}
        }
      ]
    },
    {
      "cell_type": "markdown",
      "source": [
        "Посмотрим на распределение целевой переменной `target_reg`."
      ],
      "metadata": {
        "id": "pAGbAz-Z-oHp"
      }
    },
    {
      "cell_type": "code",
      "source": [
        "plt.figure(figsize=(8, 6))\n",
        "sns.histplot(train_df['target_reg'], kde=True, color='skyblue', bins=10)\n",
        "plt.title('Распределение Rating')\n",
        "plt.xlabel('Rating')\n",
        "plt.ylabel('Частота')\n",
        "plt.show()\n",
        "\n",
        "mean_target = train_df['target_reg'].mean()\n",
        "median_target = train_df['target_reg'].median()\n",
        "std_target = train_df['target_reg'].std()\n",
        "\n",
        "print('Среднее:', mean_target)\n",
        "print('Медиана:', median_target)\n",
        "print('Стандартное отклонение:', std_target)"
      ],
      "metadata": {
        "colab": {
          "base_uri": "https://localhost:8080/",
          "height": 616
        },
        "id": "gt6WWcIR_HvN",
        "outputId": "b33d5e8d-0bd5-4d44-dde6-d09c9ff4ec01"
      },
      "execution_count": null,
      "outputs": [
        {
          "output_type": "display_data",
          "data": {
            "text/plain": [
              "<Figure size 800x600 with 1 Axes>"
            ],
            "image/png": "[encoded data removed]"
          },
          "metadata": {}
        },
        {
          "output_type": "stream",
          "name": "stdout",
          "text": [
            "Среднее: 44.94738125802311\n",
            "Медиана: 40.01\n",
            "Стандартное отклонение: 17.64753265251113\n"
          ]
        }
      ]
    },
    {
      "cell_type": "markdown",
      "source": [
        "Прологарифмируем целевую переменную и ещё раз посмотрим на распределение."
      ],
      "metadata": {
        "id": "RraTwpKt_PwP"
      }
    },
    {
      "cell_type": "code",
      "source": [
        "plt.figure(figsize=(8, 6))\n",
        "sns.histplot(np.log(train_df['target_reg']), kde=True, color='skyblue', bins=10)\n",
        "plt.title('Распределение Rating')\n",
        "plt.xlabel('Rating')\n",
        "plt.ylabel('Частота')\n",
        "plt.show()"
      ],
      "metadata": {
        "colab": {
          "base_uri": "https://localhost:8080/",
          "height": 564
        },
        "id": "v76b8REh-ESw",
        "outputId": "cda72a4f-703e-4e33-85a8-5d7438f71ae6"
      },
      "execution_count": null,
      "outputs": [
        {
          "output_type": "display_data",
          "data": {
            "text/plain": [
              "<Figure size 800x600 with 1 Axes>"
            ],
            "image/png": "[encoded data removed]"
          },
          "metadata": {}
        }
      ]
    },
    {
      "cell_type": "markdown",
      "source": [
        "Отчеливо видим, что распределение целевой переменной `target_reg` имеет логонормальный вид."
      ],
      "metadata": {
        "id": "XzN8hvy6_Uik"
      }
    },
    {
      "cell_type": "code",
      "source": [
        "for col in num_cols:\n",
        "    print(col)\n",
        "    sns.boxplot(train_df[col])\n",
        "    plt.show();"
      ],
      "metadata": {
        "colab": {
          "base_uri": "https://localhost:8080/",
          "height": 1000
        },
        "id": "gllLjNKyEQS0",
        "outputId": "976ca2ea-1861-46b1-c4c3-00741952dc6a"
      },
      "execution_count": null,
      "outputs": [
        {
          "output_type": "stream",
          "name": "stdout",
          "text": [
            "car_rating\n"
          ]
        },
        {
          "output_type": "display_data",
          "data": {
            "text/plain": [
              "<Figure size 640x480 with 1 Axes>"
            ],
            "image/png": "[encoded data removed]"
          },
          "metadata": {}
        },
        {
          "output_type": "stream",
          "name": "stdout",
          "text": [
            "year_to_start\n"
          ]
        },
        {
          "output_type": "display_data",
          "data": {
            "text/plain": [
              "<Figure size 640x480 with 1 Axes>"
            ],
            "image/png": "[encoded data removed]"
          },
          "metadata": {}
        },
        {
          "output_type": "stream",
          "name": "stdout",
          "text": [
            "riders\n"
          ]
        },
        {
          "output_type": "display_data",
          "data": {
            "text/plain": [
              "<Figure size 640x480 with 1 Axes>"
            ],
            "image/png": "[encoded data removed]"
          },
          "metadata": {}
        },
        {
          "output_type": "stream",
          "name": "stdout",
          "text": [
            "year_to_work\n"
          ]
        },
        {
          "output_type": "display_data",
          "data": {
            "text/plain": [
              "<Figure size 640x480 with 1 Axes>"
            ],
            "image/png": "[encoded data removed]"
          },
          "metadata": {}
        },
        {
          "output_type": "stream",
          "name": "stdout",
          "text": [
            "target_reg\n"
          ]
        },
        {
          "output_type": "display_data",
          "data": {
            "text/plain": [
              "<Figure size 640x480 with 1 Axes>"
            ],
            "image/png": "[encoded data removed]"
          },
          "metadata": {}
        },
        {
          "output_type": "stream",
          "name": "stdout",
          "text": [
            "mean_rating\n"
          ]
        },
        {
          "output_type": "display_data",
          "data": {
            "text/plain": [
              "<Figure size 640x480 with 1 Axes>"
            ],
            "image/png": "[encoded data removed]"
          },
          "metadata": {}
        },
        {
          "output_type": "stream",
          "name": "stdout",
          "text": [
            "distance_sum\n"
          ]
        },
        {
          "output_type": "display_data",
          "data": {
            "text/plain": [
              "<Figure size 640x480 with 1 Axes>"
            ],
            "image/png": "[encoded data removed]"
          },
          "metadata": {}
        },
        {
          "output_type": "stream",
          "name": "stdout",
          "text": [
            "rating_min\n"
          ]
        },
        {
          "output_type": "display_data",
          "data": {
            "text/plain": [
              "<Figure size 640x480 with 1 Axes>"
            ],
            "image/png": "[encoded data removed]"
          },
          "metadata": {}
        },
        {
          "output_type": "stream",
          "name": "stdout",
          "text": [
            "speed_max\n"
          ]
        },
        {
          "output_type": "display_data",
          "data": {
            "text/plain": [
              "<Figure size 640x480 with 1 Axes>"
            ],
            "image/png": "[encoded data removed]"
          },
          "metadata": {}
        },
        {
          "output_type": "stream",
          "name": "stdout",
          "text": [
            "user_ride_quality_median\n"
          ]
        },
        {
          "output_type": "display_data",
          "data": {
            "text/plain": [
              "<Figure size 640x480 with 1 Axes>"
            ],
            "image/png": "[encoded data removed]"
          },
          "metadata": {}
        },
        {
          "output_type": "stream",
          "name": "stdout",
          "text": [
            "user_uniq\n"
          ]
        },
        {
          "output_type": "display_data",
          "data": {
            "text/plain": [
              "<Figure size 640x480 with 1 Axes>"
            ],
            "image/png": "[encoded data removed]"
          },
          "metadata": {}
        }
      ]
    },
    {
      "cell_type": "markdown",
      "source": [
        "Имеются выбросы в следующих признаках: `car_rating`, `target_reg`, `mean_rating`, `distance_sum`, `rating_min`, `user_ride_quality_median`, `user_uniq`."
      ],
      "metadata": {
        "id": "__-DHVNLEbmV"
      }
    },
    {
      "cell_type": "markdown",
      "source": [
        "### 1️⃣ Phik-корреляция"
      ],
      "metadata": {
        "id": "YRd_BBX9_933"
      }
    },
    {
      "cell_type": "markdown",
      "source": [
        "Установим требуемое расширение и проведём анализ фич."
      ],
      "metadata": {
        "id": "eOXtp-7bAELB"
      }
    },
    {
      "cell_type": "code",
      "source": [
        "!pip install phik -q"
      ],
      "metadata": {
        "id": "lZd4mSsoALDe"
      },
      "execution_count": null,
      "outputs": []
    },
    {
      "cell_type": "code",
      "source": [
        "import phik\n",
        "from phik.report import plot_correlation_matrix\n",
        "from phik import report"
      ],
      "metadata": {
        "id": "Ian9foevAM2O"
      },
      "execution_count": null,
      "outputs": []
    },
    {
      "cell_type": "code",
      "source": [
        "phik_overview = train_df.phik_matrix().round(2).sort_values('target_reg')\n",
        "\n",
        "plot_correlation_matrix(phik_overview.values,\n",
        "                        x_labels=phik_overview.columns,\n",
        "                        y_labels=phik_overview.index,\n",
        "                        vmin=0, vmax=1, color_map=\"Blues\",\n",
        "                        title=r\"correlation $\\phi_K$\",\n",
        "                        fontsize_factor=0.8, figsize=(11, 6))\n",
        "plt.tight_layout()"
      ],
      "metadata": {
        "colab": {
          "base_uri": "https://localhost:8080/",
          "height": 643
        },
        "id": "V--HPJPDAPeO",
        "outputId": "0695d13b-62c4-47cc-b278-33373e86aa49"
      },
      "execution_count": null,
      "outputs": [
        {
          "output_type": "stream",
          "name": "stdout",
          "text": [
            "interval columns not set, guessing: ['car_rating', 'year_to_start', 'riders', 'year_to_work', 'target_reg', 'mean_rating', 'distance_sum', 'rating_min', 'speed_max', 'user_ride_quality_median', 'user_uniq']\n"
          ]
        },
        {
          "output_type": "display_data",
          "data": {
            "text/plain": [
              "<Figure size 1100x600 with 2 Axes>"
            ],
            "image/png": "[encoded data removed]"
          },
          "metadata": {}
        }
      ]
    },
    {
      "cell_type": "code",
      "source": [
        "significance_overview = train_df.significance_matrix().fillna(0).round(1).sort_values('target_reg')\n",
        "\n",
        "plot_correlation_matrix(significance_overview.values,\n",
        "                        x_labels=significance_overview.columns,\n",
        "                        y_labels=significance_overview.index,\n",
        "                        vmin=0, vmax=1, color_map=\"Blues\",\n",
        "                        title=\"Significance of the coefficients\",\n",
        "                        usetex=False, fontsize_factor=0.8, figsize=(11, 6))\n",
        "plt.tight_layout()"
      ],
      "metadata": {
        "colab": {
          "base_uri": "https://localhost:8080/",
          "height": 644
        },
        "id": "19dsu2s_AnvX",
        "outputId": "2c2b18b4-afa4-4efa-a0d5-3e8383a415c7"
      },
      "execution_count": null,
      "outputs": [
        {
          "output_type": "stream",
          "name": "stdout",
          "text": [
            "interval columns not set, guessing: ['car_rating', 'year_to_start', 'riders', 'year_to_work', 'target_reg', 'mean_rating', 'distance_sum', 'rating_min', 'speed_max', 'user_ride_quality_median', 'user_uniq']\n"
          ]
        },
        {
          "output_type": "display_data",
          "data": {
            "text/plain": [
              "<Figure size 1100x600 with 2 Axes>"
            ],
            "image/png": "[encoded data removed]"
          },
          "metadata": {}
        }
      ]
    },
    {
      "cell_type": "markdown",
      "source": [
        "С целевой переменной `target_reg` имеем 7 коррелирующих признаков: `speed_max`, `mean_rating`, `fuel_type`, `user_uniq`, `car_type`, `model`, `rating_min`, `distance_sum`."
      ],
      "metadata": {
        "id": "6h5jsO_PCRGS"
      }
    },
    {
      "cell_type": "markdown",
      "source": [
        "### 2️⃣ Feature importance\n"
      ],
      "metadata": {
        "id": "d2CmBHqSCzg0"
      }
    },
    {
      "cell_type": "markdown",
      "source": [
        "В рамках разведочного анализа данных обучим модель CatBoostRegressor для определения важности признаков, по мнению модели."
      ],
      "metadata": {
        "id": "XLcqX-qrC37_"
      }
    },
    {
      "cell_type": "code",
      "source": [
        "X_cor = train_df.drop('target_reg', axis=1)\n",
        "y_cor = train_df['target_reg']\n",
        "\n",
        "X_train_cor, X_test_cor, y_train_cor, y_test_cor = train_test_split(X_cor,\n",
        "                                                                    y_cor,\n",
        "                                                                    test_size=0.25,\n",
        "                                                                    random_state=RANDOM_STATE)\n",
        "\n",
        "default_model = CatBoostRegressor(random_state=RANDOM_STATE,\n",
        "                                  early_stopping_rounds=150,\n",
        "                                  verbose=250,\n",
        "                                  cat_features=cat_cols_idx).fit(X_train_cor,\n",
        "                                                                 y_train_cor,\n",
        "                                                                 eval_set=(X_test_cor,\n",
        "                                                                           y_test_cor))"
      ],
      "metadata": {
        "id": "O6tS217ZC3Mh",
        "colab": {
          "base_uri": "https://localhost:8080/"
        },
        "outputId": "33b3fe0a-0231-4fcf-a59d-46634bb3cbf6"
      },
      "execution_count": null,
      "outputs": [
        {
          "output_type": "stream",
          "name": "stdout",
          "text": [
            "Learning rate set to 0.055607\n",
            "0:\tlearn: 17.6721338\ttest: 15.9681669\tbest: 15.9681669 (0)\ttotal: 6.31ms\tremaining: 6.3s\n",
            "250:\tlearn: 9.2123362\ttest: 11.0093990\tbest: 10.9103156 (123)\ttotal: 943ms\tremaining: 2.81s\n",
            "Stopped by overfitting detector  (150 iterations wait)\n",
            "\n",
            "bestTest = 10.91031559\n",
            "bestIteration = 123\n",
            "\n",
            "Shrink model to first 124 iterations.\n"
          ]
        }
      ]
    },
    {
      "cell_type": "code",
      "source": [
        "# посмотрим на важность признаков катбуста\n",
        "default_model.get_feature_importance(prettified=True)"
      ],
      "metadata": {
        "colab": {
          "base_uri": "https://localhost:8080/",
          "height": 457
        },
        "id": "1KmUUq8oGRNy",
        "outputId": "b2c60f7f-7369-472e-c5b0-cb84f2050f4f"
      },
      "execution_count": null,
      "outputs": [
        {
          "output_type": "execute_result",
          "data": {
            "text/plain": [
              "                  Feature Id  Importances\n",
              "0                  speed_max    42.536213\n",
              "1                mean_rating    28.003315\n",
              "2                 rating_min    11.424966\n",
              "3                   car_type     3.145717\n",
              "4                  user_uniq     2.587601\n",
              "5                      model     2.463498\n",
              "6                  fuel_type     2.130989\n",
              "7               distance_sum     1.833714\n",
              "8               year_to_work     1.695860\n",
              "9   user_ride_quality_median     1.374591\n",
              "10             year_to_start     1.082228\n",
              "11                car_rating     0.950422\n",
              "12                    riders     0.770886"
            ],
            "text/html": [
              "\n",
              "  <div id=\"df-60e65239-b5a7-4137-86d2-1e3768a2d0d1\" class=\"colab-df-container\">\n",
              "    <div>\n",
              "<style scoped>\n",
              "    .dataframe tbody tr th:only-of-type {\n",
              "        vertical-align: middle;\n",
              "    }\n",
              "\n",
              "    .dataframe tbody tr th {\n",
              "        vertical-align: top;\n",
              "    }\n",
              "\n",
              "    .dataframe thead th {\n",
              "        text-align: right;\n",
              "    }\n",
              "</style>\n",
              "<table border=\"1\" class=\"dataframe\">\n",
              "  <thead>\n",
              "    <tr style=\"text-align: right;\">\n",
              "      <th></th>\n",
              "      <th>Feature Id</th>\n",
              "      <th>Importances</th>\n",
              "    </tr>\n",
              "  </thead>\n",
              "  <tbody>\n",
              "    <tr>\n",
              "      <th>0</th>\n",
              "      <td>speed_max</td>\n",
              "      <td>42.536213</td>\n",
              "    </tr>\n",
              "    <tr>\n",
              "      <th>1</th>\n",
              "      <td>mean_rating</td>\n",
              "      <td>28.003315</td>\n",
              "    </tr>\n",
              "    <tr>\n",
              "      <th>2</th>\n",
              "      <td>rating_min</td>\n",
              "      <td>11.424966</td>\n",
              "    </tr>\n",
              "    <tr>\n",
              "      <th>3</th>\n",
              "      <td>car_type</td>\n",
              "      <td>3.145717</td>\n",
              "    </tr>\n",
              "    <tr>\n",
              "      <th>4</th>\n",
              "      <td>user_uniq</td>\n",
              "      <td>2.587601</td>\n",
              "    </tr>\n",
              "    <tr>\n",
              "      <th>5</th>\n",
              "      <td>model</td>\n",
              "      <td>2.463498</td>\n",
              "    </tr>\n",
              "    <tr>\n",
              "      <th>6</th>\n",
              "      <td>fuel_type</td>\n",
              "      <td>2.130989</td>\n",
              "    </tr>\n",
              "    <tr>\n",
              "      <th>7</th>\n",
              "      <td>distance_sum</td>\n",
              "      <td>1.833714</td>\n",
              "    </tr>\n",
              "    <tr>\n",
              "      <th>8</th>\n",
              "      <td>year_to_work</td>\n",
              "      <td>1.695860</td>\n",
              "    </tr>\n",
              "    <tr>\n",
              "      <th>9</th>\n",
              "      <td>user_ride_quality_median</td>\n",
              "      <td>1.374591</td>\n",
              "    </tr>\n",
              "    <tr>\n",
              "      <th>10</th>\n",
              "      <td>year_to_start</td>\n",
              "      <td>1.082228</td>\n",
              "    </tr>\n",
              "    <tr>\n",
              "      <th>11</th>\n",
              "      <td>car_rating</td>\n",
              "      <td>0.950422</td>\n",
              "    </tr>\n",
              "    <tr>\n",
              "      <th>12</th>\n",
              "      <td>riders</td>\n",
              "      <td>0.770886</td>\n",
              "    </tr>\n",
              "  </tbody>\n",
              "</table>\n",
              "</div>\n",
              "    <div class=\"colab-df-buttons\">\n",
              "\n",
              "  <div class=\"colab-df-container\">\n",
              "    <button class=\"colab-df-convert\" onclick=\"convertToInteractive('df-60e65239-b5a7-4137-86d2-1e3768a2d0d1')\"\n",
              "            title=\"Convert this dataframe to an interactive table.\"\n",
              "            style=\"display:none;\">\n",
              "\n",
              "  <svg xmlns=\"http://www.w3.org/2000/svg\" height=\"24px\" viewBox=\"0 -960 960 960\">\n",
              "    <path d=\"M120-120v-720h720v720H120Zm60-500h600v-160H180v160Zm220 220h160v-160H400v160Zm0 220h160v-160H400v160ZM180-400h160v-160H180v160Zm440 0h160v-160H620v160ZM180-180h160v-160H180v160Zm440 0h160v-160H620v160Z\"/>\n",
              "  </svg>\n",
              "    </button>\n",
              "\n",
              "  <style>\n",
              "    .colab-df-container {\n",
              "      display:flex;\n",
              "      gap: 12px;\n",
              "    }\n",
              "\n",
              "    .colab-df-convert {\n",
              "      background-color: #E8F0FE;\n",
              "      border: none;\n",
              "      border-radius: 50%;\n",
              "      cursor: pointer;\n",
              "      display: none;\n",
              "      fill: #1967D2;\n",
              "      height: 32px;\n",
              "      padding: 0 0 0 0;\n",
              "      width: 32px;\n",
              "    }\n",
              "\n",
              "    .colab-df-convert:hover {\n",
              "      background-color: #E2EBFA;\n",
              "      box-shadow: 0px 1px 2px rgba(60, 64, 67, 0.3), 0px 1px 3px 1px rgba(60, 64, 67, 0.15);\n",
              "      fill: #174EA6;\n",
              "    }\n",
              "\n",
              "    .colab-df-buttons div {\n",
              "      margin-bottom: 4px;\n",
              "    }\n",
              "\n",
              "    [theme=dark] .colab-df-convert {\n",
              "      background-color: #3B4455;\n",
              "      fill: #D2E3FC;\n",
              "    }\n",
              "\n",
              "    [theme=dark] .colab-df-convert:hover {\n",
              "      background-color: #434B5C;\n",
              "      box-shadow: 0px 1px 3px 1px rgba(0, 0, 0, 0.15);\n",
              "      filter: drop-shadow(0px 1px 2px rgba(0, 0, 0, 0.3));\n",
              "      fill: #FFFFFF;\n",
              "    }\n",
              "  </style>\n",
              "\n",
              "    <script>\n",
              "      const buttonEl =\n",
              "        document.querySelector('#df-60e65239-b5a7-4137-86d2-1e3768a2d0d1 button.colab-df-convert');\n",
              "      buttonEl.style.display =\n",
              "        google.colab.kernel.accessAllowed ? 'block' : 'none';\n",
              "\n",
              "      async function convertToInteractive(key) {\n",
              "        const element = document.querySelector('#df-60e65239-b5a7-4137-86d2-1e3768a2d0d1');\n",
              "        const dataTable =\n",
              "          await google.colab.kernel.invokeFunction('convertToInteractive',\n",
              "                                                    [key], {});\n",
              "        if (!dataTable) return;\n",
              "\n",
              "        const docLinkHtml = 'Like what you see? Visit the ' +\n",
              "          '<a target=\"_blank\" href=https://colab.research.google.com/notebooks/data_table.ipynb>data table notebook</a>'\n",
              "          + ' to learn more about interactive tables.';\n",
              "        element.innerHTML = '';\n",
              "        dataTable['output_type'] = 'display_data';\n",
              "        await google.colab.output.renderOutput(dataTable, element);\n",
              "        const docLink = document.createElement('div');\n",
              "        docLink.innerHTML = docLinkHtml;\n",
              "        element.appendChild(docLink);\n",
              "      }\n",
              "    </script>\n",
              "  </div>\n",
              "\n",
              "\n",
              "<div id=\"df-2ea40dd5-813d-47d0-93a3-668af77dec34\">\n",
              "  <button class=\"colab-df-quickchart\" onclick=\"quickchart('df-2ea40dd5-813d-47d0-93a3-668af77dec34')\"\n",
              "            title=\"Suggest charts\"\n",
              "            style=\"display:none;\">\n",
              "\n",
              "<svg xmlns=\"http://www.w3.org/2000/svg\" height=\"24px\"viewBox=\"0 0 24 24\"\n",
              "     width=\"24px\">\n",
              "    <g>\n",
              "        <path d=\"M19 3H5c-1.1 0-2 .9-2 2v14c0 1.1.9 2 2 2h14c1.1 0 2-.9 2-2V5c0-1.1-.9-2-2-2zM9 17H7v-7h2v7zm4 0h-2V7h2v10zm4 0h-2v-4h2v4z\"/>\n",
              "    </g>\n",
              "</svg>\n",
              "  </button>\n",
              "\n",
              "<style>\n",
              "  .colab-df-quickchart {\n",
              "      --bg-color: #E8F0FE;\n",
              "      --fill-color: #1967D2;\n",
              "      --hover-bg-color: #E2EBFA;\n",
              "      --hover-fill-color: #174EA6;\n",
              "      --disabled-fill-color: #AAA;\n",
              "      --disabled-bg-color: #DDD;\n",
              "  }\n",
              "\n",
              "  [theme=dark] .colab-df-quickchart {\n",
              "      --bg-color: #3B4455;\n",
              "      --fill-color: #D2E3FC;\n",
              "      --hover-bg-color: #434B5C;\n",
              "      --hover-fill-color: #FFFFFF;\n",
              "      --disabled-bg-color: #3B4455;\n",
              "      --disabled-fill-color: #666;\n",
              "  }\n",
              "\n",
              "  .colab-df-quickchart {\n",
              "    background-color: var(--bg-color);\n",
              "    border: none;\n",
              "    border-radius: 50%;\n",
              "    cursor: pointer;\n",
              "    display: none;\n",
              "    fill: var(--fill-color);\n",
              "    height: 32px;\n",
              "    padding: 0;\n",
              "    width: 32px;\n",
              "  }\n",
              "\n",
              "  .colab-df-quickchart:hover {\n",
              "    background-color: var(--hover-bg-color);\n",
              "    box-shadow: 0 1px 2px rgba(60, 64, 67, 0.3), 0 1px 3px 1px rgba(60, 64, 67, 0.15);\n",
              "    fill: var(--button-hover-fill-color);\n",
              "  }\n",
              "\n",
              "  .colab-df-quickchart-complete:disabled,\n",
              "  .colab-df-quickchart-complete:disabled:hover {\n",
              "    background-color: var(--disabled-bg-color);\n",
              "    fill: var(--disabled-fill-color);\n",
              "    box-shadow: none;\n",
              "  }\n",
              "\n",
              "  .colab-df-spinner {\n",
              "    border: 2px solid var(--fill-color);\n",
              "    border-color: transparent;\n",
              "    border-bottom-color: var(--fill-color);\n",
              "    animation:\n",
              "      spin 1s steps(1) infinite;\n",
              "  }\n",
              "\n",
              "  @keyframes spin {\n",
              "    0% {\n",
              "      border-color: transparent;\n",
              "      border-bottom-color: var(--fill-color);\n",
              "      border-left-color: var(--fill-color);\n",
              "    }\n",
              "    20% {\n",
              "      border-color: transparent;\n",
              "      border-left-color: var(--fill-color);\n",
              "      border-top-color: var(--fill-color);\n",
              "    }\n",
              "    30% {\n",
              "      border-color: transparent;\n",
              "      border-left-color: var(--fill-color);\n",
              "      border-top-color: var(--fill-color);\n",
              "      border-right-color: var(--fill-color);\n",
              "    }\n",
              "    40% {\n",
              "      border-color: transparent;\n",
              "      border-right-color: var(--fill-color);\n",
              "      border-top-color: var(--fill-color);\n",
              "    }\n",
              "    60% {\n",
              "      border-color: transparent;\n",
              "      border-right-color: var(--fill-color);\n",
              "    }\n",
              "    80% {\n",
              "      border-color: transparent;\n",
              "      border-right-color: var(--fill-color);\n",
              "      border-bottom-color: var(--fill-color);\n",
              "    }\n",
              "    90% {\n",
              "      border-color: transparent;\n",
              "      border-bottom-color: var(--fill-color);\n",
              "    }\n",
              "  }\n",
              "</style>\n",
              "\n",
              "  <script>\n",
              "    async function quickchart(key) {\n",
              "      const quickchartButtonEl =\n",
              "        document.querySelector('#' + key + ' button');\n",
              "      quickchartButtonEl.disabled = true;  // To prevent multiple clicks.\n",
              "      quickchartButtonEl.classList.add('colab-df-spinner');\n",
              "      try {\n",
              "        const charts = await google.colab.kernel.invokeFunction(\n",
              "            'suggestCharts', [key], {});\n",
              "      } catch (error) {\n",
              "        console.error('Error during call to suggestCharts:', error);\n",
              "      }\n",
              "      quickchartButtonEl.classList.remove('colab-df-spinner');\n",
              "      quickchartButtonEl.classList.add('colab-df-quickchart-complete');\n",
              "    }\n",
              "    (() => {\n",
              "      let quickchartButtonEl =\n",
              "        document.querySelector('#df-2ea40dd5-813d-47d0-93a3-668af77dec34 button');\n",
              "      quickchartButtonEl.style.display =\n",
              "        google.colab.kernel.accessAllowed ? 'block' : 'none';\n",
              "    })();\n",
              "  </script>\n",
              "</div>\n",
              "\n",
              "    </div>\n",
              "  </div>\n"
            ],
            "application/vnd.google.colaboratory.intrinsic+json": {
              "type": "dataframe",
              "summary": "{\n  \"name\": \"default_model\",\n  \"rows\": 13,\n  \"fields\": [\n    {\n      \"column\": \"Feature Id\",\n      \"properties\": {\n        \"dtype\": \"string\",\n        \"samples\": [\n          \"car_rating\",\n          \"user_ride_quality_median\",\n          \"speed_max\"\n        ],\n        \"num_unique_values\": 13,\n        \"semantic_type\": \"\",\n        \"description\": \"\"\n      }\n    },\n    {\n      \"column\": \"Importances\",\n      \"properties\": {\n        \"dtype\": \"number\",\n        \"std\": 12.886724446488335,\n        \"min\": 0.7708855482411657,\n        \"max\": 42.53621265715549,\n        \"samples\": [\n          0.9504219430685383,\n          1.3745909138020282,\n          42.53621265715549\n        ],\n        \"num_unique_values\": 13,\n        \"semantic_type\": \"\",\n        \"description\": \"\"\n      }\n    }\n  ]\n}"
            }
          },
          "metadata": {},
          "execution_count": 288
        }
      ]
    },
    {
      "cell_type": "code",
      "source": [
        "feature_importance = default_model.feature_importances_\n",
        "sorted_idx = np.argsort(feature_importance)\n",
        "fig = plt.figure(figsize=(12, 6))\n",
        "plt.barh(range(len(sorted_idx)), feature_importance[sorted_idx], align='center')\n",
        "plt.yticks(range(len(sorted_idx)), np.array(X_train_cor.columns)[sorted_idx])\n",
        "plt.title('Feature Importance');"
      ],
      "metadata": {
        "colab": {
          "base_uri": "https://localhost:8080/",
          "height": 545
        },
        "id": "KpvP1JevGXbb",
        "outputId": "8c880e19-6e13-49d5-8a52-85893a19f920"
      },
      "execution_count": null,
      "outputs": [
        {
          "output_type": "display_data",
          "data": {
            "text/plain": [
              "<Figure size 1200x600 with 1 Axes>"
            ],
            "image/png": "[encoded data removed]"
          },
          "metadata": {}
        }
      ]
    },
    {
      "cell_type": "markdown",
      "source": [
        "По мнению модели CatBoostRegressor, наиболее важные признаки: `speed_max`, `mean_rating`, `rating_min`, `riders`, `distance_sum`, `car_rating`, `user_ride_quality_median`, `model`, `user_uniq`, `car_type`, `year_to_work`, `fuel_type`, `year_to_start`."
      ],
      "metadata": {
        "id": "WVP3cFtZGc8O"
      }
    },
    {
      "cell_type": "markdown",
      "source": [
        "### 3️⃣ Permutation importance"
      ],
      "metadata": {
        "id": "pqJNeu7IGrlS"
      }
    },
    {
      "cell_type": "code",
      "source": [
        "from sklearn.inspection import permutation_importance\n",
        "\n",
        "perm_importance = permutation_importance(default_model, X_test_cor, y_test_cor, n_repeats=10, random_state=RANDOM_STATE)\n",
        "sorted_idx = perm_importance.importances_mean.argsort()\n",
        "fig = plt.figure(figsize=(12, 6))\n",
        "plt.barh(range(len(sorted_idx)), perm_importance.importances_mean[sorted_idx], align='center')\n",
        "plt.yticks(range(len(sorted_idx)), np.array(X_cor.columns)[sorted_idx])\n",
        "plt.title('Permutation Importance');"
      ],
      "metadata": {
        "colab": {
          "base_uri": "https://localhost:8080/",
          "height": 545
        },
        "id": "NPMBVzTwG2M6",
        "outputId": "003749fa-e9a7-4874-b970-903d6b1482d8"
      },
      "execution_count": null,
      "outputs": [
        {
          "output_type": "display_data",
          "data": {
            "text/plain": [
              "<Figure size 1200x600 with 1 Axes>"
            ],
            "image/png": "[encoded data removed]"
          },
          "metadata": {}
        }
      ]
    },
    {
      "cell_type": "markdown",
      "source": [
        "По мнению Permutance Importance, наиболее важные признаки: `speed_max`, `mean_rating`, `rating_min`, `car_type`, `distance_sum`, `fuel_type`, `user_uniq`."
      ],
      "metadata": {
        "id": "n6BM30daHMnM"
      }
    },
    {
      "cell_type": "markdown",
      "source": [
        "### 4️⃣ SHAP values"
      ],
      "metadata": {
        "id": "jpTN73-iHTbP"
      }
    },
    {
      "cell_type": "code",
      "source": [
        "!pip install shap -q"
      ],
      "metadata": {
        "id": "mvOZGkoLHhv8"
      },
      "execution_count": null,
      "outputs": []
    },
    {
      "cell_type": "code",
      "source": [
        "import shap\n",
        "\n",
        "# Посмотрим на SHAP values\n",
        "explainer = shap.TreeExplainer(default_model)\n",
        "\n",
        "val_dataset = Pool(data=X_test_cor, label=y_test_cor, cat_features=cat_cols_idx)\n",
        "shap_values = explainer.shap_values(val_dataset)\n",
        "shap.summary_plot(shap_values, X_test_cor, max_display = 25)"
      ],
      "metadata": {
        "colab": {
          "base_uri": "https://localhost:8080/"
        },
        "id": "Yq-aNtoFHWl5",
        "outputId": "f9b56c8a-6e21-4375-ea71-3ef7d6d7d242"
      },
      "execution_count": null,
      "outputs": [
        {
          "output_type": "stream",
          "name": "stdout",
          "text": [
            "import shap\n",
            "\n",
            "# Посмотрим на SHAP values\n",
            "explainer = shap.TreeExplainer(default_model)\n",
            "\n",
            "val_dataset = Pool(data=X_test_cor, label=y_test_cor, cat_features=cat_cols_idx)\n",
            "shap_values = explainer.shap_values(val_dataset)\n",
            "shap.summary_plot(shap_values, X_test_cor, max_display = 25)\n",
            "\n"
          ]
        }
      ]
    },
    {
      "cell_type": "markdown",
      "source": [
        "Интерпретация результатов SHAP values: самые важные признаки `speed_max`, `mean_rating`, `rating_sum`, `car_type`, `distance_sum`, `user_uniq`. Чем выше максимальная скорость скорость автомобиля и чем выше средний и минимальный рейтинг водителя (`mean_rating` и `rating_min` соотв.), тем меньше дней останется до поломки автомобиля."
      ],
      "metadata": {
        "id": "3LUChuSJILp1"
      }
    },
    {
      "cell_type": "markdown",
      "source": [
        "### 5️⃣ CatBoost Feature Selection"
      ],
      "metadata": {
        "id": "hgm_pf7SJ8-n"
      }
    },
    {
      "cell_type": "code",
      "source": [
        "summary = default_model.select_features(X_train_cor, y_train_cor,\n",
        "                      eval_set=(X_test_cor, y_test_cor),\n",
        "                      features_for_select='0-12',\n",
        "                      num_features_to_select=8,\n",
        "                      steps=1,\n",
        "                      train_final_model=False,\n",
        "                      logging_level='Silent')"
      ],
      "metadata": {
        "id": "2kju5w-aJ_iT",
        "colab": {
          "base_uri": "https://localhost:8080/"
        },
        "outputId": "68527d01-de45-4af7-a829-4976fae70bc9"
      },
      "execution_count": null,
      "outputs": [
        {
          "output_type": "stream",
          "name": "stdout",
          "text": [
            "summary = default_model.select_features(X_train_cor, y_train_cor,\n",
            "                      eval_set=(X_test_cor, y_test_cor),\n",
            "                      features_for_select='0-12',\n",
            "                      num_features_to_select=8,\n",
            "                      steps=1,\n",
            "                      train_final_model=False,\n",
            "                      logging_level='Silent')\n",
            "\n"
          ]
        }
      ]
    },
    {
      "cell_type": "code",
      "source": [
        "# Посмотрим на список отобранных фичей (не отранжирован по важности)\n",
        "print(summary['selected_features_names'])\n",
        "# И на лучшее значение лосса\n",
        "print(f\"Best loss: {summary['loss_graph']['loss_values'][-1]}\")"
      ],
      "metadata": {
        "colab": {
          "base_uri": "https://localhost:8080/"
        },
        "id": "TNajNjbWKSFj",
        "outputId": "61dba090-ffa9-4ecc-ce9c-eb76c2b1d225"
      },
      "execution_count": null,
      "outputs": [
        {
          "output_type": "stream",
          "name": "stdout",
          "text": [
            "['car_type', 'fuel_type', 'riders', 'mean_rating', 'distance_sum', 'rating_min', 'speed_max', 'user_uniq']\n",
            "Best loss: 10.877274163322497\n"
          ]
        }
      ]
    },
    {
      "cell_type": "markdown",
      "source": [
        "По мнению рекурсивного метода `RecursiveByShapValues`, встроенного в CatBoost имеем, что важные признаки `car_type`, `fuel_type`, `riders`, `mean_rating`, `distance_sum`, `rating_min`, `speed_max`, `user_uniq`."
      ],
      "metadata": {
        "id": "ZP3kwZ8xKYO3"
      }
    },
    {
      "cell_type": "markdown",
      "source": [
        "### 6️⃣ Boruta"
      ],
      "metadata": {
        "id": "35BLdDmxKxGM"
      }
    },
    {
      "cell_type": "markdown",
      "source": [
        "Наконец, посмотрим на важности наших признаков, по мнению фреймворка Boruta."
      ],
      "metadata": {
        "id": "aZ0hB7UtK6SN"
      }
    },
    {
      "cell_type": "code",
      "source": [
        "!pip install boruta -q\n",
        "\n",
        "from boruta import BorutaPy\n",
        "from sklearn.ensemble import RandomForestRegressor"
      ],
      "metadata": {
        "id": "gUmz4I7PLDHW"
      },
      "execution_count": null,
      "outputs": []
    },
    {
      "cell_type": "markdown",
      "source": [
        "Так как Boruta работает только с моделью RandomForestRegressor, то закодируем наши категориальные признаки."
      ],
      "metadata": {
        "id": "XC3k0n5NLPWw"
      }
    },
    {
      "cell_type": "code",
      "source": [
        "X_train_one_hot = pd.get_dummies(X_train_cor[cat_cols])\n",
        "X_train_cor_one_hot = pd.concat((X_train_cor.drop(columns=cat_cols), X_train_one_hot), axis=1).fillna(0)\n",
        "X_train_cor_one_hot.head()"
      ],
      "metadata": {
        "colab": {
          "base_uri": "https://localhost:8080/",
          "height": 273
        },
        "id": "u0_Zd2LrLll0",
        "outputId": "3018d9a0-e718-4fda-9491-da5f628bc764"
      },
      "execution_count": null,
      "outputs": [
        {
          "output_type": "execute_result",
          "data": {
            "text/plain": [
              "      car_rating  year_to_start  riders  year_to_work  mean_rating  \\\n",
              "515         2.72           2013   37481          2021     4.430977   \n",
              "1403        4.42           2017  139872          2017     3.987816   \n",
              "83          3.42           2012   22261          2014     4.568678   \n",
              "1116        5.56           2012   25972          2016     4.132529   \n",
              "671         3.88           2017  110040          2018     4.485402   \n",
              "\n",
              "      distance_sum  rating_min   speed_max  user_ride_quality_median  \\\n",
              "515   2.135104e+07         0.0  173.428116                 -5.366843   \n",
              "1403  1.352270e+07         0.1  181.831892                -14.154620   \n",
              "83    6.596599e+06         0.1   99.408087                 -0.487151   \n",
              "1116  2.519559e+07         0.1  187.647219                 -8.710176   \n",
              "671   1.028764e+07         0.0  183.836060                  7.398393   \n",
              "\n",
              "      user_uniq  ...  model_VW Polo  model_VW Polo VI  model_VW Tiguan  \\\n",
              "515         172  ...              0                 0                0   \n",
              "1403        169  ...              0                 0                0   \n",
              "83          173  ...              0                 1                0   \n",
              "1116        173  ...              0                 0                0   \n",
              "671         171  ...              0                 0                0   \n",
              "\n",
              "      model_Volkswagen ID.4   car_type_business  car_type_economy  \\\n",
              "515                        0                  0                 0   \n",
              "1403                       0                  0                 0   \n",
              "83                         0                  0                 1   \n",
              "1116                       0                  0                 0   \n",
              "671                        0                  0                 0   \n",
              "\n",
              "      car_type_premium  car_type_standart  fuel_type_electro  fuel_type_petrol  \n",
              "515                  0                  1                  0                 1  \n",
              "1403                 1                  0                  0                 1  \n",
              "83                   0                  0                  0                 1  \n",
              "1116                 0                  1                  0                 1  \n",
              "671                  1                  0                  0                 1  \n",
              "\n",
              "[5 rows x 42 columns]"
            ],
            "text/html": [
              "\n",
              "  <div id=\"df-f45bcc37-5281-4a46-b7d3-dc1e2607e0d4\" class=\"colab-df-container\">\n",
              "    <div>\n",
              "<style scoped>\n",
              "    .dataframe tbody tr th:only-of-type {\n",
              "        vertical-align: middle;\n",
              "    }\n",
              "\n",
              "    .dataframe tbody tr th {\n",
              "        vertical-align: top;\n",
              "    }\n",
              "\n",
              "    .dataframe thead th {\n",
              "        text-align: right;\n",
              "    }\n",
              "</style>\n",
              "<table border=\"1\" class=\"dataframe\">\n",
              "  <thead>\n",
              "    <tr style=\"text-align: right;\">\n",
              "      <th></th>\n",
              "      <th>car_rating</th>\n",
              "      <th>year_to_start</th>\n",
              "      <th>riders</th>\n",
              "      <th>year_to_work</th>\n",
              "      <th>mean_rating</th>\n",
              "      <th>distance_sum</th>\n",
              "      <th>rating_min</th>\n",
              "      <th>speed_max</th>\n",
              "      <th>user_ride_quality_median</th>\n",
              "      <th>user_uniq</th>\n",
              "      <th>...</th>\n",
              "      <th>model_VW Polo</th>\n",
              "      <th>model_VW Polo VI</th>\n",
              "      <th>model_VW Tiguan</th>\n",
              "      <th>model_Volkswagen ID.4</th>\n",
              "      <th>car_type_business</th>\n",
              "      <th>car_type_economy</th>\n",
              "      <th>car_type_premium</th>\n",
              "      <th>car_type_standart</th>\n",
              "      <th>fuel_type_electro</th>\n",
              "      <th>fuel_type_petrol</th>\n",
              "    </tr>\n",
              "  </thead>\n",
              "  <tbody>\n",
              "    <tr>\n",
              "      <th>515</th>\n",
              "      <td>2.72</td>\n",
              "      <td>2013</td>\n",
              "      <td>37481</td>\n",
              "      <td>2021</td>\n",
              "      <td>4.430977</td>\n",
              "      <td>2.135104e+07</td>\n",
              "      <td>0.0</td>\n",
              "      <td>173.428116</td>\n",
              "      <td>-5.366843</td>\n",
              "      <td>172</td>\n",
              "      <td>...</td>\n",
              "      <td>0</td>\n",
              "      <td>0</td>\n",
              "      <td>0</td>\n",
              "      <td>0</td>\n",
              "      <td>0</td>\n",
              "      <td>0</td>\n",
              "      <td>0</td>\n",
              "      <td>1</td>\n",
              "      <td>0</td>\n",
              "      <td>1</td>\n",
              "    </tr>\n",
              "    <tr>\n",
              "      <th>1403</th>\n",
              "      <td>4.42</td>\n",
              "      <td>2017</td>\n",
              "      <td>139872</td>\n",
              "      <td>2017</td>\n",
              "      <td>3.987816</td>\n",
              "      <td>1.352270e+07</td>\n",
              "      <td>0.1</td>\n",
              "      <td>181.831892</td>\n",
              "      <td>-14.154620</td>\n",
              "      <td>169</td>\n",
              "      <td>...</td>\n",
              "      <td>0</td>\n",
              "      <td>0</td>\n",
              "      <td>0</td>\n",
              "      <td>0</td>\n",
              "      <td>0</td>\n",
              "      <td>0</td>\n",
              "      <td>1</td>\n",
              "      <td>0</td>\n",
              "      <td>0</td>\n",
              "      <td>1</td>\n",
              "    </tr>\n",
              "    <tr>\n",
              "      <th>83</th>\n",
              "      <td>3.42</td>\n",
              "      <td>2012</td>\n",
              "      <td>22261</td>\n",
              "      <td>2014</td>\n",
              "      <td>4.568678</td>\n",
              "      <td>6.596599e+06</td>\n",
              "      <td>0.1</td>\n",
              "      <td>99.408087</td>\n",
              "      <td>-0.487151</td>\n",
              "      <td>173</td>\n",
              "      <td>...</td>\n",
              "      <td>0</td>\n",
              "      <td>1</td>\n",
              "      <td>0</td>\n",
              "      <td>0</td>\n",
              "      <td>0</td>\n",
              "      <td>1</td>\n",
              "      <td>0</td>\n",
              "      <td>0</td>\n",
              "      <td>0</td>\n",
              "      <td>1</td>\n",
              "    </tr>\n",
              "    <tr>\n",
              "      <th>1116</th>\n",
              "      <td>5.56</td>\n",
              "      <td>2012</td>\n",
              "      <td>25972</td>\n",
              "      <td>2016</td>\n",
              "      <td>4.132529</td>\n",
              "      <td>2.519559e+07</td>\n",
              "      <td>0.1</td>\n",
              "      <td>187.647219</td>\n",
              "      <td>-8.710176</td>\n",
              "      <td>173</td>\n",
              "      <td>...</td>\n",
              "      <td>0</td>\n",
              "      <td>0</td>\n",
              "      <td>0</td>\n",
              "      <td>0</td>\n",
              "      <td>0</td>\n",
              "      <td>0</td>\n",
              "      <td>0</td>\n",
              "      <td>1</td>\n",
              "      <td>0</td>\n",
              "      <td>1</td>\n",
              "    </tr>\n",
              "    <tr>\n",
              "      <th>671</th>\n",
              "      <td>3.88</td>\n",
              "      <td>2017</td>\n",
              "      <td>110040</td>\n",
              "      <td>2018</td>\n",
              "      <td>4.485402</td>\n",
              "      <td>1.028764e+07</td>\n",
              "      <td>0.0</td>\n",
              "      <td>183.836060</td>\n",
              "      <td>7.398393</td>\n",
              "      <td>171</td>\n",
              "      <td>...</td>\n",
              "      <td>0</td>\n",
              "      <td>0</td>\n",
              "      <td>0</td>\n",
              "      <td>0</td>\n",
              "      <td>0</td>\n",
              "      <td>0</td>\n",
              "      <td>1</td>\n",
              "      <td>0</td>\n",
              "      <td>0</td>\n",
              "      <td>1</td>\n",
              "    </tr>\n",
              "  </tbody>\n",
              "</table>\n",
              "<p>5 rows × 42 columns</p>\n",
              "</div>\n",
              "    <div class=\"colab-df-buttons\">\n",
              "\n",
              "  <div class=\"colab-df-container\">\n",
              "    <button class=\"colab-df-convert\" onclick=\"convertToInteractive('df-f45bcc37-5281-4a46-b7d3-dc1e2607e0d4')\"\n",
              "            title=\"Convert this dataframe to an interactive table.\"\n",
              "            style=\"display:none;\">\n",
              "\n",
              "  <svg xmlns=\"http://www.w3.org/2000/svg\" height=\"24px\" viewBox=\"0 -960 960 960\">\n",
              "    <path d=\"M120-120v-720h720v720H120Zm60-500h600v-160H180v160Zm220 220h160v-160H400v160Zm0 220h160v-160H400v160ZM180-400h160v-160H180v160Zm440 0h160v-160H620v160ZM180-180h160v-160H180v160Zm440 0h160v-160H620v160Z\"/>\n",
              "  </svg>\n",
              "    </button>\n",
              "\n",
              "  <style>\n",
              "    .colab-df-container {\n",
              "      display:flex;\n",
              "      gap: 12px;\n",
              "    }\n",
              "\n",
              "    .colab-df-convert {\n",
              "      background-color: #E8F0FE;\n",
              "      border: none;\n",
              "      border-radius: 50%;\n",
              "      cursor: pointer;\n",
              "      display: none;\n",
              "      fill: #1967D2;\n",
              "      height: 32px;\n",
              "      padding: 0 0 0 0;\n",
              "      width: 32px;\n",
              "    }\n",
              "\n",
              "    .colab-df-convert:hover {\n",
              "      background-color: #E2EBFA;\n",
              "      box-shadow: 0px 1px 2px rgba(60, 64, 67, 0.3), 0px 1px 3px 1px rgba(60, 64, 67, 0.15);\n",
              "      fill: #174EA6;\n",
              "    }\n",
              "\n",
              "    .colab-df-buttons div {\n",
              "      margin-bottom: 4px;\n",
              "    }\n",
              "\n",
              "    [theme=dark] .colab-df-convert {\n",
              "      background-color: #3B4455;\n",
              "      fill: #D2E3FC;\n",
              "    }\n",
              "\n",
              "    [theme=dark] .colab-df-convert:hover {\n",
              "      background-color: #434B5C;\n",
              "      box-shadow: 0px 1px 3px 1px rgba(0, 0, 0, 0.15);\n",
              "      filter: drop-shadow(0px 1px 2px rgba(0, 0, 0, 0.3));\n",
              "      fill: #FFFFFF;\n",
              "    }\n",
              "  </style>\n",
              "\n",
              "    <script>\n",
              "      const buttonEl =\n",
              "        document.querySelector('#df-f45bcc37-5281-4a46-b7d3-dc1e2607e0d4 button.colab-df-convert');\n",
              "      buttonEl.style.display =\n",
              "        google.colab.kernel.accessAllowed ? 'block' : 'none';\n",
              "\n",
              "      async function convertToInteractive(key) {\n",
              "        const element = document.querySelector('#df-f45bcc37-5281-4a46-b7d3-dc1e2607e0d4');\n",
              "        const dataTable =\n",
              "          await google.colab.kernel.invokeFunction('convertToInteractive',\n",
              "                                                    [key], {});\n",
              "        if (!dataTable) return;\n",
              "\n",
              "        const docLinkHtml = 'Like what you see? Visit the ' +\n",
              "          '<a target=\"_blank\" href=https://colab.research.google.com/notebooks/data_table.ipynb>data table notebook</a>'\n",
              "          + ' to learn more about interactive tables.';\n",
              "        element.innerHTML = '';\n",
              "        dataTable['output_type'] = 'display_data';\n",
              "        await google.colab.output.renderOutput(dataTable, element);\n",
              "        const docLink = document.createElement('div');\n",
              "        docLink.innerHTML = docLinkHtml;\n",
              "        element.appendChild(docLink);\n",
              "      }\n",
              "    </script>\n",
              "  </div>\n",
              "\n",
              "\n",
              "<div id=\"df-d03ba77c-08bd-4cf3-a1b9-7e904cd3bd3b\">\n",
              "  <button class=\"colab-df-quickchart\" onclick=\"quickchart('df-d03ba77c-08bd-4cf3-a1b9-7e904cd3bd3b')\"\n",
              "            title=\"Suggest charts\"\n",
              "            style=\"display:none;\">\n",
              "\n",
              "<svg xmlns=\"http://www.w3.org/2000/svg\" height=\"24px\"viewBox=\"0 0 24 24\"\n",
              "     width=\"24px\">\n",
              "    <g>\n",
              "        <path d=\"M19 3H5c-1.1 0-2 .9-2 2v14c0 1.1.9 2 2 2h14c1.1 0 2-.9 2-2V5c0-1.1-.9-2-2-2zM9 17H7v-7h2v7zm4 0h-2V7h2v10zm4 0h-2v-4h2v4z\"/>\n",
              "    </g>\n",
              "</svg>\n",
              "  </button>\n",
              "\n",
              "<style>\n",
              "  .colab-df-quickchart {\n",
              "      --bg-color: #E8F0FE;\n",
              "      --fill-color: #1967D2;\n",
              "      --hover-bg-color: #E2EBFA;\n",
              "      --hover-fill-color: #174EA6;\n",
              "      --disabled-fill-color: #AAA;\n",
              "      --disabled-bg-color: #DDD;\n",
              "  }\n",
              "\n",
              "  [theme=dark] .colab-df-quickchart {\n",
              "      --bg-color: #3B4455;\n",
              "      --fill-color: #D2E3FC;\n",
              "      --hover-bg-color: #434B5C;\n",
              "      --hover-fill-color: #FFFFFF;\n",
              "      --disabled-bg-color: #3B4455;\n",
              "      --disabled-fill-color: #666;\n",
              "  }\n",
              "\n",
              "  .colab-df-quickchart {\n",
              "    background-color: var(--bg-color);\n",
              "    border: none;\n",
              "    border-radius: 50%;\n",
              "    cursor: pointer;\n",
              "    display: none;\n",
              "    fill: var(--fill-color);\n",
              "    height: 32px;\n",
              "    padding: 0;\n",
              "    width: 32px;\n",
              "  }\n",
              "\n",
              "  .colab-df-quickchart:hover {\n",
              "    background-color: var(--hover-bg-color);\n",
              "    box-shadow: 0 1px 2px rgba(60, 64, 67, 0.3), 0 1px 3px 1px rgba(60, 64, 67, 0.15);\n",
              "    fill: var(--button-hover-fill-color);\n",
              "  }\n",
              "\n",
              "  .colab-df-quickchart-complete:disabled,\n",
              "  .colab-df-quickchart-complete:disabled:hover {\n",
              "    background-color: var(--disabled-bg-color);\n",
              "    fill: var(--disabled-fill-color);\n",
              "    box-shadow: none;\n",
              "  }\n",
              "\n",
              "  .colab-df-spinner {\n",
              "    border: 2px solid var(--fill-color);\n",
              "    border-color: transparent;\n",
              "    border-bottom-color: var(--fill-color);\n",
              "    animation:\n",
              "      spin 1s steps(1) infinite;\n",
              "  }\n",
              "\n",
              "  @keyframes spin {\n",
              "    0% {\n",
              "      border-color: transparent;\n",
              "      border-bottom-color: var(--fill-color);\n",
              "      border-left-color: var(--fill-color);\n",
              "    }\n",
              "    20% {\n",
              "      border-color: transparent;\n",
              "      border-left-color: var(--fill-color);\n",
              "      border-top-color: var(--fill-color);\n",
              "    }\n",
              "    30% {\n",
              "      border-color: transparent;\n",
              "      border-left-color: var(--fill-color);\n",
              "      border-top-color: var(--fill-color);\n",
              "      border-right-color: var(--fill-color);\n",
              "    }\n",
              "    40% {\n",
              "      border-color: transparent;\n",
              "      border-right-color: var(--fill-color);\n",
              "      border-top-color: var(--fill-color);\n",
              "    }\n",
              "    60% {\n",
              "      border-color: transparent;\n",
              "      border-right-color: var(--fill-color);\n",
              "    }\n",
              "    80% {\n",
              "      border-color: transparent;\n",
              "      border-right-color: var(--fill-color);\n",
              "      border-bottom-color: var(--fill-color);\n",
              "    }\n",
              "    90% {\n",
              "      border-color: transparent;\n",
              "      border-bottom-color: var(--fill-color);\n",
              "    }\n",
              "  }\n",
              "</style>\n",
              "\n",
              "  <script>\n",
              "    async function quickchart(key) {\n",
              "      const quickchartButtonEl =\n",
              "        document.querySelector('#' + key + ' button');\n",
              "      quickchartButtonEl.disabled = true;  // To prevent multiple clicks.\n",
              "      quickchartButtonEl.classList.add('colab-df-spinner');\n",
              "      try {\n",
              "        const charts = await google.colab.kernel.invokeFunction(\n",
              "            'suggestCharts', [key], {});\n",
              "      } catch (error) {\n",
              "        console.error('Error during call to suggestCharts:', error);\n",
              "      }\n",
              "      quickchartButtonEl.classList.remove('colab-df-spinner');\n",
              "      quickchartButtonEl.classList.add('colab-df-quickchart-complete');\n",
              "    }\n",
              "    (() => {\n",
              "      let quickchartButtonEl =\n",
              "        document.querySelector('#df-d03ba77c-08bd-4cf3-a1b9-7e904cd3bd3b button');\n",
              "      quickchartButtonEl.style.display =\n",
              "        google.colab.kernel.accessAllowed ? 'block' : 'none';\n",
              "    })();\n",
              "  </script>\n",
              "</div>\n",
              "\n",
              "    </div>\n",
              "  </div>\n"
            ],
            "application/vnd.google.colaboratory.intrinsic+json": {
              "type": "dataframe",
              "variable_name": "X_train_cor_one_hot"
            }
          },
          "metadata": {},
          "execution_count": 296
        }
      ]
    },
    {
      "cell_type": "code",
      "source": [
        "###initialize Boruta\n",
        "forest = RandomForestRegressor(\n",
        "   n_jobs = -1,\n",
        "   max_depth = 3\n",
        ")\n",
        "boruta = BorutaPy(\n",
        "   estimator = forest,\n",
        "   n_estimators = 'auto',\n",
        "   max_iter = 8, # number of trials to perform\n",
        "    verbose=1\n",
        ")\n",
        "\n",
        "np.int = np.int32\n",
        "np.float = np.float64\n",
        "np.bool = np.bool_\n",
        "\n",
        "### fit Boruta (it accepts np.array, not pd.DataFrame)\n",
        "boruta.fit(np.array(X_train_cor_one_hot), np.array(y_train_cor))\n",
        "### print results\n",
        "green_area = X_train_cor_one_hot.columns[boruta.support_].to_list()\n",
        "blue_area = X_train_cor_one_hot.columns[boruta.support_weak_].to_list()\n",
        "red_area = X_train_cor_one_hot.columns[~(boruta.support_ | boruta.support_weak_)].to_list()\n",
        "print('features in the green area:', green_area)\n",
        "print('features in the blue area:', blue_area)\n",
        "print('features in the red area:', red_area)"
      ],
      "metadata": {
        "colab": {
          "base_uri": "https://localhost:8080/"
        },
        "id": "7DmfuJwILF3m",
        "outputId": "24c02ac2-4207-4390-f378-8972554eee6f"
      },
      "execution_count": null,
      "outputs": [
        {
          "output_type": "stream",
          "name": "stdout",
          "text": [
            "Iteration: 1 / 8\n",
            "Iteration: 2 / 8\n",
            "Iteration: 3 / 8\n",
            "Iteration: 4 / 8\n",
            "Iteration: 5 / 8\n",
            "Iteration: 6 / 8\n",
            "Iteration: 7 / 8\n",
            "\n",
            "\n",
            "BorutaPy finished running.\n",
            "\n",
            "Iteration: \t8 / 8\n",
            "Confirmed: \t0\n",
            "Tentative: \t5\n",
            "Rejected: \t0\n",
            "features in the green area: []\n",
            "features in the blue area: ['mean_rating', 'rating_min', 'speed_max', 'user_uniq', 'car_type_premium']\n",
            "features in the red area: ['car_rating', 'year_to_start', 'riders', 'year_to_work', 'distance_sum', 'user_ride_quality_median', 'model_Audi A3', 'model_Audi A4', 'model_Audi Q3', 'model_BMW 320i', 'model_Fiat 500', 'model_Hyundai Solaris', 'model_Kia Rio', 'model_Kia Rio X', 'model_Kia Rio X-line', 'model_Kia Sportage', 'model_MINI CooperSE', 'model_Mercedes-Benz E200', 'model_Mercedes-Benz GLC', 'model_Mini Cooper', 'model_Nissan Qashqai', 'model_Renault Kaptur', 'model_Renault Sandero', 'model_Skoda Rapid', 'model_Smart Coupe', 'model_Smart ForFour', 'model_Smart ForTwo', 'model_Tesla Model 3', 'model_VW Polo', 'model_VW Polo VI', 'model_VW Tiguan', 'model_Volkswagen ID.4 ', 'car_type_business', 'car_type_economy', 'car_type_standart', 'fuel_type_electro', 'fuel_type_petrol']\n"
          ]
        }
      ]
    },
    {
      "cell_type": "markdown",
      "source": [
        "Зелёная зона оказалась пуста. В синей зоне имеем следующие признаки: `car_rating`, `riders`, `mean_rating`, `distance_sum`, `rating_min`, `speed_max`, `user_uniq`,`car_type`, `fuel_type`, `model`."
      ],
      "metadata": {
        "id": "OMgpuT1SL1tL"
      }
    },
    {
      "cell_type": "markdown",
      "source": [
        "### 7️⃣ Предварительные выводы корреляционного анализа"
      ],
      "metadata": {
        "id": "72Us3p-iMuQW"
      }
    },
    {
      "cell_type": "markdown",
      "source": [
        "Подведём некоторые итоги и наглядно покажем, какие признаки по мнению разных методов анализа признаков важны."
      ],
      "metadata": {
        "id": "9nvdBW_1M1nN"
      }
    },
    {
      "cell_type": "code",
      "source": [
        "Phik = {'speed_max', 'mean_rating', 'fuel_type', 'user_uniq', 'car_type', 'model', 'rating_min', 'distance_sum'}\n",
        "FI = {'speed_max', 'mean_rating', 'rating_min', 'riders', 'distance_sum', 'car_rating', 'user_ride_quality_median', 'model', 'user_uniq', 'car_type', 'year_to_work', 'fuel_type', 'year_to_start'}\n",
        "PI = {'speed_max', 'mean_rating', 'rating_min', 'car_type', 'distance_sum', 'fuel_type', 'user_uniq'}\n",
        "SHAP = {'speed_max', 'mean_rating', 'rating_min', 'car_type', 'distance_sum', 'user_uniq', 'fuel_type', 'model'}\n",
        "CBFS = {'car_type', 'fuel_type', 'riders', 'mean_rating', 'distance_sum', 'rating_min', 'speed_max', 'user_uniq'}\n",
        "Boruta = {'car_rating', 'riders', 'mean_rating', 'distance_sum', 'rating_min', 'speed_max', 'user_uniq', 'car_type', 'fuel_type', 'model'}"
      ],
      "metadata": {
        "id": "RVoo8lBe6luW"
      },
      "execution_count": null,
      "outputs": []
    },
    {
      "cell_type": "code",
      "source": [
        "Phik.intersection(FI, PI, SHAP, CBFS, Boruta)"
      ],
      "metadata": {
        "id": "SDEaByZ47F6S",
        "colab": {
          "base_uri": "https://localhost:8080/"
        },
        "outputId": "b9c20f20-6ebb-492b-eb33-b938839e84ac"
      },
      "execution_count": null,
      "outputs": [
        {
          "output_type": "execute_result",
          "data": {
            "text/plain": [
              "{'car_type',\n",
              " 'distance_sum',\n",
              " 'fuel_type',\n",
              " 'mean_rating',\n",
              " 'rating_min',\n",
              " 'speed_max',\n",
              " 'user_uniq'}"
            ]
          },
          "metadata": {},
          "execution_count": 299
        }
      ]
    },
    {
      "cell_type": "markdown",
      "source": [
        "Наиболее часто встречающиеся признаки: `speed_max`, `mean_rating`, `distance_sum`, `rating_min`, `car_type`, `user_uniq` и `fuel_type`. Именно с ними и попробуем дальше работать."
      ],
      "metadata": {
        "id": "YgMQrR7IllTJ"
      }
    },
    {
      "cell_type": "markdown",
      "source": [
        "# 3️⃣ Обучение моделей"
      ],
      "metadata": {
        "id": "PCgfCcYUZQnQ"
      }
    },
    {
      "cell_type": "markdown",
      "source": [
        "## 1️⃣ Baseline-модель"
      ],
      "metadata": {
        "id": "ZfXmYbNGjEwD"
      }
    },
    {
      "cell_type": "markdown",
      "source": [
        "Прежде чем убирать признаки из нашего датасета, для начала обучим модели на стандартных данных и посмотрим, как изменяется качество прогноза, если мы оставим только 7 признаков."
      ],
      "metadata": {
        "id": "ptk9k4FIZXm5"
      }
    },
    {
      "cell_type": "code",
      "source": [
        "# ещё раз выделим тренировочную и тестовую выборки\n",
        "\n",
        "X = train_df.drop('target_reg', axis=1)\n",
        "y = train_df['target_reg']"
      ],
      "metadata": {
        "id": "HcIBaTBRZqhG"
      },
      "execution_count": null,
      "outputs": []
    },
    {
      "cell_type": "markdown",
      "source": [
        "Пройдёмся сразу по всем кодировщикам (кроме OneHotEncoder, так как нам нельзя добавлять новые признаки), скалёрам и моделям."
      ],
      "metadata": {
        "id": "Z7ozg9ike9_W"
      }
    },
    {
      "cell_type": "code",
      "source": [
        "%%capture\n",
        "baseline_models = make_baseline_prediction(X, y)"
      ],
      "metadata": {
        "id": "sTrCGCxmfIUQ"
      },
      "execution_count": null,
      "outputs": []
    },
    {
      "cell_type": "code",
      "source": [
        "# выведем на экран результаты обучения\n",
        "\n",
        "for i, result in enumerate(sorted(baseline_models, key=lambda x: x[3]), start=1):\n",
        "    print(f'{i}. Model: {result[0]}, encoder: {result[1]}, scaler: {result[2]}, RMSE: {result[3]}')"
      ],
      "metadata": {
        "id": "zoZbtFSjiilz",
        "colab": {
          "base_uri": "https://localhost:8080/"
        },
        "outputId": "530ba433-ba66-4c67-f9b6-3a26c662300b"
      },
      "execution_count": null,
      "outputs": [
        {
          "output_type": "stream",
          "name": "stdout",
          "text": [
            "1. Model: CatBoostRegressor, encoder: OrdinalEncoder, scaler: StandardScaler, RMSE: 11.45892\n",
            "2. Model: CatBoostRegressor, encoder: TargetEncoder, scaler: StandardScaler, RMSE: 11.45892\n",
            "3. Model: CatBoostRegressor, encoder: LeaveOneOutEncoder, scaler: StandardScaler, RMSE: 11.45892\n",
            "4. Model: CatBoostRegressor, encoder: OrdinalEncoder, scaler: RobustScaler, RMSE: 11.45926\n",
            "5. Model: CatBoostRegressor, encoder: TargetEncoder, scaler: RobustScaler, RMSE: 11.45926\n",
            "6. Model: CatBoostRegressor, encoder: LeaveOneOutEncoder, scaler: RobustScaler, RMSE: 11.45926\n",
            "7. Model: CatBoostRegressor, encoder: no, scaler: no, RMSE: 11.45926\n",
            "8. Model: CatBoostRegressor, encoder: OrdinalEncoder, scaler: MinMaxScaler, RMSE: 11.47094\n",
            "9. Model: CatBoostRegressor, encoder: TargetEncoder, scaler: MinMaxScaler, RMSE: 11.47094\n",
            "10. Model: CatBoostRegressor, encoder: LeaveOneOutEncoder, scaler: MinMaxScaler, RMSE: 11.47094\n",
            "11. Model: LightGBM, encoder: OrdinalEncoder, scaler: StandardScaler, RMSE: 11.9233\n",
            "12. Model: LightGBM, encoder: TargetEncoder, scaler: StandardScaler, RMSE: 11.9233\n",
            "13. Model: LightGBM, encoder: LeaveOneOutEncoder, scaler: StandardScaler, RMSE: 11.9233\n",
            "14. Model: LightGBM, encoder: OrdinalEncoder, scaler: RobustScaler, RMSE: 11.96027\n",
            "15. Model: LightGBM, encoder: TargetEncoder, scaler: RobustScaler, RMSE: 11.96027\n",
            "16. Model: LightGBM, encoder: LeaveOneOutEncoder, scaler: RobustScaler, RMSE: 11.96027\n",
            "17. Model: LightGBM, encoder: OrdinalEncoder, scaler: MinMaxScaler, RMSE: 11.98166\n",
            "18. Model: LightGBM, encoder: TargetEncoder, scaler: MinMaxScaler, RMSE: 11.98166\n",
            "19. Model: LightGBM, encoder: LeaveOneOutEncoder, scaler: MinMaxScaler, RMSE: 11.98166\n",
            "20. Model: XGBoost, encoder: OrdinalEncoder, scaler: MinMaxScaler, RMSE: 12.02106\n",
            "21. Model: XGBoost, encoder: OrdinalEncoder, scaler: StandardScaler, RMSE: 12.02106\n",
            "22. Model: XGBoost, encoder: OrdinalEncoder, scaler: RobustScaler, RMSE: 12.02106\n",
            "23. Model: XGBoost, encoder: TargetEncoder, scaler: MinMaxScaler, RMSE: 12.02106\n",
            "24. Model: XGBoost, encoder: TargetEncoder, scaler: StandardScaler, RMSE: 12.02106\n",
            "25. Model: XGBoost, encoder: TargetEncoder, scaler: RobustScaler, RMSE: 12.02106\n",
            "26. Model: XGBoost, encoder: LeaveOneOutEncoder, scaler: MinMaxScaler, RMSE: 12.02106\n",
            "27. Model: XGBoost, encoder: LeaveOneOutEncoder, scaler: StandardScaler, RMSE: 12.02106\n",
            "28. Model: XGBoost, encoder: LeaveOneOutEncoder, scaler: RobustScaler, RMSE: 12.02106\n"
          ]
        }
      ]
    },
    {
      "cell_type": "markdown",
      "source": [
        "На необработанных данных лучше всего себя показала модель CatBoostRegressor в связке с OrdinalEncoder и StandardScaler, будем использовать со всеми моделями эти два инструмента."
      ],
      "metadata": {
        "id": "e3NJQ-dHine8"
      }
    },
    {
      "cell_type": "markdown",
      "source": [
        "Сделаем предсказания со стандартными признаками без отбора и посмотрим качество на лидерборде."
      ],
      "metadata": {
        "id": "KJVQP8mTPyif"
      }
    },
    {
      "cell_type": "code",
      "source": [
        "X_train, X_test, y_train, y_test = train_test_split(X, y, test_size=0.25, random_state=RANDOM_STATE)\n",
        "\n",
        "# кодировщик категориальных признаков и масштабирование\n",
        "transformer = Pipeline([\n",
        "          ('encoder_', OrdinalEncoder(cols=X_train.columns[X_train.dtypes == 'object'])),\n",
        "          ('scaler_', StandardScaler())])\n",
        "\n",
        "X_train = pd.DataFrame(transformer.fit_transform(X_train),\n",
        "                       columns=transformer.named_steps['encoder_']\n",
        "                       .get_feature_names_out())\n",
        "\n",
        "X_test = pd.DataFrame(transformer.fit_transform(X_test),\n",
        "                      columns=transformer.named_steps['encoder_']\n",
        "                      .get_feature_names_out())\n",
        "\n",
        "test_data = pd.DataFrame(transformer.fit_transform(test_df.drop(['target_class', 'car_id', 'deviation_normal_count'], axis=1)),\n",
        "                      columns=transformer.named_steps['encoder_']\n",
        "                      .get_feature_names_out())"
      ],
      "metadata": {
        "id": "DbsiB1VeQLzY"
      },
      "execution_count": null,
      "outputs": []
    },
    {
      "cell_type": "markdown",
      "source": [
        "### 1️⃣ XGBRegressor"
      ],
      "metadata": {
        "id": "E1VPcxLyWGZL"
      }
    },
    {
      "cell_type": "code",
      "source": [
        "default_xgb = XGBRegressor(verbose=0,\n",
        "                          random_state=RANDOM_STATE,\n",
        "                          boosting_type='dart').fit(X_train, y_train)\n",
        "\n",
        "tested_pred = default_xgb.predict(test_data)\n",
        "\n",
        "pd.DataFrame({'car_id': test_df['car_id'], 'target_reg': tested_pred}).to_csv('submission_stepik_xgb_baseline_default.csv', index=False)"
      ],
      "metadata": {
        "id": "03O6a-zqQjDv"
      },
      "execution_count": null,
      "outputs": []
    },
    {
      "cell_type": "markdown",
      "source": [
        "![image.png](data:image/png;base64,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)"
      ],
      "metadata": {
        "id": "uLi_BmJLUnp5"
      }
    },
    {
      "cell_type": "code",
      "source": [
        "results.append({\n",
        "    'model_name': 'XGBRegressor',\n",
        "    'tuning': False,\n",
        "    'mean_kfold_score': 12.02,\n",
        "    'leaderboard_score': 13.1,\n",
        "    'model': default_xgb\n",
        "})"
      ],
      "metadata": {
        "id": "JwPBUfkHUs5h"
      },
      "execution_count": null,
      "outputs": []
    },
    {
      "cell_type": "markdown",
      "source": [
        "### 2️⃣ CatBoostRegressor"
      ],
      "metadata": {
        "id": "1B9dGacQWP2Y"
      }
    },
    {
      "cell_type": "code",
      "source": [
        "default_cb = CatBoostRegressor(verbose=0,\n",
        "                               random_state=RANDOM_STATE).fit(X_train,\n",
        "                                                              y_train,\n",
        "                                                              eval_set=(X_test, y_test))\n",
        "\n",
        "tested_pred = default_cb.predict(test_data)\n",
        "\n",
        "pd.DataFrame({'car_id': test_df['car_id'], 'target_reg': tested_pred}).to_csv('submission_stepik_cb_baseline_default.csv', index=False)"
      ],
      "metadata": {
        "id": "6AwRilRYU_5n"
      },
      "execution_count": null,
      "outputs": []
    },
    {
      "cell_type": "markdown",
      "source": [
        "![image.png](data:image/png;base64,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)"
      ],
      "metadata": {
        "id": "sP0oJ0-YVd0d"
      }
    },
    {
      "cell_type": "code",
      "source": [
        "results.append({\n",
        "    'model_name': 'CatBoostRegressor',\n",
        "    'tuning': False,\n",
        "    'mean_kfold_score': 11.46,\n",
        "    'leaderboard_score': 12.0,\n",
        "    'model': default_cb\n",
        "})"
      ],
      "metadata": {
        "id": "lMEaCwzoVf8n"
      },
      "execution_count": null,
      "outputs": []
    },
    {
      "cell_type": "markdown",
      "source": [
        "### 3️⃣ LGBMRegressor"
      ],
      "metadata": {
        "id": "PFFfoD_gWS2e"
      }
    },
    {
      "cell_type": "code",
      "source": [
        "default_lgb = LGBMRegressor(verbose=-1,\n",
        "                          random_state=RANDOM_STATE,\n",
        "                          booster='goss').fit(X_train, y_train)\n",
        "\n",
        "tested_pred = default_lgb.predict(test_data)\n",
        "\n",
        "pd.DataFrame({'car_id': test_df['car_id'], 'target_reg': tested_pred}).to_csv('submission_stepik_lgb_baseline_default.csv', index=False)"
      ],
      "metadata": {
        "id": "Vf3ETivHVo_j"
      },
      "execution_count": null,
      "outputs": []
    },
    {
      "cell_type": "markdown",
      "source": [
        "![image.png](data:image/png;base64,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)"
      ],
      "metadata": {
        "id": "b-rRqoN4V6q5"
      }
    },
    {
      "cell_type": "code",
      "source": [
        "results.append({\n",
        "    'model_name': 'LGBMRegressor',\n",
        "    'tuning': False,\n",
        "    'mean_kfold_score': 11.9,\n",
        "    'leaderboard_score': 12.7,\n",
        "    'model': default_cb\n",
        "})"
      ],
      "metadata": {
        "id": "Mc-m3dHwV91q"
      },
      "execution_count": null,
      "outputs": []
    },
    {
      "cell_type": "markdown",
      "source": [
        "Предварительно лучшей является модель CatBoostRegressor."
      ],
      "metadata": {
        "id": "OuNJ6Wi0Wfio"
      }
    },
    {
      "cell_type": "markdown",
      "source": [
        "## 2️⃣ Feature Selection"
      ],
      "metadata": {
        "id": "mxtb9GHZj8-b"
      }
    },
    {
      "cell_type": "markdown",
      "source": [
        "Во второй части мы выделили наиболее важные признаки: `speed_max`, `mean_rating`, `distance_sum`, `rating_min`, `car_type`, `user_uniq`, `fuel_type` - оставим в тренировочной выборке только их."
      ],
      "metadata": {
        "id": "W0BgUKpo8UEH"
      }
    },
    {
      "cell_type": "code",
      "source": [
        "X_selected = train_df[['speed_max', 'mean_rating', 'distance_sum', 'rating_min', 'car_type', 'user_uniq', 'fuel_type']]\n",
        "y_selected = train_df['target_reg']"
      ],
      "metadata": {
        "id": "sDKshL_JkanD"
      },
      "execution_count": null,
      "outputs": []
    },
    {
      "cell_type": "code",
      "source": [
        "%%capture\n",
        "\n",
        "baseline_models_with_selected_features = make_baseline_prediction(X_selected,\n",
        "                                                                  y_selected)"
      ],
      "metadata": {
        "id": "iTRiFRHYkieZ"
      },
      "execution_count": null,
      "outputs": []
    },
    {
      "cell_type": "code",
      "source": [
        "# оценим теперь качество на отобранных признаках\n",
        "\n",
        "for i, result in enumerate(sorted(baseline_models_with_selected_features,\n",
        "                                  key=lambda x: x[3]), start=1):\n",
        "    print(f'{i}. Model: {result[0]}, encoder: {result[1]}, scaler: {result[2]}, RMSE: {result[3]}')"
      ],
      "metadata": {
        "id": "2Q1yu87bkpUe",
        "colab": {
          "base_uri": "https://localhost:8080/"
        },
        "outputId": "0fcfbf85-2803-4df6-9228-234945605efd"
      },
      "execution_count": null,
      "outputs": [
        {
          "output_type": "stream",
          "name": "stdout",
          "text": [
            "1. Model: CatBoostRegressor, encoder: OrdinalEncoder, scaler: StandardScaler, RMSE: 11.49352\n",
            "2. Model: CatBoostRegressor, encoder: TargetEncoder, scaler: StandardScaler, RMSE: 11.49352\n",
            "3. Model: CatBoostRegressor, encoder: LeaveOneOutEncoder, scaler: StandardScaler, RMSE: 11.49352\n",
            "4. Model: CatBoostRegressor, encoder: OrdinalEncoder, scaler: MinMaxScaler, RMSE: 11.49371\n",
            "5. Model: CatBoostRegressor, encoder: TargetEncoder, scaler: MinMaxScaler, RMSE: 11.49371\n",
            "6. Model: CatBoostRegressor, encoder: LeaveOneOutEncoder, scaler: MinMaxScaler, RMSE: 11.49371\n",
            "7. Model: CatBoostRegressor, encoder: OrdinalEncoder, scaler: RobustScaler, RMSE: 11.49377\n",
            "8. Model: CatBoostRegressor, encoder: TargetEncoder, scaler: RobustScaler, RMSE: 11.49377\n",
            "9. Model: CatBoostRegressor, encoder: LeaveOneOutEncoder, scaler: RobustScaler, RMSE: 11.49377\n",
            "10. Model: CatBoostRegressor, encoder: no, scaler: no, RMSE: 11.49377\n",
            "11. Model: XGBoost, encoder: OrdinalEncoder, scaler: MinMaxScaler, RMSE: 12.05407\n",
            "12. Model: XGBoost, encoder: OrdinalEncoder, scaler: StandardScaler, RMSE: 12.05407\n",
            "13. Model: XGBoost, encoder: OrdinalEncoder, scaler: RobustScaler, RMSE: 12.05407\n",
            "14. Model: XGBoost, encoder: TargetEncoder, scaler: MinMaxScaler, RMSE: 12.05407\n",
            "15. Model: XGBoost, encoder: TargetEncoder, scaler: StandardScaler, RMSE: 12.05407\n",
            "16. Model: XGBoost, encoder: TargetEncoder, scaler: RobustScaler, RMSE: 12.05407\n",
            "17. Model: XGBoost, encoder: LeaveOneOutEncoder, scaler: MinMaxScaler, RMSE: 12.05407\n",
            "18. Model: XGBoost, encoder: LeaveOneOutEncoder, scaler: StandardScaler, RMSE: 12.05407\n",
            "19. Model: XGBoost, encoder: LeaveOneOutEncoder, scaler: RobustScaler, RMSE: 12.05407\n",
            "20. Model: LightGBM, encoder: OrdinalEncoder, scaler: StandardScaler, RMSE: 12.32284\n",
            "21. Model: LightGBM, encoder: TargetEncoder, scaler: StandardScaler, RMSE: 12.32284\n",
            "22. Model: LightGBM, encoder: LeaveOneOutEncoder, scaler: StandardScaler, RMSE: 12.32284\n",
            "23. Model: LightGBM, encoder: OrdinalEncoder, scaler: MinMaxScaler, RMSE: 12.32294\n",
            "24. Model: LightGBM, encoder: TargetEncoder, scaler: MinMaxScaler, RMSE: 12.32294\n",
            "25. Model: LightGBM, encoder: LeaveOneOutEncoder, scaler: MinMaxScaler, RMSE: 12.32294\n",
            "26. Model: LightGBM, encoder: OrdinalEncoder, scaler: RobustScaler, RMSE: 12.3782\n",
            "27. Model: LightGBM, encoder: TargetEncoder, scaler: RobustScaler, RMSE: 12.3782\n",
            "28. Model: LightGBM, encoder: LeaveOneOutEncoder, scaler: RobustScaler, RMSE: 12.3782\n"
          ]
        }
      ]
    },
    {
      "cell_type": "markdown",
      "source": [
        "Качество незначительно упало, зато обучаемость выросла. Но так как есть смысл подобрать гиперпараметры через GridSearchCV или RandomizedSearchCV, будем работать с этими данными."
      ],
      "metadata": {
        "id": "dl_5208Tkzo5"
      }
    },
    {
      "cell_type": "markdown",
      "source": [
        "Так как по условиям задания нельзя работать с фреймворком Optuna и нельзя добавлять новые признаки (например, можно было бы `speed_max` разбить на 12 бинов - по правилу Фридмана-Дайнеса), то работаем с такими данными."
      ],
      "metadata": {
        "id": "sGr7cC2hlkGW"
      }
    },
    {
      "cell_type": "markdown",
      "source": [
        "## 3️⃣ Object Selection"
      ],
      "metadata": {
        "id": "lJ02CA9qlMt5"
      }
    },
    {
      "cell_type": "markdown",
      "source": [
        "Так как у нас имеют выбросы в целевой переменной `target_reg` на графике Boxplot, то попробуем пролагорифмировать целевую переменную и отсеить выбросы, после чего посмотрим на качество нашей модели."
      ],
      "metadata": {
        "id": "8YWHFTxaPgRC"
      }
    },
    {
      "cell_type": "code",
      "source": [
        "# взглянем на BoxPlot после применения логарифмирования и применения клипинга - значения от 2.5 до 4.8\n",
        "sns.boxplot(np.log1p(train_df['target_reg']))\n",
        "plt.show();"
      ],
      "metadata": {
        "id": "FMe04okYQNZn",
        "colab": {
          "base_uri": "https://localhost:8080/",
          "height": 411
        },
        "outputId": "a4c31d38-30d3-4803-98eb-8064bf8967d9"
      },
      "execution_count": null,
      "outputs": [
        {
          "output_type": "display_data",
          "data": {
            "text/plain": [
              "<Figure size 640x480 with 1 Axes>"
            ],
            "image/png": "[encoded data removed]"
          },
          "metadata": {}
        }
      ]
    },
    {
      "cell_type": "code",
      "source": [
        "# посчитаем число выбросов\n",
        "\n",
        "len(np.log1p(train_df['target_reg'])[np.log1p(train_df['target_reg']) > 4.8])"
      ],
      "metadata": {
        "id": "csij_maIm4ct",
        "colab": {
          "base_uri": "https://localhost:8080/"
        },
        "outputId": "1e6b0bfd-8c78-4afe-eb8c-3533c49b95eb"
      },
      "execution_count": null,
      "outputs": [
        {
          "output_type": "execute_result",
          "data": {
            "text/plain": [
              "4"
            ]
          },
          "metadata": {},
          "execution_count": 314
        }
      ]
    },
    {
      "cell_type": "markdown",
      "source": [
        "Попробуем несколько методов обработки выбросов и построим новые модели с печатью значений скоринга."
      ],
      "metadata": {
        "id": "hz5IvRRv3JZQ"
      }
    },
    {
      "cell_type": "code",
      "source": [
        "# функция для обучения модели CatBoostRegressor\n",
        "\n",
        "def catboost_reg(X, y, random_seed=RANDOM_STATE):\n",
        "\n",
        "    X_train, X_test, y_train, y_test = train_test_split(X,\n",
        "                                                        y,\n",
        "                                                        random_state=random_seed,\n",
        "                                                        test_size=0.25)\n",
        "\n",
        "    cat_cols_idx = [i for i, dtype in enumerate(X_train.dtypes) if dtype == 'object']\n",
        "\n",
        "    cb_model = CatBoostRegressor(verbose=0,\n",
        "                             early_stopping_rounds=150,\n",
        "                             cat_features=cat_cols_idx,\n",
        "                             random_state=RANDOM_STATE).fit(X_train,\n",
        "                                                            y_train,\n",
        "                                                            eval_set=(X_test, y_test))\n",
        "\n",
        "    y_pred = cb_model.predict(X_test)\n",
        "    rmse_score = mean_squared_error(y_test, y_pred) ** 0.5\n",
        "\n",
        "    return rmse_score, cb_model"
      ],
      "metadata": {
        "id": "eA5mKz0v7Pij"
      },
      "execution_count": null,
      "outputs": []
    },
    {
      "cell_type": "code",
      "source": [
        "# сразу применим кодировщики к тестовым данным\n",
        "\n",
        "tested_df = test_df[['speed_max', 'mean_rating', 'distance_sum', 'rating_min', 'car_type', 'user_uniq', 'fuel_type']]\n",
        "\n",
        "tested_transformer = Pipeline([\n",
        "          ('encoder_', OrdinalEncoder(cols=tested_df.columns[tested_df.dtypes == 'object'])),\n",
        "          ('scaler_', StandardScaler())])\n",
        "\n",
        "tested_transformed_data = pd.DataFrame(tested_transformer.fit_transform(tested_df),\n",
        "                                    columns=tested_transformer.named_steps['encoder_']\n",
        "                                    .get_feature_names_out())"
      ],
      "metadata": {
        "id": "WnyWDE4cCUUI"
      },
      "execution_count": null,
      "outputs": []
    },
    {
      "cell_type": "markdown",
      "source": [
        "Для начала посмотрим качество прогноза на тестовых данных на стандартной модели CatBoostRegressor."
      ],
      "metadata": {
        "id": "OXfjDa6IHr7-"
      }
    },
    {
      "cell_type": "markdown",
      "source": [
        "###  1️⃣ CatBoostRegressor"
      ],
      "metadata": {
        "id": "GG9DD9wGZsFq"
      }
    },
    {
      "cell_type": "code",
      "source": [
        "# применение кодировщиков к отобранным данным и проведение прогноза на тестовых данных\n",
        "\n",
        "baseline_data = encoder_scaler(X_selected, y_selected, 'OrdinalEncoder', 'StandardScaler')\n",
        "\n",
        "baseline_model_cb_score, baseline_model_cb = catboost_reg(baseline_data,\n",
        "                                                          y_selected)\n",
        "\n",
        "tested_pred_log = baseline_model_cb.predict(tested_transformed_data)\n",
        "\n",
        "pd.DataFrame({'car_id': test_df['car_id'], 'target_reg': tested_pred_log}).to_csv('submission_stepik_cb_baseline.csv', index=False)"
      ],
      "metadata": {
        "id": "6uKDVc11H9Po"
      },
      "execution_count": null,
      "outputs": []
    },
    {
      "cell_type": "markdown",
      "source": [
        "![image.png](data:image/png;base64,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)"
      ],
      "metadata": {
        "id": "lgr07RXSIeA2"
      }
    },
    {
      "cell_type": "code",
      "source": [
        "results.append({\n",
        "    'model_name': 'CatBoostRegressor',\n",
        "    'tuning': False,\n",
        "    'mean_kfold_score': 11.49,\n",
        "    'leaderboard_score': 11.7,\n",
        "    'model': baseline_model_cb\n",
        "})"
      ],
      "metadata": {
        "id": "V56SOACpODPJ"
      },
      "execution_count": null,
      "outputs": []
    },
    {
      "cell_type": "markdown",
      "source": [
        "Порог в 12 RMSE побит, но попробуем улучшить качество без добавления новых признаков."
      ],
      "metadata": {
        "id": "jczeunsDIfk5"
      }
    },
    {
      "cell_type": "markdown",
      "source": [
        "Так же обучим другие две модели и посмотрим на качество прогноза на лидерборде."
      ],
      "metadata": {
        "id": "LkBQGURANWRO"
      }
    },
    {
      "cell_type": "markdown",
      "source": [
        "### 2️⃣ LGBMRegressor"
      ],
      "metadata": {
        "id": "67qhsDVxZwY7"
      }
    },
    {
      "cell_type": "code",
      "source": [
        "baseline_model_lgbm = LGBMRegressor(verbose=-1,\n",
        "                          random_state=RANDOM_STATE,\n",
        "                          booster='goss').fit(X_selected_transformed,\n",
        "                                              y_selected)\n",
        "\n",
        "tested_pred = baseline_model_lgbm.predict(tested_transformed_data)\n",
        "\n",
        "pd.DataFrame({'car_id': test_df['car_id'], 'target_reg': tested_pred}).to_csv('submission_stepik_lgb_baseline.csv', index=False)"
      ],
      "metadata": {
        "id": "lJScJ9qdOMSz"
      },
      "execution_count": null,
      "outputs": []
    },
    {
      "cell_type": "markdown",
      "source": [
        "![image.png](data:image/png;base64,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)"
      ],
      "metadata": {
        "id": "eKeq1TyGOzL0"
      }
    },
    {
      "cell_type": "code",
      "source": [
        "results.append({\n",
        "    'model_name': 'LGBMRegressor',\n",
        "    'tuning': False,\n",
        "    'mean_kfold_score': 12.05,\n",
        "    'leaderboard_score': 12.2,\n",
        "    'model': baseline_model_lgbm\n",
        "})"
      ],
      "metadata": {
        "id": "cBG7zF7dO85J"
      },
      "execution_count": null,
      "outputs": []
    },
    {
      "cell_type": "code",
      "source": [
        "baseline_model_xgb = XGBRegressor(verbose=0,\n",
        "                          random_state=RANDOM_STATE,\n",
        "                          boosting_type='dart').fit(X_selected_transformed,\n",
        "                                              y_selected)\n",
        "\n",
        "tested_pred = baseline_model_xgb.predict(tested_transformed_data)\n",
        "\n",
        "pd.DataFrame({'car_id': test_df['car_id'], 'target_reg': tested_pred}).to_csv('submission_stepik_xgb_baseline.csv', index=False)"
      ],
      "metadata": {
        "id": "8g9EILtkPLGy"
      },
      "execution_count": null,
      "outputs": []
    },
    {
      "cell_type": "markdown",
      "source": [
        "![image.png](data:image/png;base64,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)"
      ],
      "metadata": {
        "id": "zG4VTfLrPifr"
      }
    },
    {
      "cell_type": "markdown",
      "source": [
        "### 3️⃣ XGBRegressor"
      ],
      "metadata": {
        "id": "NOWYiKDzZ0iV"
      }
    },
    {
      "cell_type": "code",
      "source": [
        "results.append({\n",
        "    'model_name': 'XGBRegressor',\n",
        "    'tuning': False,\n",
        "    'mean_kfold_score': 12.32,\n",
        "    'leaderboard_score': 12.8,\n",
        "    'model': baseline_model_xgb\n",
        "})"
      ],
      "metadata": {
        "id": "K-96J-EfPkMi"
      },
      "execution_count": null,
      "outputs": []
    },
    {
      "cell_type": "markdown",
      "source": [
        "## 4️⃣ Логарифмирование целевой переменной"
      ],
      "metadata": {
        "id": "MOyCT6AUI2T_"
      }
    },
    {
      "cell_type": "markdown",
      "source": [
        "Сначала попробуем применить логарифмирование, а затем применим к данным клипинг и посмотрим скоринг на модели. В качество модели выберем лидера среди всех baseline-моделей - CatBoostRegressor (OrdinalScaler + StandardScaler)."
      ],
      "metadata": {
        "id": "C9jA4Zd9ImtT"
      }
    },
    {
      "cell_type": "code",
      "source": [
        "%%capture\n",
        "\n",
        "filtered_data_1 = X_selected.copy()\n",
        "\n",
        "# обработка выбросов логарифмированием и клипингом (диапазон предварительно определили по графику)\n",
        "filtered_data_1 = encoder_scaler(filtered_data_1, y_selected, 'OrdinalEncoder', 'StandardScaler')\n",
        "filtered_data_1['target_reg'] = np.log(y_selected).clip(lower=2.5, upper=4.8)\n",
        "\n",
        "baseline_models_with_log_y = train_model('CatBoostRegressor',\n",
        "                                         filtered_data_1.drop('target_reg', axis=1),\n",
        "                                         filtered_data_1['target_reg'],\n",
        "                                         log_y=True)"
      ],
      "metadata": {
        "id": "hDbNGXwq_ZQF"
      },
      "execution_count": null,
      "outputs": []
    },
    {
      "cell_type": "code",
      "source": [
        "# оценим теперь качество\n",
        "\n",
        "print('RMSE:', baseline_models_with_log_y[0])"
      ],
      "metadata": {
        "colab": {
          "base_uri": "https://localhost:8080/"
        },
        "id": "UbNdsNhHn1VU",
        "outputId": "d8d186c9-fcfe-422a-dad0-3bbba8712ea6"
      },
      "execution_count": null,
      "outputs": [
        {
          "output_type": "stream",
          "name": "stdout",
          "text": [
            "RMSE: 11.47505\n"
          ]
        }
      ]
    },
    {
      "cell_type": "code",
      "source": [
        "# оценка прогноза для лидерборда\n",
        "\n",
        "_, cb_model_log = catboost_reg(filtered_data_1.drop(['target_reg'], axis=1), filtered_data_1['target_reg'])\n",
        "tested_pred_log = np.exp(cb_model_log.predict(tested_transformed_data))\n",
        "\n",
        "pd.DataFrame({'car_id': test_df['car_id'], 'target_reg': tested_pred_log}).to_csv('submission_stepik_cb_log.csv', index=False)"
      ],
      "metadata": {
        "id": "eWX-4RqOCzC8"
      },
      "execution_count": null,
      "outputs": []
    },
    {
      "cell_type": "markdown",
      "source": [
        "![image.png](data:image/png;base64,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)"
      ],
      "metadata": {
        "id": "m-cGvA57EW9w"
      }
    },
    {
      "cell_type": "code",
      "source": [
        "results.append({\n",
        "    'model_name': 'CatBoostRegressor',\n",
        "    'tuning': False,\n",
        "    'mean_kfold_score': 11.47,\n",
        "    'leaderboard_score': 11.8,\n",
        "    'model': cb_model_log\n",
        "})"
      ],
      "metadata": {
        "id": "k97_3nyCWrxD"
      },
      "execution_count": null,
      "outputs": []
    },
    {
      "cell_type": "markdown",
      "source": [
        "Качество прогноза снизилось. Теперь попробуем ещё один вариант - межквартильный размах."
      ],
      "metadata": {
        "id": "TZBaVbG32NPQ"
      }
    },
    {
      "cell_type": "markdown",
      "source": [
        "## 5️⃣ Межквартильный размах"
      ],
      "metadata": {
        "id": "8z4hX6ju2Wo2"
      }
    },
    {
      "cell_type": "code",
      "source": [
        "%%capture\n",
        "\n",
        "iqr_data = X_selected.copy()\n",
        "\n",
        "# определение межквантильного размаха\n",
        "q1 = y_selected.quantile(0.25)\n",
        "q3 = y_selected.quantile(0.75)\n",
        "iqr = q3 - q1\n",
        "\n",
        "lower_bound = q1 - 1.5 * iqr\n",
        "upper_bound = q3 + 1.5 * iqr\n",
        "\n",
        "filtered_data_2 = encoder_scaler(iqr_data, y_selected, 'OrdinalEncoder', 'StandardScaler')\n",
        "filtered_data_2['target_reg'] = y_selected.copy()\n",
        "\n",
        "# отсеиваем данные, после чего проверяем скоринг\n",
        "filtered_data_2 = filtered_data_2[(filtered_data_2['target_reg'] > lower_bound) & (filtered_data_2['target_reg'] < upper_bound)].reset_index(drop=True)\n",
        "\n",
        "baseline_models_with_iqr = train_model('CatBoostRegressor',\n",
        "                                         filtered_data_2.drop('target_reg', axis=1),\n",
        "                                         filtered_data_2['target_reg'])"
      ],
      "metadata": {
        "id": "qHP9NSE-Dbiw"
      },
      "execution_count": null,
      "outputs": []
    },
    {
      "cell_type": "code",
      "source": [
        "# оценим теперь качество\n",
        "\n",
        "print('RMSE:', baseline_models_with_iqr[0])"
      ],
      "metadata": {
        "colab": {
          "base_uri": "https://localhost:8080/"
        },
        "id": "Bp_nkJo72pa1",
        "outputId": "03d613fa-2e50-4e1f-88a9-36fe2244ea92"
      },
      "execution_count": null,
      "outputs": [
        {
          "output_type": "stream",
          "name": "stdout",
          "text": [
            "RMSE: 10.15736\n"
          ]
        }
      ]
    },
    {
      "cell_type": "markdown",
      "source": [
        "Качество удалось повысить. Теперь посмотрим на скоринг на Stepik на тестовых данных."
      ],
      "metadata": {
        "id": "TEY_1XZP9R9N"
      }
    },
    {
      "cell_type": "code",
      "source": [
        "_, cb_model_iqr = catboost_reg(filtered_data_2.drop('target_reg', axis=1), filtered_data_2['target_reg'])\n",
        "\n",
        "tested_pred = cb_model_iqr.predict(tested_transformed_data)\n",
        "\n",
        "pd.DataFrame({'car_id': test_df['car_id'], 'target_reg': tested_pred}).to_csv('submission_stepik_cb_iqr.csv', index=False)"
      ],
      "metadata": {
        "id": "st8TPqct9YpN"
      },
      "execution_count": null,
      "outputs": []
    },
    {
      "cell_type": "markdown",
      "source": [
        "На тестовых данных качество снова снизилось, но на тренировочных улучшилось. Это можем говорить о том, что наша модель больше переобучилась. Можно сделать вывод, что, возможно, мы теряем часть данных, когда применяем Object Selection, поэтому оставляем всё, как есть, то есть сырые данные, и будем подбирать параметры через RandomizedSearchCV."
      ],
      "metadata": {
        "id": "f2SnMx254xzE"
      }
    },
    {
      "cell_type": "markdown",
      "source": [
        "![image.png](data:image/png;base64,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)"
      ],
      "metadata": {
        "id": "BChwIT4jE37Z"
      }
    },
    {
      "cell_type": "code",
      "source": [
        "results.append({\n",
        "    'model_name': 'CatBoostRegressor',\n",
        "    'tuning': False,\n",
        "    'mean_kfold_score': 10.25,\n",
        "    'leaderboard_score': 12.0,\n",
        "    'model': cb_model_iqr\n",
        "})"
      ],
      "metadata": {
        "id": "YDa_e3-8Wz8Q"
      },
      "execution_count": null,
      "outputs": []
    },
    {
      "cell_type": "markdown",
      "source": [
        "# 4️⃣ Подбор гиперпараметров"
      ],
      "metadata": {
        "id": "mZNzYSDTFdnf"
      }
    },
    {
      "cell_type": "code",
      "source": [
        "%%capture\n",
        "\n",
        "param_catboost = {\n",
        "    'learning_rate': [0.01, 0.05, 0.1],\n",
        "    'depth': [3, 5, 7, 10],\n",
        "    'l2_leaf_reg': [1, 3, 5, 7, 9],\n",
        "    'border_count': [32, 64, 128],\n",
        "    'bagging_temperature': [0.5, 0.7, 0.9],\n",
        "    'random_strength': [0.5, 0.7, 0.9],\n",
        "    'subsample': [0.5, 0.7, 0.9],\n",
        "    'colsample_bylevel': [0.5, 0.7, 0.9],\n",
        "    'min_child_samples': [5, 10, 20, 30],\n",
        "    'random_state': np.arange(1, 1000)\n",
        "}\n",
        "\n",
        "param_lgbm = {\n",
        "    'n_estimators': [100, 500, 1000],\n",
        "    'max_depth': [3, 5, 7, 10],\n",
        "    'learning_rate': [0.01, 0.05, 0.1],\n",
        "    'subsample': [0.5, 0.7, 0.9],\n",
        "    'colsample_bytree': [0.5, 0.7, 0.9],\n",
        "    'reg_alpha': [0, 0.1, 0.5, 1],\n",
        "    'reg_lambda': [0, 0.1, 0.5, 1],\n",
        "    'min_child_samples': [5, 10, 20, 30],\n",
        "    'random_state': np.arange(1, 1000)\n",
        "}\n",
        "\n",
        "param_xgb = {\n",
        "    'n_estimators': [100, 500, 1000],\n",
        "    'max_depth': [3, 5, 7, 10],\n",
        "    'learning_rate': [0.01, 0.05, 0.1],\n",
        "    'subsample': [0.5, 0.7, 0.9],\n",
        "    'colsample_bytree': [0.5, 0.7, 0.9],\n",
        "    'gamma': [0, 0.1, 0.3, 1],\n",
        "    'reg_alpha': [0, 0.1, 0.5, 1],\n",
        "    'reg_lambda': [0, 0.1, 0.5, 1],\n",
        "    'min_child_weight': [1, 3, 5, 10],\n",
        "    'objective': ['reg:squarederror'],\n",
        "    'random_state': np.arange(1, 1000)\n",
        "}\n",
        "\n",
        "tested_transformer = Pipeline([\n",
        "          ('encoder_', OrdinalEncoder(cols=tested_df.columns[tested_df.dtypes == 'object'])),\n",
        "          ('scaler_', StandardScaler())])\n",
        "\n",
        "X_selected_transformed = pd.DataFrame(tested_transformer.fit_transform(X_selected),\n",
        "                                    columns=tested_transformer.named_steps['encoder_']\n",
        "                                    .get_feature_names_out())\n",
        "\n",
        "catboost_params_after_tuning, catboost_score = RandomSearchCV(X_selected_transformed, y_selected, param_catboost, CatBoostRegressor(thread_count=-1, verbose=0))\n",
        "lgbm_params_after_tuning, lgbm_score = RandomSearchCV(X_selected_transformed, y_selected, param_lgbm, LGBMRegressor(thread_count=-1, verbosity=-1))\n",
        "xgb_params_after_tuning, xgb_score = RandomSearchCV(X_selected_transformed, y_selected, param_xgb, XGBRegressor(thread_count=-1, verbosity=0))"
      ],
      "metadata": {
        "id": "YHhmHXezGm1M"
      },
      "execution_count": null,
      "outputs": []
    },
    {
      "cell_type": "code",
      "source": [
        "print(f'RMSE CatBoostRegressor: {catboost_score}, \\nRMSE LGBRegressor: {lgbm_score}, \\nRMSE XGBRegressor: {xgb_score}')"
      ],
      "metadata": {
        "colab": {
          "base_uri": "https://localhost:8080/"
        },
        "id": "bBCSzPVwJjxu",
        "outputId": "94ea35cf-cfd7-4109-ec0e-2993e6c8a0ae"
      },
      "execution_count": null,
      "outputs": [
        {
          "output_type": "stream",
          "name": "stdout",
          "text": [
            "RMSE CatBoostRegressor: 12.998375283603165, \n",
            "RMSE LGBRegressor: 13.977256145901583, \n",
            "RMSE XGBRegressor: 14.750704987326728\n"
          ]
        }
      ]
    },
    {
      "cell_type": "code",
      "source": [
        "results.append({\n",
        "    'model_name': 'CatBoostRegressor',\n",
        "    'tuning': True,\n",
        "    'mean_kfold_score': 12.8,\n",
        "    'leaderboard_score': '-',\n",
        "    'model': '-'\n",
        "})\n",
        "\n",
        "results.append({\n",
        "    'model_name': 'LGBMRegressor',\n",
        "    'tuning': True,\n",
        "    'mean_kfold_score': 14.22,\n",
        "    'leaderboard_score': '-',\n",
        "    'model': '-'\n",
        "})\n",
        "\n",
        "results.append({\n",
        "    'model_name': 'XGBRegressor',\n",
        "    'tuning': True,\n",
        "    'mean_kfold_score': 15.53,\n",
        "    'leaderboard_score': '-',\n",
        "    'model': '-'\n",
        "})"
      ],
      "metadata": {
        "id": "4QiPbyVkW98a"
      },
      "execution_count": null,
      "outputs": []
    },
    {
      "cell_type": "markdown",
      "source": [
        "При подборе гипрпараметров качество прогноза упало на всех моделях, поэтому в целях экономии времени не будем проверять качество на лидерборде. Попробуем тепрь подобрать значение random_state, чтобы на модели CatBoostRegressor качество выросло настолько, насколько возможно. Так же попробуем изменить тип `boosting_type` у модели XGBoost и `booster` у модели LightGBM."
      ],
      "metadata": {
        "id": "Slh02orS8cOB"
      }
    },
    {
      "cell_type": "markdown",
      "source": [
        "# 5️⃣ Дополнительный подбор параметров"
      ],
      "metadata": {
        "id": "ECSv_TYP8p0s"
      }
    },
    {
      "cell_type": "markdown",
      "source": [
        "## 1️⃣ CatBoostRegressor"
      ],
      "metadata": {
        "id": "rczTHZ5saH7y"
      }
    },
    {
      "cell_type": "markdown",
      "source": [
        "Попробуем подобрать `random_seed` для модели CatBoostRegressor, качество будем проверять на кросс-валидации."
      ],
      "metadata": {
        "id": "HPjFNIKN_pAz"
      }
    },
    {
      "cell_type": "code",
      "source": [
        "best_rmse = 1000\n",
        "random_param = 9999\n",
        "\n",
        "for _ in range(50):\n",
        "    random_seed = np.random.randint(1000)\n",
        "    rmse_score, _ = train_model('CatBoostRegressor',\n",
        "                                X_selected_transformed,\n",
        "                                y_selected,\n",
        "                                random_seed=random_seed)\n",
        "\n",
        "    if rmse_score < best_rmse:\n",
        "        best_rmse = rmse_score\n",
        "        random_param = random_seed\n",
        "        print('RMSE:', rmse_score)"
      ],
      "metadata": {
        "colab": {
          "base_uri": "https://localhost:8080/"
        },
        "id": "LZl62Q_49Auy",
        "outputId": "f0959f62-06c5-4480-cfe7-aa54b1d3d5b4"
      },
      "execution_count": null,
      "outputs": [
        {
          "output_type": "stream",
          "name": "stdout",
          "text": [
            "RMSE: 11.53018\n",
            "RMSE: 11.51382\n",
            "RMSE: 11.51238\n",
            "RMSE: 11.48364\n",
            "RMSE: 11.48031\n",
            "RMSE: 11.46993\n"
          ]
        }
      ]
    },
    {
      "cell_type": "code",
      "source": [
        "_, cb_model_random = catboost_reg(X_selected_transformed, y_selected, random_seed=random_param)\n",
        "\n",
        "tested_pred = cb_model_random.predict(tested_transformed_data)\n",
        "\n",
        "pd.DataFrame({'car_id': test_df['car_id'], 'target_reg': tested_pred}).to_csv('submission_stepik_cb_random_state.csv', index=False)"
      ],
      "metadata": {
        "id": "ZARh3Eq1AV_y"
      },
      "execution_count": null,
      "outputs": []
    },
    {
      "cell_type": "markdown",
      "source": [
        "![image.png](data:image/png;base64,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)"
      ],
      "metadata": {
        "id": "J5ssqAoaDlNA"
      }
    },
    {
      "cell_type": "code",
      "source": [
        "results.append({\n",
        "    'model_name': 'CatBoostRegressor',\n",
        "    'tuning': True,\n",
        "    'mean_kfold_score': 11.46,\n",
        "    'leaderboard_score': 11.8,\n",
        "    'model': cb_model_random\n",
        "})"
      ],
      "metadata": {
        "id": "A4JXQnM8XW_X"
      },
      "execution_count": null,
      "outputs": []
    },
    {
      "cell_type": "markdown",
      "source": [
        "Качество сильно не изменилось. Попробуем теперь обучить модели XGBoost и LightGBM с другими типами бустинга."
      ],
      "metadata": {
        "id": "4JOsirQV_7pk"
      }
    },
    {
      "cell_type": "markdown",
      "source": [
        "## 2️⃣ LGBMRegressor"
      ],
      "metadata": {
        "id": "AZGL7bpDaMmT"
      }
    },
    {
      "cell_type": "code",
      "source": [
        "lgbm_dart_score, _ = train_model('LightGBM',\n",
        "                                 X_selected_transformed,\n",
        "                                 y_selected,\n",
        "                                 init_params={'booster': 'dart',\n",
        "                                              'random_state': RANDOM_STATE,\n",
        "                                              'verbosity': -1})\n",
        "\n",
        "print('RMSE of LightGBM (dart):', lgbm_dart_score)"
      ],
      "metadata": {
        "colab": {
          "base_uri": "https://localhost:8080/"
        },
        "id": "LQetnpU-AFei",
        "outputId": "671a4ff4-4a32-4617-aaab-3f8cad23c4cc"
      },
      "execution_count": null,
      "outputs": [
        {
          "output_type": "stream",
          "name": "stdout",
          "text": [
            "RMSE of LightGBM (dart): 12.32313\n"
          ]
        }
      ]
    },
    {
      "cell_type": "code",
      "source": [
        "lgbm_dart = LGBMRegressor(verbose=-1,\n",
        "                          random_state=RANDOM_STATE,\n",
        "                          booster='dart').fit(X_selected_transformed,\n",
        "                                              y_selected)\n",
        "\n",
        "tested_pred = lgbm_dart.predict(tested_transformed_data)\n",
        "\n",
        "pd.DataFrame({'car_id': test_df['car_id'], 'target_reg': tested_pred}).to_csv('submission_stepik_lgbm_dart.csv', index=False)"
      ],
      "metadata": {
        "id": "WgWeQ3IZFeAp"
      },
      "execution_count": null,
      "outputs": []
    },
    {
      "cell_type": "markdown",
      "source": [
        "![image.png](data:image/png;base64,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)"
      ],
      "metadata": {
        "id": "h_XFjMv7GAPn"
      }
    },
    {
      "cell_type": "code",
      "source": [
        "results.append({\n",
        "    'model_name': 'LGBMRegressor',\n",
        "    'tuning': 'dart',\n",
        "    'mean_kfold_score': 12.32,\n",
        "    'leaderboard_score': 12.2,\n",
        "    'model': lgbm_dart\n",
        "})"
      ],
      "metadata": {
        "id": "amoMCkmIXhEe"
      },
      "execution_count": null,
      "outputs": []
    },
    {
      "cell_type": "markdown",
      "source": [
        "## 3️⃣ XGBRegressor"
      ],
      "metadata": {
        "id": "2Fsngs52aRlS"
      }
    },
    {
      "cell_type": "code",
      "source": [
        "xgb_gbtree_score, _ = train_model('XGBoost',\n",
        "                                  X_selected_transformed,\n",
        "                                  y_selected,\n",
        "                                  init_params={'boosting_type': 'gbtree',\n",
        "                                               'random_state': RANDOM_STATE,\n",
        "                                               'verbosity': 0})\n",
        "\n",
        "print('RMSE of XGBoost (dart):', xgb_gbtree_score)"
      ],
      "metadata": {
        "colab": {
          "base_uri": "https://localhost:8080/"
        },
        "id": "w6LKlIxEFVvO",
        "outputId": "6d05ce46-a1d6-4215-c442-fdc06043baff"
      },
      "execution_count": null,
      "outputs": [
        {
          "output_type": "stream",
          "name": "stdout",
          "text": [
            "RMSE of XGBoost (dart): 12.05407\n"
          ]
        }
      ]
    },
    {
      "cell_type": "code",
      "source": [
        "xgb_gbtree = XGBRegressor(verbose=0,\n",
        "                         random_state=RANDOM_STATE,\n",
        "                         boosting_type='gbtree').fit(X_selected_transformed,\n",
        "                                                     y_selected)\n",
        "\n",
        "tested_pred = xgb_gbtree.predict(tested_transformed_data)\n",
        "\n",
        "pd.DataFrame({'car_id': test_df['car_id'], 'target_reg': tested_pred}).to_csv('submission_stepik_xgb_gbtree.csv', index=False)"
      ],
      "metadata": {
        "id": "EIB_D3psGJnm"
      },
      "execution_count": null,
      "outputs": []
    },
    {
      "cell_type": "markdown",
      "source": [
        "![image.png](data:image/png;base64,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)"
      ],
      "metadata": {
        "id": "Wy36nMWiGq8J"
      }
    },
    {
      "cell_type": "code",
      "source": [
        "results.append({\n",
        "    'model_name': 'XGBRegressor',\n",
        "    'tuning': 'gbtree',\n",
        "    'mean_kfold_score': 12.05,\n",
        "    'leaderboard_score': 12.8,\n",
        "    'model': xgb_gbtree\n",
        "})"
      ],
      "metadata": {
        "id": "nO_5hn8_XrJ8"
      },
      "execution_count": null,
      "outputs": []
    },
    {
      "cell_type": "markdown",
      "source": [
        "Лучшее значение скоринга RMSE даёт baseline-модель CatBoostRegressor, поэтому выберём её в качестве лучшей из всех."
      ],
      "metadata": {
        "id": "A8eb8xgLG0Wl"
      }
    },
    {
      "cell_type": "markdown",
      "source": [
        "# 6️⃣ Выводы"
      ],
      "metadata": {
        "id": "Vk7qf18IJiDm"
      }
    },
    {
      "cell_type": "code",
      "source": [
        "results = pd.DataFrame(results)\n",
        "results"
      ],
      "metadata": {
        "colab": {
          "base_uri": "https://localhost:8080/",
          "height": 488
        },
        "id": "aRX8sS-BXwQu",
        "outputId": "c5cd9e2d-7851-458a-9e5d-5f265d0f471d"
      },
      "execution_count": null,
      "outputs": [
        {
          "output_type": "execute_result",
          "data": {
            "text/plain": [
              "           model_name  tuning  mean_kfold_score leaderboard_score  \\\n",
              "0        XGBRegressor   False             12.02              13.1   \n",
              "1   CatBoostRegressor   False             11.46              12.0   \n",
              "2       LGBMRegressor   False             11.90              12.7   \n",
              "3   CatBoostRegressor   False             11.49              11.7   \n",
              "4       LGBMRegressor   False             12.05              12.2   \n",
              "5        XGBRegressor   False             12.32              12.8   \n",
              "6   CatBoostRegressor   False             11.47              11.8   \n",
              "7   CatBoostRegressor   False             10.25              12.0   \n",
              "8   CatBoostRegressor    True             12.80                 -   \n",
              "9       LGBMRegressor    True             14.22                 -   \n",
              "10       XGBRegressor    True             15.53                 -   \n",
              "11  CatBoostRegressor    True             11.46              11.8   \n",
              "12      LGBMRegressor    dart             12.32              12.2   \n",
              "13       XGBRegressor  gbtree             12.05              12.8   \n",
              "\n",
              "                                                model  \n",
              "0   XGBRegressor(base_score=None, booster=None, bo...  \n",
              "1   <catboost.core.CatBoostRegressor object at 0x7...  \n",
              "2   <catboost.core.CatBoostRegressor object at 0x7...  \n",
              "3   <catboost.core.CatBoostRegressor object at 0x7...  \n",
              "4   LGBMRegressor(booster='goss', random_state=73,...  \n",
              "5   XGBRegressor(base_score=None, booster=None, bo...  \n",
              "6   <catboost.core.CatBoostRegressor object at 0x7...  \n",
              "7   <catboost.core.CatBoostRegressor object at 0x7...  \n",
              "8                                                   -  \n",
              "9                                                   -  \n",
              "10                                                  -  \n",
              "11  <catboost.core.CatBoostRegressor object at 0x7...  \n",
              "12  LGBMRegressor(booster='dart', random_state=73,...  \n",
              "13  XGBRegressor(base_score=None, booster=None, bo...  "
            ],
            "text/html": [
              "\n",
              "  <div id=\"df-44214db3-6c94-49e6-bcc3-c3076f50f62d\" class=\"colab-df-container\">\n",
              "    <div>\n",
              "<style scoped>\n",
              "    .dataframe tbody tr th:only-of-type {\n",
              "        vertical-align: middle;\n",
              "    }\n",
              "\n",
              "    .dataframe tbody tr th {\n",
              "        vertical-align: top;\n",
              "    }\n",
              "\n",
              "    .dataframe thead th {\n",
              "        text-align: right;\n",
              "    }\n",
              "</style>\n",
              "<table border=\"1\" class=\"dataframe\">\n",
              "  <thead>\n",
              "    <tr style=\"text-align: right;\">\n",
              "      <th></th>\n",
              "      <th>model_name</th>\n",
              "      <th>tuning</th>\n",
              "      <th>mean_kfold_score</th>\n",
              "      <th>leaderboard_score</th>\n",
              "      <th>model</th>\n",
              "    </tr>\n",
              "  </thead>\n",
              "  <tbody>\n",
              "    <tr>\n",
              "      <th>0</th>\n",
              "      <td>XGBRegressor</td>\n",
              "      <td>False</td>\n",
              "      <td>12.02</td>\n",
              "      <td>13.1</td>\n",
              "      <td>XGBRegressor(base_score=None, booster=None, bo...</td>\n",
              "    </tr>\n",
              "    <tr>\n",
              "      <th>1</th>\n",
              "      <td>CatBoostRegressor</td>\n",
              "      <td>False</td>\n",
              "      <td>11.46</td>\n",
              "      <td>12.0</td>\n",
              "      <td>&lt;catboost.core.CatBoostRegressor object at 0x7...</td>\n",
              "    </tr>\n",
              "    <tr>\n",
              "      <th>2</th>\n",
              "      <td>LGBMRegressor</td>\n",
              "      <td>False</td>\n",
              "      <td>11.90</td>\n",
              "      <td>12.7</td>\n",
              "      <td>&lt;catboost.core.CatBoostRegressor object at 0x7...</td>\n",
              "    </tr>\n",
              "    <tr>\n",
              "      <th>3</th>\n",
              "      <td>CatBoostRegressor</td>\n",
              "      <td>False</td>\n",
              "      <td>11.49</td>\n",
              "      <td>11.7</td>\n",
              "      <td>&lt;catboost.core.CatBoostRegressor object at 0x7...</td>\n",
              "    </tr>\n",
              "    <tr>\n",
              "      <th>4</th>\n",
              "      <td>LGBMRegressor</td>\n",
              "      <td>False</td>\n",
              "      <td>12.05</td>\n",
              "      <td>12.2</td>\n",
              "      <td>LGBMRegressor(booster='goss', random_state=73,...</td>\n",
              "    </tr>\n",
              "    <tr>\n",
              "      <th>5</th>\n",
              "      <td>XGBRegressor</td>\n",
              "      <td>False</td>\n",
              "      <td>12.32</td>\n",
              "      <td>12.8</td>\n",
              "      <td>XGBRegressor(base_score=None, booster=None, bo...</td>\n",
              "    </tr>\n",
              "    <tr>\n",
              "      <th>6</th>\n",
              "      <td>CatBoostRegressor</td>\n",
              "      <td>False</td>\n",
              "      <td>11.47</td>\n",
              "      <td>11.8</td>\n",
              "      <td>&lt;catboost.core.CatBoostRegressor object at 0x7...</td>\n",
              "    </tr>\n",
              "    <tr>\n",
              "      <th>7</th>\n",
              "      <td>CatBoostRegressor</td>\n",
              "      <td>False</td>\n",
              "      <td>10.25</td>\n",
              "      <td>12.0</td>\n",
              "      <td>&lt;catboost.core.CatBoostRegressor object at 0x7...</td>\n",
              "    </tr>\n",
              "    <tr>\n",
              "      <th>8</th>\n",
              "      <td>CatBoostRegressor</td>\n",
              "      <td>True</td>\n",
              "      <td>12.80</td>\n",
              "      <td>-</td>\n",
              "      <td>-</td>\n",
              "    </tr>\n",
              "    <tr>\n",
              "      <th>9</th>\n",
              "      <td>LGBMRegressor</td>\n",
              "      <td>True</td>\n",
              "      <td>14.22</td>\n",
              "      <td>-</td>\n",
              "      <td>-</td>\n",
              "    </tr>\n",
              "    <tr>\n",
              "      <th>10</th>\n",
              "      <td>XGBRegressor</td>\n",
              "      <td>True</td>\n",
              "      <td>15.53</td>\n",
              "      <td>-</td>\n",
              "      <td>-</td>\n",
              "    </tr>\n",
              "    <tr>\n",
              "      <th>11</th>\n",
              "      <td>CatBoostRegressor</td>\n",
              "      <td>True</td>\n",
              "      <td>11.46</td>\n",
              "      <td>11.8</td>\n",
              "      <td>&lt;catboost.core.CatBoostRegressor object at 0x7...</td>\n",
              "    </tr>\n",
              "    <tr>\n",
              "      <th>12</th>\n",
              "      <td>LGBMRegressor</td>\n",
              "      <td>dart</td>\n",
              "      <td>12.32</td>\n",
              "      <td>12.2</td>\n",
              "      <td>LGBMRegressor(booster='dart', random_state=73,...</td>\n",
              "    </tr>\n",
              "    <tr>\n",
              "      <th>13</th>\n",
              "      <td>XGBRegressor</td>\n",
              "      <td>gbtree</td>\n",
              "      <td>12.05</td>\n",
              "      <td>12.8</td>\n",
              "      <td>XGBRegressor(base_score=None, booster=None, bo...</td>\n",
              "    </tr>\n",
              "  </tbody>\n",
              "</table>\n",
              "</div>\n",
              "    <div class=\"colab-df-buttons\">\n",
              "\n",
              "  <div class=\"colab-df-container\">\n",
              "    <button class=\"colab-df-convert\" onclick=\"convertToInteractive('df-44214db3-6c94-49e6-bcc3-c3076f50f62d')\"\n",
              "            title=\"Convert this dataframe to an interactive table.\"\n",
              "            style=\"display:none;\">\n",
              "\n",
              "  <svg xmlns=\"http://www.w3.org/2000/svg\" height=\"24px\" viewBox=\"0 -960 960 960\">\n",
              "    <path d=\"M120-120v-720h720v720H120Zm60-500h600v-160H180v160Zm220 220h160v-160H400v160Zm0 220h160v-160H400v160ZM180-400h160v-160H180v160Zm440 0h160v-160H620v160ZM180-180h160v-160H180v160Zm440 0h160v-160H620v160Z\"/>\n",
              "  </svg>\n",
              "    </button>\n",
              "\n",
              "  <style>\n",
              "    .colab-df-container {\n",
              "      display:flex;\n",
              "      gap: 12px;\n",
              "    }\n",
              "\n",
              "    .colab-df-convert {\n",
              "      background-color: #E8F0FE;\n",
              "      border: none;\n",
              "      border-radius: 50%;\n",
              "      cursor: pointer;\n",
              "      display: none;\n",
              "      fill: #1967D2;\n",
              "      height: 32px;\n",
              "      padding: 0 0 0 0;\n",
              "      width: 32px;\n",
              "    }\n",
              "\n",
              "    .colab-df-convert:hover {\n",
              "      background-color: #E2EBFA;\n",
              "      box-shadow: 0px 1px 2px rgba(60, 64, 67, 0.3), 0px 1px 3px 1px rgba(60, 64, 67, 0.15);\n",
              "      fill: #174EA6;\n",
              "    }\n",
              "\n",
              "    .colab-df-buttons div {\n",
              "      margin-bottom: 4px;\n",
              "    }\n",
              "\n",
              "    [theme=dark] .colab-df-convert {\n",
              "      background-color: #3B4455;\n",
              "      fill: #D2E3FC;\n",
              "    }\n",
              "\n",
              "    [theme=dark] .colab-df-convert:hover {\n",
              "      background-color: #434B5C;\n",
              "      box-shadow: 0px 1px 3px 1px rgba(0, 0, 0, 0.15);\n",
              "      filter: drop-shadow(0px 1px 2px rgba(0, 0, 0, 0.3));\n",
              "      fill: #FFFFFF;\n",
              "    }\n",
              "  </style>\n",
              "\n",
              "    <script>\n",
              "      const buttonEl =\n",
              "        document.querySelector('#df-44214db3-6c94-49e6-bcc3-c3076f50f62d button.colab-df-convert');\n",
              "      buttonEl.style.display =\n",
              "        google.colab.kernel.accessAllowed ? 'block' : 'none';\n",
              "\n",
              "      async function convertToInteractive(key) {\n",
              "        const element = document.querySelector('#df-44214db3-6c94-49e6-bcc3-c3076f50f62d');\n",
              "        const dataTable =\n",
              "          await google.colab.kernel.invokeFunction('convertToInteractive',\n",
              "                                                    [key], {});\n",
              "        if (!dataTable) return;\n",
              "\n",
              "        const docLinkHtml = 'Like what you see? Visit the ' +\n",
              "          '<a target=\"_blank\" href=https://colab.research.google.com/notebooks/data_table.ipynb>data table notebook</a>'\n",
              "          + ' to learn more about interactive tables.';\n",
              "        element.innerHTML = '';\n",
              "        dataTable['output_type'] = 'display_data';\n",
              "        await google.colab.output.renderOutput(dataTable, element);\n",
              "        const docLink = document.createElement('div');\n",
              "        docLink.innerHTML = docLinkHtml;\n",
              "        element.appendChild(docLink);\n",
              "      }\n",
              "    </script>\n",
              "  </div>\n",
              "\n",
              "\n",
              "<div id=\"df-71b26bd2-dacf-4636-b086-3836b227f3aa\">\n",
              "  <button class=\"colab-df-quickchart\" onclick=\"quickchart('df-71b26bd2-dacf-4636-b086-3836b227f3aa')\"\n",
              "            title=\"Suggest charts\"\n",
              "            style=\"display:none;\">\n",
              "\n",
              "<svg xmlns=\"http://www.w3.org/2000/svg\" height=\"24px\"viewBox=\"0 0 24 24\"\n",
              "     width=\"24px\">\n",
              "    <g>\n",
              "        <path d=\"M19 3H5c-1.1 0-2 .9-2 2v14c0 1.1.9 2 2 2h14c1.1 0 2-.9 2-2V5c0-1.1-.9-2-2-2zM9 17H7v-7h2v7zm4 0h-2V7h2v10zm4 0h-2v-4h2v4z\"/>\n",
              "    </g>\n",
              "</svg>\n",
              "  </button>\n",
              "\n",
              "<style>\n",
              "  .colab-df-quickchart {\n",
              "      --bg-color: #E8F0FE;\n",
              "      --fill-color: #1967D2;\n",
              "      --hover-bg-color: #E2EBFA;\n",
              "      --hover-fill-color: #174EA6;\n",
              "      --disabled-fill-color: #AAA;\n",
              "      --disabled-bg-color: #DDD;\n",
              "  }\n",
              "\n",
              "  [theme=dark] .colab-df-quickchart {\n",
              "      --bg-color: #3B4455;\n",
              "      --fill-color: #D2E3FC;\n",
              "      --hover-bg-color: #434B5C;\n",
              "      --hover-fill-color: #FFFFFF;\n",
              "      --disabled-bg-color: #3B4455;\n",
              "      --disabled-fill-color: #666;\n",
              "  }\n",
              "\n",
              "  .colab-df-quickchart {\n",
              "    background-color: var(--bg-color);\n",
              "    border: none;\n",
              "    border-radius: 50%;\n",
              "    cursor: pointer;\n",
              "    display: none;\n",
              "    fill: var(--fill-color);\n",
              "    height: 32px;\n",
              "    padding: 0;\n",
              "    width: 32px;\n",
              "  }\n",
              "\n",
              "  .colab-df-quickchart:hover {\n",
              "    background-color: var(--hover-bg-color);\n",
              "    box-shadow: 0 1px 2px rgba(60, 64, 67, 0.3), 0 1px 3px 1px rgba(60, 64, 67, 0.15);\n",
              "    fill: var(--button-hover-fill-color);\n",
              "  }\n",
              "\n",
              "  .colab-df-quickchart-complete:disabled,\n",
              "  .colab-df-quickchart-complete:disabled:hover {\n",
              "    background-color: var(--disabled-bg-color);\n",
              "    fill: var(--disabled-fill-color);\n",
              "    box-shadow: none;\n",
              "  }\n",
              "\n",
              "  .colab-df-spinner {\n",
              "    border: 2px solid var(--fill-color);\n",
              "    border-color: transparent;\n",
              "    border-bottom-color: var(--fill-color);\n",
              "    animation:\n",
              "      spin 1s steps(1) infinite;\n",
              "  }\n",
              "\n",
              "  @keyframes spin {\n",
              "    0% {\n",
              "      border-color: transparent;\n",
              "      border-bottom-color: var(--fill-color);\n",
              "      border-left-color: var(--fill-color);\n",
              "    }\n",
              "    20% {\n",
              "      border-color: transparent;\n",
              "      border-left-color: var(--fill-color);\n",
              "      border-top-color: var(--fill-color);\n",
              "    }\n",
              "    30% {\n",
              "      border-color: transparent;\n",
              "      border-left-color: var(--fill-color);\n",
              "      border-top-color: var(--fill-color);\n",
              "      border-right-color: var(--fill-color);\n",
              "    }\n",
              "    40% {\n",
              "      border-color: transparent;\n",
              "      border-right-color: var(--fill-color);\n",
              "      border-top-color: var(--fill-color);\n",
              "    }\n",
              "    60% {\n",
              "      border-color: transparent;\n",
              "      border-right-color: var(--fill-color);\n",
              "    }\n",
              "    80% {\n",
              "      border-color: transparent;\n",
              "      border-right-color: var(--fill-color);\n",
              "      border-bottom-color: var(--fill-color);\n",
              "    }\n",
              "    90% {\n",
              "      border-color: transparent;\n",
              "      border-bottom-color: var(--fill-color);\n",
              "    }\n",
              "  }\n",
              "</style>\n",
              "\n",
              "  <script>\n",
              "    async function quickchart(key) {\n",
              "      const quickchartButtonEl =\n",
              "        document.querySelector('#' + key + ' button');\n",
              "      quickchartButtonEl.disabled = true;  // To prevent multiple clicks.\n",
              "      quickchartButtonEl.classList.add('colab-df-spinner');\n",
              "      try {\n",
              "        const charts = await google.colab.kernel.invokeFunction(\n",
              "            'suggestCharts', [key], {});\n",
              "      } catch (error) {\n",
              "        console.error('Error during call to suggestCharts:', error);\n",
              "      }\n",
              "      quickchartButtonEl.classList.remove('colab-df-spinner');\n",
              "      quickchartButtonEl.classList.add('colab-df-quickchart-complete');\n",
              "    }\n",
              "    (() => {\n",
              "      let quickchartButtonEl =\n",
              "        document.querySelector('#df-71b26bd2-dacf-4636-b086-3836b227f3aa button');\n",
              "      quickchartButtonEl.style.display =\n",
              "        google.colab.kernel.accessAllowed ? 'block' : 'none';\n",
              "    })();\n",
              "  </script>\n",
              "</div>\n",
              "\n",
              "  <div id=\"id_e5fa8b50-b847-49ca-a271-9980e8331726\">\n",
              "    <style>\n",
              "      .colab-df-generate {\n",
              "        background-color: #E8F0FE;\n",
              "        border: none;\n",
              "        border-radius: 50%;\n",
              "        cursor: pointer;\n",
              "        display: none;\n",
              "        fill: #1967D2;\n",
              "        height: 32px;\n",
              "        padding: 0 0 0 0;\n",
              "        width: 32px;\n",
              "      }\n",
              "\n",
              "      .colab-df-generate:hover {\n",
              "        background-color: #E2EBFA;\n",
              "        box-shadow: 0px 1px 2px rgba(60, 64, 67, 0.3), 0px 1px 3px 1px rgba(60, 64, 67, 0.15);\n",
              "        fill: #174EA6;\n",
              "      }\n",
              "\n",
              "      [theme=dark] .colab-df-generate {\n",
              "        background-color: #3B4455;\n",
              "        fill: #D2E3FC;\n",
              "      }\n",
              "\n",
              "      [theme=dark] .colab-df-generate:hover {\n",
              "        background-color: #434B5C;\n",
              "        box-shadow: 0px 1px 3px 1px rgba(0, 0, 0, 0.15);\n",
              "        filter: drop-shadow(0px 1px 2px rgba(0, 0, 0, 0.3));\n",
              "        fill: #FFFFFF;\n",
              "      }\n",
              "    </style>\n",
              "    <button class=\"colab-df-generate\" onclick=\"generateWithVariable('results')\"\n",
              "            title=\"Generate code using this dataframe.\"\n",
              "            style=\"display:none;\">\n",
              "\n",
              "  <svg xmlns=\"http://www.w3.org/2000/svg\" height=\"24px\"viewBox=\"0 0 24 24\"\n",
              "       width=\"24px\">\n",
              "    <path d=\"M7,19H8.4L18.45,9,17,7.55,7,17.6ZM5,21V16.75L18.45,3.32a2,2,0,0,1,2.83,0l1.4,1.43a1.91,1.91,0,0,1,.58,1.4,1.91,1.91,0,0,1-.58,1.4L9.25,21ZM18.45,9,17,7.55Zm-12,3A5.31,5.31,0,0,0,4.9,8.1,5.31,5.31,0,0,0,1,6.5,5.31,5.31,0,0,0,4.9,4.9,5.31,5.31,0,0,0,6.5,1,5.31,5.31,0,0,0,8.1,4.9,5.31,5.31,0,0,0,12,6.5,5.46,5.46,0,0,0,6.5,12Z\"/>\n",
              "  </svg>\n",
              "    </button>\n",
              "    <script>\n",
              "      (() => {\n",
              "      const buttonEl =\n",
              "        document.querySelector('#id_e5fa8b50-b847-49ca-a271-9980e8331726 button.colab-df-generate');\n",
              "      buttonEl.style.display =\n",
              "        google.colab.kernel.accessAllowed ? 'block' : 'none';\n",
              "\n",
              "      buttonEl.onclick = () => {\n",
              "        google.colab.notebook.generateWithVariable('results');\n",
              "      }\n",
              "      })();\n",
              "    </script>\n",
              "  </div>\n",
              "\n",
              "    </div>\n",
              "  </div>\n"
            ],
            "application/vnd.google.colaboratory.intrinsic+json": {
              "type": "dataframe",
              "variable_name": "results",
              "repr_error": "unhashable type: 'CatBoostRegressor'"
            }
          },
          "metadata": {},
          "execution_count": 343
        }
      ]
    },
    {
      "cell_type": "markdown",
      "source": [
        "*   Лучшией модель оказалась CatBoostRegressor (OrdinalEncoder, StantardScaler) с автоматически подбираемыми параметрыми с признаками: `speed_max`, `mean_rating`, `distance_sum`, `rating_min`, `car_type`, `user_uniq`, `fuel_type`;\n",
        "*   Качество лучшей модели RMSE = 11.7 на лидерборде;\n",
        "*   Нам не помог Object Selection (логарифмирование и межквартильный размах) - это лишь ухудшило качество модели на кросс-валидации;\n",
        "*   Так как по заданию нельзя добавлять новые признаки и нельзя пользоваться Optuna для подбора гиперпараметров, то больше делать с моделью и датасетом нечего;\n",
        "*   Остальные модели показали результ хуже, им ничто не помогло преодолеть порог в RMSE = 12 на лидерборде;\n",
        "*   Построенные графики в рамках Feature Selection помогли нам отобрать лучшие признаки, по итогам 6 разных методов мы это и сделали;\n",
        "*   Благодаря графику распределения целевой переменной, мы определили логнормальный характер распределения, однако логарифмирование не дало требуемых результатов, скорее всего, потому что мы теряли часть важных данных.\n",
        "\n"
      ],
      "metadata": {
        "id": "762M4tJsKr-F"
      }
    }
  ]
}